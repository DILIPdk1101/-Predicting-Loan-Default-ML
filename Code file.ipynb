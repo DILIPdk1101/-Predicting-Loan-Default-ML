{
 "cells": [
  {
   "cell_type": "code",
   "execution_count": 1,
   "metadata": {
    "id": "OzayRX2dW8rd"
   },
   "outputs": [],
   "source": [
    "import pandas as pd\n",
    "\n",
    "df = pd.read_csv('Data_Train.csv')"
   ]
  },
  {
   "cell_type": "code",
   "execution_count": 2,
   "metadata": {
    "colab": {
     "base_uri": "https://localhost:8080/"
    },
    "id": "N4KPE6ofNinQ",
    "outputId": "70e79a75-9bd4-4ca3-a72d-dc0505b273ce"
   },
   "outputs": [
    {
     "ename": "ModuleNotFoundError",
     "evalue": "No module named 'google.colab'",
     "output_type": "error",
     "traceback": [
      "\u001b[1;31m---------------------------------------------------------------------------\u001b[0m",
      "\u001b[1;31mModuleNotFoundError\u001b[0m                       Traceback (most recent call last)",
      "Input \u001b[1;32mIn [2]\u001b[0m, in \u001b[0;36m<cell line: 1>\u001b[1;34m()\u001b[0m\n\u001b[1;32m----> 1\u001b[0m \u001b[38;5;28;01mfrom\u001b[39;00m \u001b[38;5;21;01mgoogle\u001b[39;00m\u001b[38;5;21;01m.\u001b[39;00m\u001b[38;5;21;01mcolab\u001b[39;00m \u001b[38;5;28;01mimport\u001b[39;00m drive\n\u001b[0;32m      2\u001b[0m drive\u001b[38;5;241m.\u001b[39mmount(\u001b[38;5;124m'\u001b[39m\u001b[38;5;124m/content/drive\u001b[39m\u001b[38;5;124m'\u001b[39m)\n",
      "\u001b[1;31mModuleNotFoundError\u001b[0m: No module named 'google.colab'"
     ]
    }
   ],
   "source": [
    "from google.colab import drive\n",
    "drive.mount('/content/drive')"
   ]
  },
  {
   "cell_type": "code",
   "execution_count": 2,
   "metadata": {
    "colab": {
     "base_uri": "https://localhost:8080/",
     "height": 236
    },
    "id": "EeTW2i9nAzvt",
    "outputId": "c523ce0c-e2f6-48d9-82d1-041fad6c8e7a"
   },
   "outputs": [
    {
     "data": {
      "text/html": [
       "<div>\n",
       "<style scoped>\n",
       "    .dataframe tbody tr th:only-of-type {\n",
       "        vertical-align: middle;\n",
       "    }\n",
       "\n",
       "    .dataframe tbody tr th {\n",
       "        vertical-align: top;\n",
       "    }\n",
       "\n",
       "    .dataframe thead th {\n",
       "        text-align: right;\n",
       "    }\n",
       "</style>\n",
       "<table border=\"1\" class=\"dataframe\">\n",
       "  <thead>\n",
       "    <tr style=\"text-align: right;\">\n",
       "      <th></th>\n",
       "      <th>ID</th>\n",
       "      <th>Asst_Reg</th>\n",
       "      <th>GGGrade</th>\n",
       "      <th>Experience</th>\n",
       "      <th>Validation</th>\n",
       "      <th>Yearly_Income</th>\n",
       "      <th>Home_Status</th>\n",
       "      <th>Unpaid_2_years</th>\n",
       "      <th>Already_Defaulted</th>\n",
       "      <th>Designation</th>\n",
       "      <th>...</th>\n",
       "      <th>File_Status</th>\n",
       "      <th>State</th>\n",
       "      <th>Account_Open</th>\n",
       "      <th>Total_Unpaid_CL</th>\n",
       "      <th>Duration</th>\n",
       "      <th>Unpaid_Amount</th>\n",
       "      <th>Reason</th>\n",
       "      <th>Claim_Type</th>\n",
       "      <th>Due_Fee</th>\n",
       "      <th>Default</th>\n",
       "    </tr>\n",
       "  </thead>\n",
       "  <tbody>\n",
       "    <tr>\n",
       "      <th>0</th>\n",
       "      <td>95074</td>\n",
       "      <td>421802</td>\n",
       "      <td>II</td>\n",
       "      <td>&gt;10yrs</td>\n",
       "      <td>Vfied</td>\n",
       "      <td>633600.00</td>\n",
       "      <td>MORTGAGE</td>\n",
       "      <td>0</td>\n",
       "      <td>0</td>\n",
       "      <td>GLENDALE NISSAN</td>\n",
       "      <td>...</td>\n",
       "      <td>fully paid</td>\n",
       "      <td>California</td>\n",
       "      <td>17</td>\n",
       "      <td>58598.0</td>\n",
       "      <td>3 years</td>\n",
       "      <td>31216.05</td>\n",
       "      <td>debt  consolidation</td>\n",
       "      <td>I</td>\n",
       "      <td>0.0</td>\n",
       "      <td>0</td>\n",
       "    </tr>\n",
       "    <tr>\n",
       "      <th>1</th>\n",
       "      <td>134131</td>\n",
       "      <td>3964312</td>\n",
       "      <td>IV</td>\n",
       "      <td>7yrs</td>\n",
       "      <td>Source Verified</td>\n",
       "      <td>85483.20</td>\n",
       "      <td>RENT</td>\n",
       "      <td>0</td>\n",
       "      <td>0</td>\n",
       "      <td>Business Teacher</td>\n",
       "      <td>...</td>\n",
       "      <td>whole</td>\n",
       "      <td>NC</td>\n",
       "      <td>15</td>\n",
       "      <td>18924.0</td>\n",
       "      <td>5 years</td>\n",
       "      <td>11660.49</td>\n",
       "      <td>debt  consolidation</td>\n",
       "      <td>I</td>\n",
       "      <td>0.0</td>\n",
       "      <td>0</td>\n",
       "    </tr>\n",
       "    <tr>\n",
       "      <th>2</th>\n",
       "      <td>92602</td>\n",
       "      <td>4247560</td>\n",
       "      <td>III</td>\n",
       "      <td>&lt;1yr</td>\n",
       "      <td>Source Verified</td>\n",
       "      <td>79200.00</td>\n",
       "      <td>RENT</td>\n",
       "      <td>0</td>\n",
       "      <td>0</td>\n",
       "      <td>driver</td>\n",
       "      <td>...</td>\n",
       "      <td>whole</td>\n",
       "      <td>Florida</td>\n",
       "      <td>7</td>\n",
       "      <td>15604.0</td>\n",
       "      <td>5 years</td>\n",
       "      <td>5637.87</td>\n",
       "      <td>major  purchase</td>\n",
       "      <td>I</td>\n",
       "      <td>0.0</td>\n",
       "      <td>0</td>\n",
       "    </tr>\n",
       "    <tr>\n",
       "      <th>3</th>\n",
       "      <td>22591</td>\n",
       "      <td>197179</td>\n",
       "      <td>III</td>\n",
       "      <td>&lt;1yr</td>\n",
       "      <td>Vfied</td>\n",
       "      <td>61600.00</td>\n",
       "      <td>RENT</td>\n",
       "      <td>0</td>\n",
       "      <td>0</td>\n",
       "      <td>AvePoint</td>\n",
       "      <td>...</td>\n",
       "      <td>fully paid</td>\n",
       "      <td>NewJersey</td>\n",
       "      <td>9</td>\n",
       "      <td>22410.0</td>\n",
       "      <td>3 years</td>\n",
       "      <td>15607.17</td>\n",
       "      <td>major  purchase</td>\n",
       "      <td>I</td>\n",
       "      <td>0.0</td>\n",
       "      <td>1</td>\n",
       "    </tr>\n",
       "    <tr>\n",
       "      <th>4</th>\n",
       "      <td>125060</td>\n",
       "      <td>4646684</td>\n",
       "      <td>V</td>\n",
       "      <td>2yrs</td>\n",
       "      <td>Source Verified</td>\n",
       "      <td>68053.92</td>\n",
       "      <td>RENT</td>\n",
       "      <td>0</td>\n",
       "      <td>0</td>\n",
       "      <td>Lead Tester</td>\n",
       "      <td>...</td>\n",
       "      <td>fully paid</td>\n",
       "      <td>LA</td>\n",
       "      <td>10</td>\n",
       "      <td>36022.0</td>\n",
       "      <td>5 years</td>\n",
       "      <td>27472.86</td>\n",
       "      <td>debt  consolidation</td>\n",
       "      <td>I</td>\n",
       "      <td>0.0</td>\n",
       "      <td>0</td>\n",
       "    </tr>\n",
       "  </tbody>\n",
       "</table>\n",
       "<p>5 rows × 30 columns</p>\n",
       "</div>"
      ],
      "text/plain": [
       "       ID  Asst_Reg GGGrade Experience       Validation  Yearly_Income  \\\n",
       "0   95074    421802      II     >10yrs            Vfied      633600.00   \n",
       "1  134131   3964312      IV       7yrs  Source Verified       85483.20   \n",
       "2   92602   4247560     III       <1yr  Source Verified       79200.00   \n",
       "3   22591    197179     III       <1yr            Vfied       61600.00   \n",
       "4  125060   4646684       V       2yrs  Source Verified       68053.92   \n",
       "\n",
       "  Home_Status  Unpaid_2_years  Already_Defaulted       Designation  ...  \\\n",
       "0    MORTGAGE               0                  0   GLENDALE NISSAN  ...   \n",
       "1        RENT               0                  0  Business Teacher  ...   \n",
       "2        RENT               0                  0            driver  ...   \n",
       "3        RENT               0                  0          AvePoint  ...   \n",
       "4        RENT               0                  0       Lead Tester  ...   \n",
       "\n",
       "   File_Status       State  Account_Open  Total_Unpaid_CL  Duration  \\\n",
       "0   fully paid  California            17          58598.0   3 years   \n",
       "1        whole          NC            15          18924.0   5 years   \n",
       "2        whole     Florida             7          15604.0   5 years   \n",
       "3   fully paid   NewJersey             9          22410.0   3 years   \n",
       "4   fully paid          LA            10          36022.0   5 years   \n",
       "\n",
       "   Unpaid_Amount               Reason  Claim_Type  Due_Fee  Default  \n",
       "0       31216.05  debt  consolidation           I      0.0        0  \n",
       "1       11660.49  debt  consolidation           I      0.0        0  \n",
       "2        5637.87      major  purchase           I      0.0        0  \n",
       "3       15607.17      major  purchase           I      0.0        1  \n",
       "4       27472.86  debt  consolidation           I      0.0        0  \n",
       "\n",
       "[5 rows x 30 columns]"
      ]
     },
     "execution_count": 2,
     "metadata": {},
     "output_type": "execute_result"
    }
   ],
   "source": [
    "df.head()"
   ]
  },
  {
   "cell_type": "markdown",
   "metadata": {
    "id": "CzwzxMNWCc88"
   },
   "source": [
    "# **Exploratory Data Analysis **"
   ]
  },
  {
   "cell_type": "markdown",
   "metadata": {
    "id": "nXKWAXmLCirS"
   },
   "source": [
    "# Variable Description:\n",
    "\n",
    "ID: Unique ID\n",
    "\n",
    "Asst_Reg: Value of all the assets registered under the borrowers name\n",
    "\n",
    "GGGrade: Grant Group Grade\n",
    "\n",
    "Experience: Total year of work experience of the borrower\n",
    "\n",
    "Validation: Validation status of the borrower\n",
    "\n",
    "Yearly Income : Total yearly income of the borrower\n",
    "\n",
    "Home Status: Borrower living status\n",
    "\n",
    "Unpaid 2 years : No. of times the Borrower has defaulted in last two years\n",
    "\n",
    "Defaulted : Number of other loans the borrower was default\"\n",
    "\n",
    "Designation : Designation of Borrower\n",
    "\n",
    "Debt to Income : Debt to Income ratio\n",
    "\n",
    "Postal Code : Postal code of borrower\n",
    "\n",
    "Lend Amount : Total funded amount to borrower\n",
    "\n",
    "\n",
    "Records: An entry that may be considered negative by lenders because it indicates risk and\n",
    "hurts your ability to qualify for credit or other services\"\n",
    "\n",
    "Interest Charged : Interest charged on total amount\n",
    "\n",
    "Usage Rate: Processing Charges on the Loan Amount\n",
    "\n",
    "Inquiries: Inquiries in Last 6 Months\n",
    "\n",
    "Present Balance: Current balance in the borrower account\n",
    "\n",
    "Gross Collection: The gross amount payable by way of Settlement or judgment in respect of the Claims, excluding any costs\n",
    "\n",
    "Sub GGGrade: Sub Grant Group Grade\n",
    "\n",
    "File Status: Status of the loan file\n",
    "\n",
    "State: State to which borrower belong\n",
    "\n",
    "Account Open: Total number of open accounts in the name of Borrower\n",
    "\n",
    "Total Unpaid CL: Unpaid dues on all the other loans\n",
    "\n",
    "Duration: Duration for the amount is funded to borrower\n",
    "\n",
    "Unpaid Amount: Unpaid balance on the credit card\n",
    "\n",
    "Reason: Reason for loan application\n",
    "\n",
    "Claim Type: Amongst all Application type what is the borrower Claim Type\n",
    "I - Individual Account , J - Joint Account\"\n",
    "\n",
    "Due Fee: Charges incurred if the payment on loan amount is delayed\n",
    "\n",
    "Loan/No Loan: Target Variable"
   ]
  },
  {
   "cell_type": "markdown",
   "metadata": {
    "id": "vggD4OhMDNAQ"
   },
   "source": [
    "# Understanding dataset:"
   ]
  },
  {
   "cell_type": "code",
   "execution_count": 3,
   "metadata": {
    "colab": {
     "base_uri": "https://localhost:8080/"
    },
    "id": "QjpaYqNQAz8J",
    "outputId": "8010794d-867c-4cde-ae71-822fcfc0439d"
   },
   "outputs": [
    {
     "name": "stdout",
     "output_type": "stream",
     "text": [
      "Original dataset shape: (87500, 30)\n"
     ]
    }
   ],
   "source": [
    "print(\"Original dataset shape:\", df.shape)"
   ]
  },
  {
   "cell_type": "code",
   "execution_count": 4,
   "metadata": {
    "colab": {
     "base_uri": "https://localhost:8080/",
     "height": 1000
    },
    "id": "1N8yx-G9A0Bh",
    "outputId": "333fe001-23a2-42b7-8623-f80f36aad855"
   },
   "outputs": [
    {
     "data": {
      "text/plain": [
       "ID                       int64\n",
       "Asst_Reg                 int64\n",
       "GGGrade                 object\n",
       "Experience              object\n",
       "Validation              object\n",
       "Yearly_Income          float64\n",
       "Home_Status             object\n",
       "Unpaid_2_years           int64\n",
       "Already_Defaulted        int64\n",
       "Designation             object\n",
       "Debt_to_Income         float64\n",
       "Postal_Code            float64\n",
       "Lend_Amount            float64\n",
       "Deprecatory_Records      int64\n",
       "Interest_Charged       float64\n",
       "Usage_Rate             float64\n",
       "Inquiries                int64\n",
       "Present_Balance        float64\n",
       "Gross_Collection       float64\n",
       "Sub_GGGrade              int64\n",
       "File_Status             object\n",
       "State                   object\n",
       "Account_Open             int64\n",
       "Total_Unpaid_CL        float64\n",
       "Duration                object\n",
       "Unpaid_Amount          float64\n",
       "Reason                  object\n",
       "Claim_Type              object\n",
       "Due_Fee                float64\n",
       "Default                  int64\n",
       "dtype: object"
      ]
     },
     "execution_count": 4,
     "metadata": {},
     "output_type": "execute_result"
    }
   ],
   "source": [
    "# Checking data types of each features in our data\n",
    "df.dtypes"
   ]
  },
  {
   "cell_type": "markdown",
   "metadata": {
    "id": "_ehWN0wlE-X3"
   },
   "source": [
    " The raw dataset contains 30 features in which 20 features are in numerical datatype and 10\n",
    " features are in object datatype."
   ]
  },
  {
   "cell_type": "code",
   "execution_count": 5,
   "metadata": {
    "colab": {
     "base_uri": "https://localhost:8080/",
     "height": 1000
    },
    "id": "yIkhWeGKEuJT",
    "outputId": "86f8033a-b43d-44c9-ab01-fe51bc600535",
    "scrolled": true
   },
   "outputs": [
    {
     "data": {
      "text/plain": [
       "ID                        0\n",
       "Asst_Reg                  0\n",
       "GGGrade                   0\n",
       "Experience                0\n",
       "Validation                0\n",
       "Yearly_Income          5575\n",
       "Home_Status               0\n",
       "Unpaid_2_years            0\n",
       "Already_Defaulted         0\n",
       "Designation            1414\n",
       "Debt_to_Income         3489\n",
       "Postal_Code            1389\n",
       "Lend_Amount               0\n",
       "Deprecatory_Records       0\n",
       "Interest_Charged          0\n",
       "Usage_Rate                0\n",
       "Inquiries                 0\n",
       "Present_Balance           0\n",
       "Gross_Collection          0\n",
       "Sub_GGGrade               0\n",
       "File_Status               0\n",
       "State                     0\n",
       "Account_Open              0\n",
       "Total_Unpaid_CL        4186\n",
       "Duration                  0\n",
       "Unpaid_Amount          4852\n",
       "Reason                    0\n",
       "Claim_Type                0\n",
       "Due_Fee                   0\n",
       "Default                   0\n",
       "dtype: int64"
      ]
     },
     "execution_count": 5,
     "metadata": {},
     "output_type": "execute_result"
    }
   ],
   "source": [
    "# Checking for null values\n",
    "df.isnull().sum()"
   ]
  },
  {
   "cell_type": "code",
   "execution_count": 6,
   "metadata": {},
   "outputs": [
    {
     "name": "stdout",
     "output_type": "stream",
     "text": [
      "Yearly_Income 6.37143 % missing values\n",
      "Designation 1.616 % missing values\n",
      "Debt_to_Income 3.98743 % missing values\n",
      "Postal_Code 1.58743 % missing values\n",
      "Total_Unpaid_CL 4.784 % missing values\n",
      "Unpaid_Amount 5.54514 % missing values\n"
     ]
    }
   ],
   "source": [
    "import numpy as np\n",
    "\n",
    "## Check Misssing Values\n",
    "##these are the features with nan value\n",
    "features_with_na=[features for features in df.columns if df[features].isnull().sum()>=1]\n",
    "for feature in features_with_na:\n",
    "    print(feature,np.round(df[feature].isnull().mean()*100,5), '% missing values')"
   ]
  },
  {
   "cell_type": "markdown",
   "metadata": {},
   "source": [
    "# HANDLING MISSING VALUE"
   ]
  },
  {
   "cell_type": "code",
   "execution_count": 7,
   "metadata": {},
   "outputs": [],
   "source": [
    "# Median imputation for numerical variables\n",
    "df['Yearly_Income'].fillna(df['Yearly_Income'].median(), inplace=True)\n",
    "df['Debt_to_Income'].fillna(df['Debt_to_Income'].median(), inplace=True)\n",
    "df['Total_Unpaid_CL'].fillna(df['Total_Unpaid_CL'].median(), inplace=True)\n",
    "df['Unpaid_Amount'].fillna(df['Unpaid_Amount'].median(), inplace=True)\n",
    "\n",
    "# Mode imputation for categorical variables\n",
    "df['Designation'].fillna(df['Designation'].mode()[0], inplace=True)\n",
    "df['Postal_Code'].fillna(df['Postal_Code'].mode()[0], inplace=True)\n"
   ]
  },
  {
   "cell_type": "code",
   "execution_count": 8,
   "metadata": {},
   "outputs": [
    {
     "name": "stdout",
     "output_type": "stream",
     "text": [
      "ID                     0\n",
      "Asst_Reg               0\n",
      "GGGrade                0\n",
      "Experience             0\n",
      "Validation             0\n",
      "Yearly_Income          0\n",
      "Home_Status            0\n",
      "Unpaid_2_years         0\n",
      "Already_Defaulted      0\n",
      "Designation            0\n",
      "Debt_to_Income         0\n",
      "Postal_Code            0\n",
      "Lend_Amount            0\n",
      "Deprecatory_Records    0\n",
      "Interest_Charged       0\n",
      "Usage_Rate             0\n",
      "Inquiries              0\n",
      "Present_Balance        0\n",
      "Gross_Collection       0\n",
      "Sub_GGGrade            0\n",
      "File_Status            0\n",
      "State                  0\n",
      "Account_Open           0\n",
      "Total_Unpaid_CL        0\n",
      "Duration               0\n",
      "Unpaid_Amount          0\n",
      "Reason                 0\n",
      "Claim_Type             0\n",
      "Due_Fee                0\n",
      "Default                0\n",
      "dtype: int64\n"
     ]
    }
   ],
   "source": [
    "print(df.isnull().sum())\n"
   ]
  },
  {
   "cell_type": "code",
   "execution_count": null,
   "metadata": {},
   "outputs": [],
   "source": []
  },
  {
   "cell_type": "code",
   "execution_count": null,
   "metadata": {},
   "outputs": [],
   "source": []
  },
  {
   "cell_type": "code",
   "execution_count": 9,
   "metadata": {
    "colab": {
     "base_uri": "https://localhost:8080/"
    },
    "id": "KrtNtEVnFOwv",
    "outputId": "de408ec8-078b-4772-99c5-034b8ed5d332"
   },
   "outputs": [
    {
     "name": "stdout",
     "output_type": "stream",
     "text": [
      "Total null values in the dataset: 0\n"
     ]
    }
   ],
   "source": [
    " print(\"Total null values in the dataset:\",df.isnull().sum().sum())"
   ]
  },
  {
   "cell_type": "code",
   "execution_count": 10,
   "metadata": {
    "colab": {
     "base_uri": "https://localhost:8080/"
    },
    "id": "V-Yf-2HIFnkj",
    "outputId": "cea4e10e-7b93-46d9-8b6e-4adc9fbc6503"
   },
   "outputs": [
    {
     "name": "stdout",
     "output_type": "stream",
     "text": [
      "There is no duplicate values in the data.\n"
     ]
    }
   ],
   "source": [
    "# Checking for Duplicates values:\n",
    "if df.duplicated().any():\n",
    " print('There is duplicate values in the data.')\n",
    "else:\n",
    " print('There is no duplicate values in the data.')"
   ]
  },
  {
   "cell_type": "markdown",
   "metadata": {
    "id": "dnZbylc0HABt"
   },
   "source": [
    "# **Univariate Analysis**"
   ]
  },
  {
   "cell_type": "code",
   "execution_count": 11,
   "metadata": {
    "colab": {
     "base_uri": "https://localhost:8080/",
     "height": 320
    },
    "id": "rlfL--UYFtyu",
    "outputId": "a78c02cd-368c-437c-b023-1e59fd294f7d"
   },
   "outputs": [
    {
     "data": {
      "text/html": [
       "<div>\n",
       "<style scoped>\n",
       "    .dataframe tbody tr th:only-of-type {\n",
       "        vertical-align: middle;\n",
       "    }\n",
       "\n",
       "    .dataframe tbody tr th {\n",
       "        vertical-align: top;\n",
       "    }\n",
       "\n",
       "    .dataframe thead th {\n",
       "        text-align: right;\n",
       "    }\n",
       "</style>\n",
       "<table border=\"1\" class=\"dataframe\">\n",
       "  <thead>\n",
       "    <tr style=\"text-align: right;\">\n",
       "      <th></th>\n",
       "      <th>ID</th>\n",
       "      <th>Asst_Reg</th>\n",
       "      <th>Yearly_Income</th>\n",
       "      <th>Unpaid_2_years</th>\n",
       "      <th>Already_Defaulted</th>\n",
       "      <th>Debt_to_Income</th>\n",
       "      <th>Postal_Code</th>\n",
       "      <th>Lend_Amount</th>\n",
       "      <th>Deprecatory_Records</th>\n",
       "      <th>Interest_Charged</th>\n",
       "      <th>Usage_Rate</th>\n",
       "      <th>Inquiries</th>\n",
       "      <th>Present_Balance</th>\n",
       "      <th>Gross_Collection</th>\n",
       "      <th>Sub_GGGrade</th>\n",
       "      <th>Account_Open</th>\n",
       "      <th>Total_Unpaid_CL</th>\n",
       "      <th>Unpaid_Amount</th>\n",
       "      <th>Due_Fee</th>\n",
       "      <th>Default</th>\n",
       "    </tr>\n",
       "  </thead>\n",
       "  <tbody>\n",
       "    <tr>\n",
       "      <th>count</th>\n",
       "      <td>87500.00</td>\n",
       "      <td>87500.00</td>\n",
       "      <td>87500.00</td>\n",
       "      <td>87500.00</td>\n",
       "      <td>87500.00</td>\n",
       "      <td>87500.00</td>\n",
       "      <td>87500.00</td>\n",
       "      <td>87500.00</td>\n",
       "      <td>87500.00</td>\n",
       "      <td>87500.00</td>\n",
       "      <td>87500.00</td>\n",
       "      <td>87500.00</td>\n",
       "      <td>87500.00</td>\n",
       "      <td>87500.00</td>\n",
       "      <td>87500.00</td>\n",
       "      <td>87500.00</td>\n",
       "      <td>87500.00</td>\n",
       "      <td>87500.00</td>\n",
       "      <td>87500.00</td>\n",
       "      <td>87500.00</td>\n",
       "    </tr>\n",
       "    <tr>\n",
       "      <th>mean</th>\n",
       "      <td>83946.25</td>\n",
       "      <td>3798914.12</td>\n",
       "      <td>133556.06</td>\n",
       "      <td>0.33</td>\n",
       "      <td>0.01</td>\n",
       "      <td>30.91</td>\n",
       "      <td>51533.90</td>\n",
       "      <td>25920.54</td>\n",
       "      <td>0.20</td>\n",
       "      <td>16.52</td>\n",
       "      <td>95.52</td>\n",
       "      <td>0.67</td>\n",
       "      <td>236389.46</td>\n",
       "      <td>39.46</td>\n",
       "      <td>22.02</td>\n",
       "      <td>12.78</td>\n",
       "      <td>52618.27</td>\n",
       "      <td>29076.08</td>\n",
       "      <td>0.32</td>\n",
       "      <td>0.19</td>\n",
       "    </tr>\n",
       "    <tr>\n",
       "      <th>std</th>\n",
       "      <td>36100.10</td>\n",
       "      <td>2289038.08</td>\n",
       "      <td>95755.09</td>\n",
       "      <td>0.88</td>\n",
       "      <td>0.08</td>\n",
       "      <td>13.80</td>\n",
       "      <td>31105.62</td>\n",
       "      <td>14433.84</td>\n",
       "      <td>0.65</td>\n",
       "      <td>4.90</td>\n",
       "      <td>40.55</td>\n",
       "      <td>0.96</td>\n",
       "      <td>255056.78</td>\n",
       "      <td>391.92</td>\n",
       "      <td>6.45</td>\n",
       "      <td>5.37</td>\n",
       "      <td>52046.95</td>\n",
       "      <td>36456.88</td>\n",
       "      <td>3.55</td>\n",
       "      <td>0.39</td>\n",
       "    </tr>\n",
       "    <tr>\n",
       "      <th>min</th>\n",
       "      <td>21560.00</td>\n",
       "      <td>24847.00</td>\n",
       "      <td>8800.00</td>\n",
       "      <td>0.00</td>\n",
       "      <td>0.00</td>\n",
       "      <td>0.00</td>\n",
       "      <td>1000.00</td>\n",
       "      <td>1710.00</td>\n",
       "      <td>0.00</td>\n",
       "      <td>8.00</td>\n",
       "      <td>0.00</td>\n",
       "      <td>0.00</td>\n",
       "      <td>0.00</td>\n",
       "      <td>0.00</td>\n",
       "      <td>11.00</td>\n",
       "      <td>2.00</td>\n",
       "      <td>332.00</td>\n",
       "      <td>0.00</td>\n",
       "      <td>0.00</td>\n",
       "      <td>0.00</td>\n",
       "    </tr>\n",
       "    <tr>\n",
       "      <th>25%</th>\n",
       "      <td>52616.75</td>\n",
       "      <td>1483874.25</td>\n",
       "      <td>86240.00</td>\n",
       "      <td>0.00</td>\n",
       "      <td>0.00</td>\n",
       "      <td>20.85</td>\n",
       "      <td>23200.00</td>\n",
       "      <td>15048.00</td>\n",
       "      <td>0.00</td>\n",
       "      <td>12.31</td>\n",
       "      <td>66.05</td>\n",
       "      <td>0.00</td>\n",
       "      <td>51734.93</td>\n",
       "      <td>0.00</td>\n",
       "      <td>17.00</td>\n",
       "      <td>9.00</td>\n",
       "      <td>24070.00</td>\n",
       "      <td>11949.48</td>\n",
       "      <td>0.00</td>\n",
       "      <td>0.00</td>\n",
       "    </tr>\n",
       "    <tr>\n",
       "      <th>50%</th>\n",
       "      <td>83900.00</td>\n",
       "      <td>4132010.50</td>\n",
       "      <td>114400.00</td>\n",
       "      <td>0.00</td>\n",
       "      <td>0.00</td>\n",
       "      <td>30.14</td>\n",
       "      <td>48100.00</td>\n",
       "      <td>23940.00</td>\n",
       "      <td>0.00</td>\n",
       "      <td>16.49</td>\n",
       "      <td>97.01</td>\n",
       "      <td>0.00</td>\n",
       "      <td>138806.22</td>\n",
       "      <td>0.00</td>\n",
       "      <td>21.00</td>\n",
       "      <td>12.00</td>\n",
       "      <td>39674.00</td>\n",
       "      <td>20892.78</td>\n",
       "      <td>0.00</td>\n",
       "      <td>0.00</td>\n",
       "    </tr>\n",
       "    <tr>\n",
       "      <th>75%</th>\n",
       "      <td>115261.25</td>\n",
       "      <td>5952908.75</td>\n",
       "      <td>158400.00</td>\n",
       "      <td>0.00</td>\n",
       "      <td>0.00</td>\n",
       "      <td>40.40</td>\n",
       "      <td>80100.00</td>\n",
       "      <td>34200.00</td>\n",
       "      <td>0.00</td>\n",
       "      <td>20.77</td>\n",
       "      <td>126.59</td>\n",
       "      <td>1.00</td>\n",
       "      <td>353475.54</td>\n",
       "      <td>0.00</td>\n",
       "      <td>26.00</td>\n",
       "      <td>16.00</td>\n",
       "      <td>64408.00</td>\n",
       "      <td>35096.04</td>\n",
       "      <td>0.00</td>\n",
       "      <td>0.00</td>\n",
       "    </tr>\n",
       "    <tr>\n",
       "      <th>max</th>\n",
       "      <td>146559.00</td>\n",
       "      <td>7351847.00</td>\n",
       "      <td>8264030.72</td>\n",
       "      <td>18.00</td>\n",
       "      <td>6.00</td>\n",
       "      <td>639.29</td>\n",
       "      <td>99900.00</td>\n",
       "      <td>59850.00</td>\n",
       "      <td>86.00</td>\n",
       "      <td>25.00</td>\n",
       "      <td>1534.76</td>\n",
       "      <td>8.00</td>\n",
       "      <td>5629234.33</td>\n",
       "      <td>26308.47</td>\n",
       "      <td>45.00</td>\n",
       "      <td>83.00</td>\n",
       "      <td>1710630.00</td>\n",
       "      <td>1338777.81</td>\n",
       "      <td>169.05</td>\n",
       "      <td>1.00</td>\n",
       "    </tr>\n",
       "  </tbody>\n",
       "</table>\n",
       "</div>"
      ],
      "text/plain": [
       "              ID    Asst_Reg  Yearly_Income  Unpaid_2_years  \\\n",
       "count   87500.00    87500.00       87500.00        87500.00   \n",
       "mean    83946.25  3798914.12      133556.06            0.33   \n",
       "std     36100.10  2289038.08       95755.09            0.88   \n",
       "min     21560.00    24847.00        8800.00            0.00   \n",
       "25%     52616.75  1483874.25       86240.00            0.00   \n",
       "50%     83900.00  4132010.50      114400.00            0.00   \n",
       "75%    115261.25  5952908.75      158400.00            0.00   \n",
       "max    146559.00  7351847.00     8264030.72           18.00   \n",
       "\n",
       "       Already_Defaulted  Debt_to_Income  Postal_Code  Lend_Amount  \\\n",
       "count           87500.00        87500.00     87500.00     87500.00   \n",
       "mean                0.01           30.91     51533.90     25920.54   \n",
       "std                 0.08           13.80     31105.62     14433.84   \n",
       "min                 0.00            0.00      1000.00      1710.00   \n",
       "25%                 0.00           20.85     23200.00     15048.00   \n",
       "50%                 0.00           30.14     48100.00     23940.00   \n",
       "75%                 0.00           40.40     80100.00     34200.00   \n",
       "max                 6.00          639.29     99900.00     59850.00   \n",
       "\n",
       "       Deprecatory_Records  Interest_Charged  Usage_Rate  Inquiries  \\\n",
       "count             87500.00          87500.00    87500.00   87500.00   \n",
       "mean                  0.20             16.52       95.52       0.67   \n",
       "std                   0.65              4.90       40.55       0.96   \n",
       "min                   0.00              8.00        0.00       0.00   \n",
       "25%                   0.00             12.31       66.05       0.00   \n",
       "50%                   0.00             16.49       97.01       0.00   \n",
       "75%                   0.00             20.77      126.59       1.00   \n",
       "max                  86.00             25.00     1534.76       8.00   \n",
       "\n",
       "       Present_Balance  Gross_Collection  Sub_GGGrade  Account_Open  \\\n",
       "count         87500.00          87500.00     87500.00      87500.00   \n",
       "mean         236389.46             39.46        22.02         12.78   \n",
       "std          255056.78            391.92         6.45          5.37   \n",
       "min               0.00              0.00        11.00          2.00   \n",
       "25%           51734.93              0.00        17.00          9.00   \n",
       "50%          138806.22              0.00        21.00         12.00   \n",
       "75%          353475.54              0.00        26.00         16.00   \n",
       "max         5629234.33          26308.47        45.00         83.00   \n",
       "\n",
       "       Total_Unpaid_CL  Unpaid_Amount   Due_Fee   Default  \n",
       "count         87500.00       87500.00  87500.00  87500.00  \n",
       "mean          52618.27       29076.08      0.32      0.19  \n",
       "std           52046.95       36456.88      3.55      0.39  \n",
       "min             332.00           0.00      0.00      0.00  \n",
       "25%           24070.00       11949.48      0.00      0.00  \n",
       "50%           39674.00       20892.78      0.00      0.00  \n",
       "75%           64408.00       35096.04      0.00      0.00  \n",
       "max         1710630.00     1338777.81    169.05      1.00  "
      ]
     },
     "execution_count": 11,
     "metadata": {},
     "output_type": "execute_result"
    }
   ],
   "source": [
    "# Univariate Analysis of all numerical columns in dataset\n",
    "df.describe().round(2)"
   ]
  },
  {
   "cell_type": "code",
   "execution_count": 12,
   "metadata": {
    "colab": {
     "base_uri": "https://localhost:8080/",
     "height": 363
    },
    "id": "ftsZIjBVHExI",
    "outputId": "b2915e31-7d1f-43b9-c081-f20f8c308a59"
   },
   "outputs": [
    {
     "data": {
      "text/html": [
       "<div>\n",
       "<style scoped>\n",
       "    .dataframe tbody tr th:only-of-type {\n",
       "        vertical-align: middle;\n",
       "    }\n",
       "\n",
       "    .dataframe tbody tr th {\n",
       "        vertical-align: top;\n",
       "    }\n",
       "\n",
       "    .dataframe thead th {\n",
       "        text-align: right;\n",
       "    }\n",
       "</style>\n",
       "<table border=\"1\" class=\"dataframe\">\n",
       "  <thead>\n",
       "    <tr style=\"text-align: right;\">\n",
       "      <th></th>\n",
       "      <th>count</th>\n",
       "      <th>unique</th>\n",
       "      <th>top</th>\n",
       "      <th>freq</th>\n",
       "    </tr>\n",
       "  </thead>\n",
       "  <tbody>\n",
       "    <tr>\n",
       "      <th>GGGrade</th>\n",
       "      <td>87500</td>\n",
       "      <td>7</td>\n",
       "      <td>II</td>\n",
       "      <td>24966</td>\n",
       "    </tr>\n",
       "    <tr>\n",
       "      <th>Experience</th>\n",
       "      <td>87500</td>\n",
       "      <td>11</td>\n",
       "      <td>&gt;10yrs</td>\n",
       "      <td>30849</td>\n",
       "    </tr>\n",
       "    <tr>\n",
       "      <th>Validation</th>\n",
       "      <td>87500</td>\n",
       "      <td>3</td>\n",
       "      <td>Source Verified</td>\n",
       "      <td>34504</td>\n",
       "    </tr>\n",
       "    <tr>\n",
       "      <th>Home_Status</th>\n",
       "      <td>87500</td>\n",
       "      <td>5</td>\n",
       "      <td>MORTGAGE</td>\n",
       "      <td>44160</td>\n",
       "    </tr>\n",
       "    <tr>\n",
       "      <th>Designation</th>\n",
       "      <td>87500</td>\n",
       "      <td>40348</td>\n",
       "      <td>School Teacher</td>\n",
       "      <td>2999</td>\n",
       "    </tr>\n",
       "    <tr>\n",
       "      <th>File_Status</th>\n",
       "      <td>87500</td>\n",
       "      <td>2</td>\n",
       "      <td>whole</td>\n",
       "      <td>46300</td>\n",
       "    </tr>\n",
       "    <tr>\n",
       "      <th>State</th>\n",
       "      <td>87500</td>\n",
       "      <td>49</td>\n",
       "      <td>California</td>\n",
       "      <td>12625</td>\n",
       "    </tr>\n",
       "    <tr>\n",
       "      <th>Duration</th>\n",
       "      <td>87500</td>\n",
       "      <td>2</td>\n",
       "      <td>3 years</td>\n",
       "      <td>60061</td>\n",
       "    </tr>\n",
       "    <tr>\n",
       "      <th>Reason</th>\n",
       "      <td>87500</td>\n",
       "      <td>13</td>\n",
       "      <td>debt  consolidation</td>\n",
       "      <td>52559</td>\n",
       "    </tr>\n",
       "    <tr>\n",
       "      <th>Claim_Type</th>\n",
       "      <td>87500</td>\n",
       "      <td>2</td>\n",
       "      <td>I</td>\n",
       "      <td>87454</td>\n",
       "    </tr>\n",
       "  </tbody>\n",
       "</table>\n",
       "</div>"
      ],
      "text/plain": [
       "             count unique                  top   freq\n",
       "GGGrade      87500      7                   II  24966\n",
       "Experience   87500     11               >10yrs  30849\n",
       "Validation   87500      3      Source Verified  34504\n",
       "Home_Status  87500      5             MORTGAGE  44160\n",
       "Designation  87500  40348       School Teacher   2999\n",
       "File_Status  87500      2                whole  46300\n",
       "State        87500     49           California  12625\n",
       "Duration     87500      2              3 years  60061\n",
       "Reason       87500     13  debt  consolidation  52559\n",
       "Claim_Type   87500      2                    I  87454"
      ]
     },
     "execution_count": 12,
     "metadata": {},
     "output_type": "execute_result"
    }
   ],
   "source": [
    "import numpy as np\n",
    "\n",
    "\n",
    "\n",
    "# Getting summary of Non-numerical columns in dataset\n",
    "df.describe(exclude=[np.number]).T"
   ]
  },
  {
   "cell_type": "markdown",
   "metadata": {
    "id": "2dPePAqFKAFZ"
   },
   "source": [
    "# **Analyzing object columns**"
   ]
  },
  {
   "cell_type": "markdown",
   "metadata": {
    "id": "3w7GPWK_K-OH"
   },
   "source": [
    "## GGGrade VS COUNT"
   ]
  },
  {
   "cell_type": "code",
   "execution_count": 13,
   "metadata": {
    "colab": {
     "base_uri": "https://localhost:8080/",
     "height": 335
    },
    "id": "c99IbQo0HqbQ",
    "outputId": "0ed83523-21fd-46e6-d32f-be2b0fc51070"
   },
   "outputs": [
    {
     "data": {
      "text/plain": [
       "II     24966\n",
       "III    24652\n",
       "I      14171\n",
       "IV     13867\n",
       "V       7154\n",
       "VI      2192\n",
       "VII      498\n",
       "Name: GGGrade, dtype: int64"
      ]
     },
     "execution_count": 13,
     "metadata": {},
     "output_type": "execute_result"
    }
   ],
   "source": [
    "df['GGGrade'].value_counts()"
   ]
  },
  {
   "cell_type": "code",
   "execution_count": 14,
   "metadata": {
    "colab": {
     "base_uri": "https://localhost:8080/",
     "height": 651
    },
    "id": "sVshCxIkLHBk",
    "outputId": "934889ac-1918-4e4e-9c5b-275d54f0e9ba"
   },
   "outputs": [
    {
     "name": "stderr",
     "output_type": "stream",
     "text": [
      "C:\\ProgramData\\Anaconda3\\lib\\site-packages\\scipy\\__init__.py:146: UserWarning: A NumPy version >=1.16.5 and <1.23.0 is required for this version of SciPy (detected version 1.26.4\n",
      "  warnings.warn(f\"A NumPy version >={np_minversion} and <{np_maxversion}\"\n"
     ]
    },
    {
     "data": {
      "image/png": "[encoded data removed]",
      "text/plain": [
       "<Figure size 720x432 with 1 Axes>"
      ]
     },
     "metadata": {
      "needs_background": "light"
     },
     "output_type": "display_data"
    }
   ],
   "source": [
    "import matplotlib.pyplot as plt\n",
    "import seaborn as sns\n",
    "\n",
    "\n",
    "plt.figure(figsize=(10, 6))\n",
    "sns.countplot(x='GGGrade', data=df, palette='viridis', order=df['GGGrade'].value_counts().index)\n",
    "plt.title('Distribution of GGGrade')\n",
    "plt.xlabel('GGGrade')\n",
    "plt.ylabel('Count')\n",
    "plt.show()\n"
   ]
  },
  {
   "cell_type": "code",
   "execution_count": 15,
   "metadata": {
    "colab": {
     "base_uri": "https://localhost:8080/",
     "height": 877
    },
    "id": "pY3oJYvdLjck",
    "outputId": "a118d731-74e0-45c4-c718-b2b03a8e64dd"
   },
   "outputs": [
    {
     "name": "stdout",
     "output_type": "stream",
     "text": [
      ">10yrs    30849\n",
      "2yrs       8064\n",
      "3yrs       7350\n",
      "<1yr       7209\n",
      "1yrs       5853\n",
      "5yrs       5623\n",
      "4yrs       5324\n",
      "7yrs       4762\n",
      "8yrs       4604\n",
      "6yrs       4255\n",
      "9yrs       3607\n",
      "Name: Experience, dtype: int64\n"
     ]
    },
    {
     "data": {
      "image/png": "[encoded data removed]",
      "text/plain": [
       "<Figure size 720x432 with 1 Axes>"
      ]
     },
     "metadata": {
      "needs_background": "light"
     },
     "output_type": "display_data"
    }
   ],
   "source": [
    "print(df['Experience'].value_counts())\n",
    "\n",
    "plt.figure(figsize=(10, 6))\n",
    "sns.countplot(x='Experience', data=df, palette='viridis', order=df['Experience'].value_counts().index)\n",
    "plt.title('Distribution of Experience')\n",
    "plt.xlabel('Years')\n",
    "plt.ylabel('Count')\n",
    "plt.show()\n"
   ]
  },
  {
   "cell_type": "code",
   "execution_count": 16,
   "metadata": {
    "colab": {
     "base_uri": "https://localhost:8080/",
     "height": 738
    },
    "id": "i5om0TMoMW58",
    "outputId": "1abd3b25-b3e8-4562-c5df-832adeb7cf7a"
   },
   "outputs": [
    {
     "name": "stdout",
     "output_type": "stream",
     "text": [
      "Source Verified    34504\n",
      "Vfied              26642\n",
      "Not Vfied          26354\n",
      "Name: Validation, dtype: int64\n"
     ]
    },
    {
     "data": {
      "image/png": "[encoded data removed]",
      "text/plain": [
       "<Figure size 720x432 with 1 Axes>"
      ]
     },
     "metadata": {
      "needs_background": "light"
     },
     "output_type": "display_data"
    }
   ],
   "source": [
    "print(df['Validation'].value_counts())\n",
    "\n",
    "plt.figure(figsize=(10, 6))\n",
    "sns.countplot(x='Validation', data=df, palette='viridis', order=df['Validation'].value_counts().index)\n",
    "plt.title('Distribution of Validation')\n",
    "plt.xlabel('Validation')\n",
    "plt.ylabel('Count')\n",
    "plt.show()"
   ]
  },
  {
   "cell_type": "code",
   "execution_count": 17,
   "metadata": {
    "colab": {
     "base_uri": "https://localhost:8080/",
     "height": 772
    },
    "id": "IjCWSEaqM3rp",
    "outputId": "19f2f782-2513-4d53-aa3c-438aa2dcad79"
   },
   "outputs": [
    {
     "name": "stdout",
     "output_type": "stream",
     "text": [
      "MORTGAGE    44160\n",
      "RENT        34914\n",
      "OWN          8416\n",
      "OTHER           6\n",
      "NONE            4\n",
      "Name: Home_Status, dtype: int64\n"
     ]
    },
    {
     "data": {
      "image/png": "[encoded data removed]",
      "text/plain": [
       "<Figure size 720x432 with 1 Axes>"
      ]
     },
     "metadata": {
      "needs_background": "light"
     },
     "output_type": "display_data"
    }
   ],
   "source": [
    "print(df['Home_Status'].value_counts())\n",
    "\n",
    "plt.figure(figsize=(10, 6))\n",
    "sns.countplot(x='Home_Status', data=df, palette='viridis', order=df['Home_Status'].value_counts().index)\n",
    "plt.title('Distribution of Home_Status')\n",
    "plt.xlabel('Home_Status')\n",
    "plt.ylabel('Count')\n",
    "plt.show()"
   ]
  },
  {
   "cell_type": "code",
   "execution_count": 18,
   "metadata": {
    "colab": {
     "base_uri": "https://localhost:8080/"
    },
    "id": "9o4beNxyNLC5",
    "outputId": "d58fe6d7-c385-43da-e93b-ad948a9855ca"
   },
   "outputs": [
    {
     "name": "stdout",
     "output_type": "stream",
     "text": [
      "School Teacher               2999\n",
      "Super Lead                   1322\n",
      "Nurse                         743\n",
      "RN                            646\n",
      "Owner                         623\n",
      "                             ... \n",
      "supply chain                    1\n",
      "B.R. Amon and Sons              1\n",
      "Medical record technician       1\n",
      "Executive Field Assistant       1\n",
      "Outside sales rep               1\n",
      "Name: Designation, Length: 40348, dtype: int64\n"
     ]
    }
   ],
   "source": [
    "print(df['Designation'].value_counts())\n",
    "\n"
   ]
  },
  {
   "cell_type": "markdown",
   "metadata": {
    "id": "svMhg7CkR0NS"
   },
   "source": [
    "Handling invalid records and encoding categorical datatypes will be done later in data\n",
    " preprocessing step."
   ]
  },
  {
   "cell_type": "markdown",
   "metadata": {
    "id": "5Qe4RyXBR2Qa"
   },
   "source": [
    "# **Methodology:**"
   ]
  },
  {
   "cell_type": "markdown",
   "metadata": {
    "id": "vOOMdJ_gR8dL"
   },
   "source": [
    "# **Data Pre-Processing:**\n",
    "\n",
    "Feature engineering:\n",
    "\n",
    "Invalid data entries:\n",
    "\n",
    "Missing values:\n",
    "\n",
    "Outliers:\n",
    "\n",
    "Encoding categorical variables:\n",
    "\n",
    "Standardization and normalization:\n",
    "\n",
    "Dimensionality reduction:\n",
    "\n",
    "Sampling techniques:"
   ]
  },
  {
   "cell_type": "code",
   "execution_count": 19,
   "metadata": {
    "colab": {
     "base_uri": "https://localhost:8080/",
     "height": 490
    },
    "id": "6nfxOHCiPwBQ",
    "outputId": "386502f1-1ca9-47d3-9100-192e05bba286"
   },
   "outputs": [
    {
     "data": {
      "text/plain": [
       "0.00     86511\n",
       "15.00      275\n",
       "30.00       28\n",
       "20.50        4\n",
       "44.03        4\n",
       "         ...  \n",
       "84.92        1\n",
       "28.18        1\n",
       "15.21        1\n",
       "38.02        1\n",
       "18.06        1\n",
       "Name: Due_Fee, Length: 608, dtype: int64"
      ]
     },
     "execution_count": 19,
     "metadata": {},
     "output_type": "execute_result"
    }
   ],
   "source": [
    "df['Due_Fee'].value_counts()"
   ]
  },
  {
   "cell_type": "code",
   "execution_count": 20,
   "metadata": {
    "colab": {
     "base_uri": "https://localhost:8080/",
     "height": 335
    },
    "id": "NLGmO4yHQC1w",
    "outputId": "476f7814-28ff-4495-deee-86ac443604ea"
   },
   "outputs": [
    {
     "data": {
      "text/plain": [
       "0    87035\n",
       "1      439\n",
       "2       22\n",
       "6        1\n",
       "5        1\n",
       "4        1\n",
       "3        1\n",
       "Name: Already_Defaulted, dtype: int64"
      ]
     },
     "execution_count": 20,
     "metadata": {},
     "output_type": "execute_result"
    }
   ],
   "source": [
    "df['Already_Defaulted'].value_counts()"
   ]
  },
  {
   "cell_type": "code",
   "execution_count": 21,
   "metadata": {
    "colab": {
     "base_uri": "https://localhost:8080/",
     "height": 398
    },
    "id": "qjHBu-gs-3eh",
    "outputId": "7f44e2b2-fb12-467b-a601-dec57ed250d3"
   },
   "outputs": [
    {
     "data": {
      "text/plain": [
       "0    California\n",
       "1            NC\n",
       "2       Florida\n",
       "3     NewJersey\n",
       "4            LA\n",
       "5            TX\n",
       "6    California\n",
       "7            CT\n",
       "8    California\n",
       "9            TX\n",
       "Name: State, dtype: object"
      ]
     },
     "execution_count": 21,
     "metadata": {},
     "output_type": "execute_result"
    }
   ],
   "source": [
    "dd=df['State']\n",
    "dd.head(10)"
   ]
  },
  {
   "cell_type": "markdown",
   "metadata": {},
   "source": [
    "# CHECKING FOR OUTLIER"
   ]
  },
  {
   "cell_type": "code",
   "execution_count": 22,
   "metadata": {},
   "outputs": [],
   "source": [
    "import pandas as pd\n",
    "import numpy as np\n",
    "import matplotlib.pyplot as plt\n",
    "from sklearn.ensemble import IsolationForest\n"
   ]
  },
  {
   "cell_type": "code",
   "execution_count": 23,
   "metadata": {},
   "outputs": [
    {
     "name": "stderr",
     "output_type": "stream",
     "text": [
      "C:\\ProgramData\\Anaconda3\\lib\\site-packages\\sklearn\\base.py:450: UserWarning: X does not have valid feature names, but IsolationForest was fitted with feature names\n",
      "  warnings.warn(\n"
     ]
    },
    {
     "name": "stdout",
     "output_type": "stream",
     "text": [
      "         ID  Asst_Reg GGGrade Experience       Validation  Yearly_Income  \\\n",
      "270  131339   6564227      II       <1yr  Source Verified       290400.0   \n",
      "327   77451   4399865      II       5yrs            Vfied       528000.0   \n",
      "435   42531   6549919      II       4yrs  Source Verified       387200.0   \n",
      "491   76536   4557809     III     >10yrs  Source Verified       422400.0   \n",
      "509  139299   1318697      VI       8yrs  Source Verified       308000.0   \n",
      "\n",
      "    Home_Status  Unpaid_2_years  Already_Defaulted  \\\n",
      "270         OWN               0                  0   \n",
      "327    MORTGAGE               0                  0   \n",
      "435    MORTGAGE               0                  0   \n",
      "491    MORTGAGE               1                  0   \n",
      "509        RENT               0                  0   \n",
      "\n",
      "                                 Designation  ...       State  Account_Open  \\\n",
      "270               Senior Solution Consultant  ...          IL            44   \n",
      "327                                      coo  ...  California            17   \n",
      "435                    Senior Vice President  ...     Florida            13   \n",
      "491                                      CEO  ...          SD            10   \n",
      "509  Professional Services Senior Consultant  ...  California            10   \n",
      "\n",
      "     Total_Unpaid_CL  Duration  Unpaid_Amount               Reason  \\\n",
      "270       1316765.12   5 years      723475.35         credit  card   \n",
      "327        305440.00   3 years      223498.71  debt  consolidation   \n",
      "435        199034.00   5 years      155803.23  debt  consolidation   \n",
      "491        356070.00   5 years      355175.55         credit  card   \n",
      "509         25232.00   5 years       25037.82  debt  consolidation   \n",
      "\n",
      "     Claim_Type  Due_Fee  Default  Outlier  \n",
      "270           I      0.0        0       -1  \n",
      "327           I      0.0        0       -1  \n",
      "435           I      0.0        0       -1  \n",
      "491           I      0.0        0       -1  \n",
      "509           I      0.0        0       -1  \n",
      "\n",
      "[5 rows x 31 columns]\n"
     ]
    }
   ],
   "source": [
    "# Encoding categorical features\n",
    "df_encoded = pd.get_dummies(df, columns=['GGGrade', 'Experience', 'Validation', 'Home_Status', 'Designation', 'State', 'File_Status', 'Duration', 'Reason', 'Claim_Type'])\n",
    "# Select numerical features for outlier detection\n",
    "features = ['Yearly_Income', 'Debt_to_Income', 'Postal_Code', 'Lend_Amount', 'Total_Unpaid_CL', 'Unpaid_Amount', 'Interest_Charged', 'Usage_Rate', 'Present_Balance', 'Gross_Collection']\n",
    "\n",
    "# Prepare the feature matrix\n",
    "X = df_encoded[features]\n",
    "\n",
    "# Initialize Isolation Forest\n",
    "iso_forest = IsolationForest(contamination=0.01, random_state=42)  # contamination is the proportion of outliers\n",
    "\n",
    "# Fit the model\n",
    "iso_forest.fit(X)\n",
    "# Predict outliers\n",
    "outliers = iso_forest.predict(X)\n",
    "\n",
    "# Convert predictions to a DataFrame\n",
    "df['Outlier'] = outliers\n",
    "\n",
    "# -1 indicates outliers, 1 indicates inliers\n",
    "outlier_df = df[df['Outlier'] == -1]\n",
    "print(outlier_df.head())\n"
   ]
  },
  {
   "cell_type": "code",
   "execution_count": 24,
   "metadata": {},
   "outputs": [
    {
     "data": {
      "image/png": "[encoded data removed]",
      "text/plain": [
       "<Figure size 720x432 with 1 Axes>"
      ]
     },
     "metadata": {
      "needs_background": "light"
     },
     "output_type": "display_data"
    }
   ],
   "source": [
    "from sklearn.decomposition import PCA\n",
    "\n",
    "# Apply PCA to reduce dimensions for visualization\n",
    "pca = PCA(n_components=2)\n",
    "X_pca = pca.fit_transform(X)\n",
    "\n",
    "# Add PCA results to DataFrame\n",
    "df_pca = pd.DataFrame(X_pca, columns=['PCA1', 'PCA2'])\n",
    "df_pca['Outlier'] = df['Outlier']\n",
    "\n",
    "# Plot\n",
    "plt.figure(figsize=(10, 6))\n",
    "plt.scatter(df_pca[df_pca['Outlier'] == 1]['PCA1'], df_pca[df_pca['Outlier'] == 1]['PCA2'], label='Inliers', alpha=0.5)\n",
    "plt.scatter(df_pca[df_pca['Outlier'] == -1]['PCA1'], df_pca[df_pca['Outlier'] == -1]['PCA2'], label='Outliers', color='red', alpha=0.7)\n",
    "plt.title('PCA of Features with Outliers')\n",
    "plt.xlabel('PCA1')\n",
    "plt.ylabel('PCA2')\n",
    "plt.legend()\n",
    "plt.show()\n"
   ]
  },
  {
   "cell_type": "code",
   "execution_count": 25,
   "metadata": {},
   "outputs": [
    {
     "data": {
      "text/plain": [
       " 1    86625\n",
       "-1      875\n",
       "Name: Outlier, dtype: int64"
      ]
     },
     "execution_count": 25,
     "metadata": {},
     "output_type": "execute_result"
    }
   ],
   "source": [
    "df['Outlier'].value_counts()"
   ]
  },
  {
   "cell_type": "code",
   "execution_count": 26,
   "metadata": {},
   "outputs": [
    {
     "name": "stdout",
     "output_type": "stream",
     "text": [
      "                  ID      Asst_Reg  Yearly_Income  Unpaid_2_years  \\\n",
      "count     875.000000  8.750000e+02   8.750000e+02      875.000000   \n",
      "mean    84167.178286  4.014663e+06   4.232259e+05        0.358857   \n",
      "std     37530.727373  2.287445e+06   4.023809e+05        0.867226   \n",
      "min     21814.000000  1.208110e+05   7.392000e+04        0.000000   \n",
      "25%     50061.000000  1.673570e+06   2.200000e+05        0.000000   \n",
      "50%     83997.000000  4.221342e+06   3.256000e+05        0.000000   \n",
      "75%    118433.500000  6.218952e+06   5.130400e+05        0.000000   \n",
      "max    146520.000000  7.347607e+06   5.491200e+06        9.000000   \n",
      "\n",
      "       Already_Defaulted  Debt_to_Income   Postal_Code   Lend_Amount  \\\n",
      "count         875.000000      875.000000    875.000000    875.000000   \n",
      "mean            0.006857       29.191123  47145.714286  45419.261143   \n",
      "std             0.082571       15.106650  34268.389665  15214.908305   \n",
      "min             0.000000        0.134400   1000.000000   2052.000000   \n",
      "25%             0.000000       17.421600  17000.000000  35097.750000   \n",
      "50%             0.000000       29.500800  33700.000000  47880.000000   \n",
      "75%             0.000000       39.429600  89050.000000  59850.000000   \n",
      "max             1.000000       66.813600  99300.000000  59850.000000   \n",
      "\n",
      "       Deprecatory_Records  Interest_Charged  ...   Inquiries  \\\n",
      "count           875.000000        875.000000  ...  875.000000   \n",
      "mean              0.109714         16.765417  ...    0.786286   \n",
      "std               0.494208          4.972839  ...    1.128493   \n",
      "min               0.000000          8.020000  ...    0.000000   \n",
      "25%               0.000000         12.555000  ...    0.000000   \n",
      "50%               0.000000         16.880000  ...    0.000000   \n",
      "75%               0.000000         21.175000  ...    1.000000   \n",
      "max               6.000000         25.000000  ...    6.000000   \n",
      "\n",
      "       Present_Balance  Gross_Collection  Sub_GGGrade  Account_Open  \\\n",
      "count     8.750000e+02        875.000000   875.000000    875.000000   \n",
      "mean      1.021599e+06        699.259360    21.347429     16.338286   \n",
      "std       6.429018e+05       2221.463873     7.532871      6.818492   \n",
      "min       4.458900e+02          0.000000    11.000000      3.000000   \n",
      "25%       6.206146e+05          0.000000    15.000000     12.000000   \n",
      "50%       9.261252e+05          0.000000    20.000000     15.000000   \n",
      "75%       1.326734e+06          0.000000    26.000000     20.000000   \n",
      "max       5.629234e+06      26308.470000    44.000000     57.000000   \n",
      "\n",
      "       Total_Unpaid_CL  Unpaid_Amount     Due_Fee     Default  Outlier  \n",
      "count     8.750000e+02   8.750000e+02  875.000000  875.000000    875.0  \n",
      "mean      3.061866e+05   2.338543e+05    0.846080    0.134857     -1.0  \n",
      "std       2.027251e+05   1.840352e+05    7.687768    0.341766      0.0  \n",
      "min       2.158000e+03   0.000000e+00    0.000000    0.000000     -1.0  \n",
      "25%       1.736360e+05   1.036705e+05    0.000000    0.000000     -1.0  \n",
      "50%       2.788800e+05   1.997383e+05    0.000000    0.000000     -1.0  \n",
      "75%       3.920920e+05   3.175880e+05    0.000000    0.000000     -1.0  \n",
      "max       1.518734e+06   1.338778e+06  134.780000    1.000000     -1.0  \n",
      "\n",
      "[8 rows x 21 columns]\n",
      "                  ID      Asst_Reg  Yearly_Income  Unpaid_2_years  \\\n",
      "count   86625.000000  8.662500e+04   8.662500e+04    86625.000000   \n",
      "mean    83944.021945  3.796735e+06   1.306301e+05        0.332675   \n",
      "std     36085.581088  2.288964e+06   8.229163e+04        0.876170   \n",
      "min     21560.000000  2.484700e+04   8.800000e+03        0.000000   \n",
      "25%     52643.000000  1.481864e+06   8.465600e+04        0.000000   \n",
      "50%     83896.000000  4.131950e+06   1.144000e+05        0.000000   \n",
      "75%    115234.000000  5.947884e+06   1.566400e+05        0.000000   \n",
      "max    146559.000000  7.351847e+06   8.264031e+06       18.000000   \n",
      "\n",
      "       Already_Defaulted  Debt_to_Income   Postal_Code   Lend_Amount  \\\n",
      "count       86625.000000    86625.000000  86625.000000  86625.000000   \n",
      "mean            0.005714       30.927992  51578.226840  25723.578857   \n",
      "std             0.083514       13.782278  31069.081866  14290.737057   \n",
      "min             0.000000        0.000000   1000.000000   1710.000000   \n",
      "25%             0.000000       20.882400  23300.000000  14791.500000   \n",
      "50%             0.000000       30.139200  48100.000000  23940.000000   \n",
      "75%             0.000000       40.404000  80100.000000  34200.000000   \n",
      "max             6.000000      639.290400  99900.000000  59850.000000   \n",
      "\n",
      "       Deprecatory_Records  Interest_Charged  ...     Inquiries  \\\n",
      "count         86625.000000      86625.000000  ...  86625.000000   \n",
      "mean              0.203336         16.515879  ...      0.669472   \n",
      "std               0.647703          4.901256  ...      0.957650   \n",
      "min               0.000000          8.000000  ...      0.000000   \n",
      "25%               0.000000         12.300000  ...      0.000000   \n",
      "50%               0.000000         16.490000  ...      0.000000   \n",
      "75%               0.000000         20.760000  ...      1.000000   \n",
      "max              86.000000         25.000000  ...      8.000000   \n",
      "\n",
      "       Present_Balance  Gross_Collection   Sub_GGGrade  Account_Open  \\\n",
      "count     8.662500e+04      86625.000000  86625.000000  86625.000000   \n",
      "mean      2.284581e+05         32.797074     22.031734     12.743492   \n",
      "std       2.350533e+05        317.678500      6.440549      5.342515   \n",
      "min       0.000000e+00          0.000000     11.000000      2.000000   \n",
      "25%       5.129238e+04          0.000000     17.000000      9.000000   \n",
      "50%       1.356858e+05          0.000000     21.000000     12.000000   \n",
      "75%       3.473517e+05          0.000000     26.000000     15.000000   \n",
      "max       3.259843e+06      16074.420000     45.000000     83.000000   \n",
      "\n",
      "       Total_Unpaid_CL  Unpaid_Amount       Due_Fee       Default  Outlier  \n",
      "count     8.662500e+04   86625.000000  86625.000000  86625.000000  86625.0  \n",
      "mean      5.005698e+04   27007.611945      0.311057      0.189253      1.0  \n",
      "std       4.081128e+04   23936.278652      3.478876      0.391711      0.0  \n",
      "min       3.320000e+02       0.000000      0.000000      0.000000      1.0  \n",
      "25%       2.390400e+04   11870.820000      0.000000      0.000000      1.0  \n",
      "50%       3.967400e+04   20892.780000      0.000000      0.000000      1.0  \n",
      "75%       6.341200e+04   34495.830000      0.000000      0.000000      1.0  \n",
      "max       1.710630e+06  673333.020000    169.050000      1.000000      1.0  \n",
      "\n",
      "[8 rows x 21 columns]\n"
     ]
    }
   ],
   "source": [
    "# Review statistical summary of outlier rows\n",
    "print(outlier_df.describe())\n",
    "\n",
    "# Compare with inliers\n",
    "inlier_rows = df[df['Outlier'] == 1]\n",
    "print(inlier_rows.describe())\n"
   ]
  },
  {
   "cell_type": "code",
   "execution_count": 27,
   "metadata": {},
   "outputs": [
    {
     "data": {
      "text/plain": [
       "0.00        85815\n",
       "2080.72         2\n",
       "11.90           2\n",
       "5437.55         2\n",
       "1200.00         2\n",
       "            ...  \n",
       "1054.22         1\n",
       "803.04          1\n",
       "2108.94         1\n",
       "13832.92        1\n",
       "691.56          1\n",
       "Name: Gross_Collection, Length: 1678, dtype: int64"
      ]
     },
     "execution_count": 27,
     "metadata": {},
     "output_type": "execute_result"
    }
   ],
   "source": [
    "df['Gross_Collection'].value_counts()"
   ]
  },
  {
   "cell_type": "markdown",
   "metadata": {},
   "source": [
    "# DATA PREPROCESSING"
   ]
  },
  {
   "cell_type": "code",
   "execution_count": 28,
   "metadata": {
    "id": "SLF4IIJ1R7il"
   },
   "outputs": [],
   "source": [
    "prep_data=df.copy()"
   ]
  },
  {
   "cell_type": "code",
   "execution_count": 29,
   "metadata": {
    "colab": {
     "base_uri": "https://localhost:8080/"
    },
    "id": "QpOFhQvubBWq",
    "outputId": "7bc19a80-eb31-4433-b493-97d4f1326fe8"
   },
   "outputs": [
    {
     "name": "stdout",
     "output_type": "stream",
     "text": [
      "<class 'pandas.core.frame.DataFrame'>\n",
      "RangeIndex: 87500 entries, 0 to 87499\n",
      "Data columns (total 26 columns):\n",
      " #   Column               Non-Null Count  Dtype  \n",
      "---  ------               --------------  -----  \n",
      " 0   Asst_Reg             87500 non-null  int64  \n",
      " 1   GGGrade              87500 non-null  object \n",
      " 2   Experience           87500 non-null  object \n",
      " 3   Validation           87500 non-null  object \n",
      " 4   Yearly_Income        87500 non-null  float64\n",
      " 5   Home_Status          87500 non-null  object \n",
      " 6   Unpaid_2_years       87500 non-null  int64  \n",
      " 7   Already_Defaulted    87500 non-null  int64  \n",
      " 8   Debt_to_Income       87500 non-null  float64\n",
      " 9   Postal_Code          87500 non-null  float64\n",
      " 10  Lend_Amount          87500 non-null  float64\n",
      " 11  Deprecatory_Records  87500 non-null  int64  \n",
      " 12  Interest_Charged     87500 non-null  float64\n",
      " 13  Usage_Rate           87500 non-null  float64\n",
      " 14  Inquiries            87500 non-null  int64  \n",
      " 15  Present_Balance      87500 non-null  float64\n",
      " 16  File_Status          87500 non-null  object \n",
      " 17  State                87500 non-null  object \n",
      " 18  Account_Open         87500 non-null  int64  \n",
      " 19  Total_Unpaid_CL      87500 non-null  float64\n",
      " 20  Duration             87500 non-null  object \n",
      " 21  Unpaid_Amount        87500 non-null  float64\n",
      " 22  Reason               87500 non-null  object \n",
      " 23  Claim_Type           87500 non-null  object \n",
      " 24  Due_Fee              87500 non-null  float64\n",
      " 25  Default              87500 non-null  int64  \n",
      "dtypes: float64(10), int64(7), object(9)\n",
      "memory usage: 17.4+ MB\n",
      "None\n"
     ]
    }
   ],
   "source": [
    "# List of columns to remove\n",
    "columns_to_remove = ['ID','Sub_GGGrade','Designation','Gross_Collection','Outlier']\n",
    "\n",
    "# Remove the specified columns\n",
    "new_data=prep_data.drop(columns=columns_to_remove)\n",
    "\n",
    "# Display the updated DataFrame info\n",
    "print(new_data.info())"
   ]
  },
  {
   "cell_type": "code",
   "execution_count": 30,
   "metadata": {
    "colab": {
     "base_uri": "https://localhost:8080/"
    },
    "id": "fqnYlNcIfbA0",
    "outputId": "3bb77a64-4cc5-49bf-d47a-5c2dfa458f5c"
   },
   "outputs": [
    {
     "name": "stdout",
     "output_type": "stream",
     "text": [
      "There is no duplicate values in the data.\n"
     ]
    }
   ],
   "source": [
    "# Checking duplicates records after dropping unnecessary columns\n",
    "if new_data.duplicated().any():\n",
    " print('There is duplicate values in the data.')\n",
    "else:\n",
    " print('There is no duplicate values in the data.')"
   ]
  },
  {
   "cell_type": "code",
   "execution_count": 31,
   "metadata": {
    "colab": {
     "base_uri": "https://localhost:8080/"
    },
    "id": "VIHikZjVfka_",
    "outputId": "9bafd9b0-3d49-43ed-f4ae-9630ad99e0ac"
   },
   "outputs": [
    {
     "data": {
      "text/plain": [
       "(87500, 26)"
      ]
     },
     "execution_count": 31,
     "metadata": {},
     "output_type": "execute_result"
    }
   ],
   "source": [
    "new_data.shape"
   ]
  },
  {
   "cell_type": "code",
   "execution_count": 32,
   "metadata": {
    "colab": {
     "base_uri": "https://localhost:8080/",
     "height": 300
    },
    "id": "533gMnXPxbXk",
    "outputId": "8bc284da-ad04-4414-e545-58457af368f9"
   },
   "outputs": [
    {
     "data": {
      "text/html": [
       "<div>\n",
       "<style scoped>\n",
       "    .dataframe tbody tr th:only-of-type {\n",
       "        vertical-align: middle;\n",
       "    }\n",
       "\n",
       "    .dataframe tbody tr th {\n",
       "        vertical-align: top;\n",
       "    }\n",
       "\n",
       "    .dataframe thead th {\n",
       "        text-align: right;\n",
       "    }\n",
       "</style>\n",
       "<table border=\"1\" class=\"dataframe\">\n",
       "  <thead>\n",
       "    <tr style=\"text-align: right;\">\n",
       "      <th></th>\n",
       "      <th>Asst_Reg</th>\n",
       "      <th>Yearly_Income</th>\n",
       "      <th>Unpaid_2_years</th>\n",
       "      <th>Already_Defaulted</th>\n",
       "      <th>Debt_to_Income</th>\n",
       "      <th>Postal_Code</th>\n",
       "      <th>Lend_Amount</th>\n",
       "      <th>Deprecatory_Records</th>\n",
       "      <th>Interest_Charged</th>\n",
       "      <th>Usage_Rate</th>\n",
       "      <th>Inquiries</th>\n",
       "      <th>Present_Balance</th>\n",
       "      <th>Account_Open</th>\n",
       "      <th>Total_Unpaid_CL</th>\n",
       "      <th>Unpaid_Amount</th>\n",
       "      <th>Due_Fee</th>\n",
       "      <th>Default</th>\n",
       "    </tr>\n",
       "  </thead>\n",
       "  <tbody>\n",
       "    <tr>\n",
       "      <th>count</th>\n",
       "      <td>8.750000e+04</td>\n",
       "      <td>8.750000e+04</td>\n",
       "      <td>87500.000000</td>\n",
       "      <td>87500.000000</td>\n",
       "      <td>87500.000000</td>\n",
       "      <td>87500.000000</td>\n",
       "      <td>87500.000000</td>\n",
       "      <td>87500.000000</td>\n",
       "      <td>87500.000000</td>\n",
       "      <td>87500.000000</td>\n",
       "      <td>87500.000000</td>\n",
       "      <td>8.750000e+04</td>\n",
       "      <td>87500.00000</td>\n",
       "      <td>8.750000e+04</td>\n",
       "      <td>8.750000e+04</td>\n",
       "      <td>87500.000000</td>\n",
       "      <td>87500.000000</td>\n",
       "    </tr>\n",
       "    <tr>\n",
       "      <th>mean</th>\n",
       "      <td>3.798914e+06</td>\n",
       "      <td>1.335561e+05</td>\n",
       "      <td>0.332937</td>\n",
       "      <td>0.005726</td>\n",
       "      <td>30.910623</td>\n",
       "      <td>51533.901714</td>\n",
       "      <td>25920.535680</td>\n",
       "      <td>0.202400</td>\n",
       "      <td>16.518375</td>\n",
       "      <td>95.517348</td>\n",
       "      <td>0.670640</td>\n",
       "      <td>2.363895e+05</td>\n",
       "      <td>12.77944</td>\n",
       "      <td>5.261827e+04</td>\n",
       "      <td>2.907608e+04</td>\n",
       "      <td>0.316407</td>\n",
       "      <td>0.188709</td>\n",
       "    </tr>\n",
       "    <tr>\n",
       "      <th>std</th>\n",
       "      <td>2.289038e+06</td>\n",
       "      <td>9.575509e+04</td>\n",
       "      <td>0.876080</td>\n",
       "      <td>0.083505</td>\n",
       "      <td>13.797139</td>\n",
       "      <td>31105.615360</td>\n",
       "      <td>14433.837213</td>\n",
       "      <td>0.646414</td>\n",
       "      <td>4.902011</td>\n",
       "      <td>40.554035</td>\n",
       "      <td>0.959572</td>\n",
       "      <td>2.550568e+05</td>\n",
       "      <td>5.37116</td>\n",
       "      <td>5.204695e+04</td>\n",
       "      <td>3.645688e+04</td>\n",
       "      <td>3.546087</td>\n",
       "      <td>0.391279</td>\n",
       "    </tr>\n",
       "    <tr>\n",
       "      <th>min</th>\n",
       "      <td>2.484700e+04</td>\n",
       "      <td>8.800000e+03</td>\n",
       "      <td>0.000000</td>\n",
       "      <td>0.000000</td>\n",
       "      <td>0.000000</td>\n",
       "      <td>1000.000000</td>\n",
       "      <td>1710.000000</td>\n",
       "      <td>0.000000</td>\n",
       "      <td>8.000000</td>\n",
       "      <td>0.000000</td>\n",
       "      <td>0.000000</td>\n",
       "      <td>0.000000e+00</td>\n",
       "      <td>2.00000</td>\n",
       "      <td>3.320000e+02</td>\n",
       "      <td>0.000000e+00</td>\n",
       "      <td>0.000000</td>\n",
       "      <td>0.000000</td>\n",
       "    </tr>\n",
       "    <tr>\n",
       "      <th>25%</th>\n",
       "      <td>1.483874e+06</td>\n",
       "      <td>8.624000e+04</td>\n",
       "      <td>0.000000</td>\n",
       "      <td>0.000000</td>\n",
       "      <td>20.848800</td>\n",
       "      <td>23200.000000</td>\n",
       "      <td>15048.000000</td>\n",
       "      <td>0.000000</td>\n",
       "      <td>12.310000</td>\n",
       "      <td>66.048000</td>\n",
       "      <td>0.000000</td>\n",
       "      <td>5.173493e+04</td>\n",
       "      <td>9.00000</td>\n",
       "      <td>2.407000e+04</td>\n",
       "      <td>1.194948e+04</td>\n",
       "      <td>0.000000</td>\n",
       "      <td>0.000000</td>\n",
       "    </tr>\n",
       "    <tr>\n",
       "      <th>50%</th>\n",
       "      <td>4.132010e+06</td>\n",
       "      <td>1.144000e+05</td>\n",
       "      <td>0.000000</td>\n",
       "      <td>0.000000</td>\n",
       "      <td>30.139200</td>\n",
       "      <td>48100.000000</td>\n",
       "      <td>23940.000000</td>\n",
       "      <td>0.000000</td>\n",
       "      <td>16.490000</td>\n",
       "      <td>97.008000</td>\n",
       "      <td>0.000000</td>\n",
       "      <td>1.388062e+05</td>\n",
       "      <td>12.00000</td>\n",
       "      <td>3.967400e+04</td>\n",
       "      <td>2.089278e+04</td>\n",
       "      <td>0.000000</td>\n",
       "      <td>0.000000</td>\n",
       "    </tr>\n",
       "    <tr>\n",
       "      <th>75%</th>\n",
       "      <td>5.952909e+06</td>\n",
       "      <td>1.584000e+05</td>\n",
       "      <td>0.000000</td>\n",
       "      <td>0.000000</td>\n",
       "      <td>40.404000</td>\n",
       "      <td>80100.000000</td>\n",
       "      <td>34200.000000</td>\n",
       "      <td>0.000000</td>\n",
       "      <td>20.770000</td>\n",
       "      <td>126.592000</td>\n",
       "      <td>1.000000</td>\n",
       "      <td>3.534755e+05</td>\n",
       "      <td>16.00000</td>\n",
       "      <td>6.440800e+04</td>\n",
       "      <td>3.509604e+04</td>\n",
       "      <td>0.000000</td>\n",
       "      <td>0.000000</td>\n",
       "    </tr>\n",
       "    <tr>\n",
       "      <th>max</th>\n",
       "      <td>7.351847e+06</td>\n",
       "      <td>8.264031e+06</td>\n",
       "      <td>18.000000</td>\n",
       "      <td>6.000000</td>\n",
       "      <td>639.290400</td>\n",
       "      <td>99900.000000</td>\n",
       "      <td>59850.000000</td>\n",
       "      <td>86.000000</td>\n",
       "      <td>25.000000</td>\n",
       "      <td>1534.756000</td>\n",
       "      <td>8.000000</td>\n",
       "      <td>5.629234e+06</td>\n",
       "      <td>83.00000</td>\n",
       "      <td>1.710630e+06</td>\n",
       "      <td>1.338778e+06</td>\n",
       "      <td>169.050000</td>\n",
       "      <td>1.000000</td>\n",
       "    </tr>\n",
       "  </tbody>\n",
       "</table>\n",
       "</div>"
      ],
      "text/plain": [
       "           Asst_Reg  Yearly_Income  Unpaid_2_years  Already_Defaulted  \\\n",
       "count  8.750000e+04   8.750000e+04    87500.000000       87500.000000   \n",
       "mean   3.798914e+06   1.335561e+05        0.332937           0.005726   \n",
       "std    2.289038e+06   9.575509e+04        0.876080           0.083505   \n",
       "min    2.484700e+04   8.800000e+03        0.000000           0.000000   \n",
       "25%    1.483874e+06   8.624000e+04        0.000000           0.000000   \n",
       "50%    4.132010e+06   1.144000e+05        0.000000           0.000000   \n",
       "75%    5.952909e+06   1.584000e+05        0.000000           0.000000   \n",
       "max    7.351847e+06   8.264031e+06       18.000000           6.000000   \n",
       "\n",
       "       Debt_to_Income   Postal_Code   Lend_Amount  Deprecatory_Records  \\\n",
       "count    87500.000000  87500.000000  87500.000000         87500.000000   \n",
       "mean        30.910623  51533.901714  25920.535680             0.202400   \n",
       "std         13.797139  31105.615360  14433.837213             0.646414   \n",
       "min          0.000000   1000.000000   1710.000000             0.000000   \n",
       "25%         20.848800  23200.000000  15048.000000             0.000000   \n",
       "50%         30.139200  48100.000000  23940.000000             0.000000   \n",
       "75%         40.404000  80100.000000  34200.000000             0.000000   \n",
       "max        639.290400  99900.000000  59850.000000            86.000000   \n",
       "\n",
       "       Interest_Charged    Usage_Rate     Inquiries  Present_Balance  \\\n",
       "count      87500.000000  87500.000000  87500.000000     8.750000e+04   \n",
       "mean          16.518375     95.517348      0.670640     2.363895e+05   \n",
       "std            4.902011     40.554035      0.959572     2.550568e+05   \n",
       "min            8.000000      0.000000      0.000000     0.000000e+00   \n",
       "25%           12.310000     66.048000      0.000000     5.173493e+04   \n",
       "50%           16.490000     97.008000      0.000000     1.388062e+05   \n",
       "75%           20.770000    126.592000      1.000000     3.534755e+05   \n",
       "max           25.000000   1534.756000      8.000000     5.629234e+06   \n",
       "\n",
       "       Account_Open  Total_Unpaid_CL  Unpaid_Amount       Due_Fee  \\\n",
       "count   87500.00000     8.750000e+04   8.750000e+04  87500.000000   \n",
       "mean       12.77944     5.261827e+04   2.907608e+04      0.316407   \n",
       "std         5.37116     5.204695e+04   3.645688e+04      3.546087   \n",
       "min         2.00000     3.320000e+02   0.000000e+00      0.000000   \n",
       "25%         9.00000     2.407000e+04   1.194948e+04      0.000000   \n",
       "50%        12.00000     3.967400e+04   2.089278e+04      0.000000   \n",
       "75%        16.00000     6.440800e+04   3.509604e+04      0.000000   \n",
       "max        83.00000     1.710630e+06   1.338778e+06    169.050000   \n",
       "\n",
       "            Default  \n",
       "count  87500.000000  \n",
       "mean       0.188709  \n",
       "std        0.391279  \n",
       "min        0.000000  \n",
       "25%        0.000000  \n",
       "50%        0.000000  \n",
       "75%        0.000000  \n",
       "max        1.000000  "
      ]
     },
     "execution_count": 32,
     "metadata": {},
     "output_type": "execute_result"
    }
   ],
   "source": [
    "new_data.describe()"
   ]
  },
  {
   "cell_type": "code",
   "execution_count": 33,
   "metadata": {
    "colab": {
     "base_uri": "https://localhost:8080/",
     "height": 680
    },
    "id": "LNsFewRiSbLH",
    "outputId": "79b00e07-b3f4-44ee-80ae-60dfb6928f6f"
   },
   "outputs": [
    {
     "data": {
      "text/plain": [
       "0     73827\n",
       "1     11354\n",
       "2      1481\n",
       "3       465\n",
       "4       193\n",
       "5        85\n",
       "6        39\n",
       "7        24\n",
       "8        14\n",
       "10        7\n",
       "9         3\n",
       "16        2\n",
       "12        1\n",
       "86        1\n",
       "11        1\n",
       "13        1\n",
       "22        1\n",
       "15        1\n",
       "Name: Deprecatory_Records, dtype: int64"
      ]
     },
     "execution_count": 33,
     "metadata": {},
     "output_type": "execute_result"
    }
   ],
   "source": [
    "new_data['Deprecatory_Records'].value_counts()"
   ]
  },
  {
   "cell_type": "markdown",
   "metadata": {
    "id": "NzeCXwQA_VX7"
   },
   "source": [
    "# Handling missing values using simple imputation method"
   ]
  },
  {
   "cell_type": "markdown",
   "metadata": {
    "id": "_3XhWA0ZAgi6"
   },
   "source": [
    "Summary\n",
    "\n",
    "Categorical Columns: Use Mode Imputation.\n",
    "\n",
    "Numerical Columns:\n",
    "\n",
    "Use Mean Imputation for symmetric distributions.\n",
    "\n",
    "Use Median Imputation for skewed distributions or those with outliers.\n",
    "\n",
    "Use Interpolation if your data is time-dependent or has a logical order.\n",
    "New Section\n",
    "Adjust these methods based on specific characteristics of your dataset and the missing value patterns you observe."
   ]
  },
  {
   "cell_type": "markdown",
   "metadata": {
    "id": "f3CNNf7GDVBG"
   },
   "source": [
    "# **Feature** **engineering**"
   ]
  },
  {
   "cell_type": "code",
   "execution_count": 34,
   "metadata": {
    "colab": {
     "base_uri": "https://localhost:8080/",
     "height": 236
    },
    "id": "kWlc_PqLEAHL",
    "outputId": "f9e6ea02-342c-477a-8829-78fb18e33a55"
   },
   "outputs": [
    {
     "data": {
      "text/html": [
       "<div>\n",
       "<style scoped>\n",
       "    .dataframe tbody tr th:only-of-type {\n",
       "        vertical-align: middle;\n",
       "    }\n",
       "\n",
       "    .dataframe tbody tr th {\n",
       "        vertical-align: top;\n",
       "    }\n",
       "\n",
       "    .dataframe thead th {\n",
       "        text-align: right;\n",
       "    }\n",
       "</style>\n",
       "<table border=\"1\" class=\"dataframe\">\n",
       "  <thead>\n",
       "    <tr style=\"text-align: right;\">\n",
       "      <th></th>\n",
       "      <th>Asst_Reg</th>\n",
       "      <th>GGGrade</th>\n",
       "      <th>Experience</th>\n",
       "      <th>Validation</th>\n",
       "      <th>Yearly_Income</th>\n",
       "      <th>Home_Status</th>\n",
       "      <th>Unpaid_2_years</th>\n",
       "      <th>Already_Defaulted</th>\n",
       "      <th>Debt_to_Income</th>\n",
       "      <th>Postal_Code</th>\n",
       "      <th>...</th>\n",
       "      <th>File_Status</th>\n",
       "      <th>State</th>\n",
       "      <th>Account_Open</th>\n",
       "      <th>Total_Unpaid_CL</th>\n",
       "      <th>Duration</th>\n",
       "      <th>Unpaid_Amount</th>\n",
       "      <th>Reason</th>\n",
       "      <th>Claim_Type</th>\n",
       "      <th>Due_Fee</th>\n",
       "      <th>Default</th>\n",
       "    </tr>\n",
       "  </thead>\n",
       "  <tbody>\n",
       "    <tr>\n",
       "      <th>0</th>\n",
       "      <td>421802</td>\n",
       "      <td>II</td>\n",
       "      <td>&gt;10yrs</td>\n",
       "      <td>Vfied</td>\n",
       "      <td>633600.00</td>\n",
       "      <td>MORTGAGE</td>\n",
       "      <td>0</td>\n",
       "      <td>0</td>\n",
       "      <td>12.5496</td>\n",
       "      <td>91300.0</td>\n",
       "      <td>...</td>\n",
       "      <td>fully paid</td>\n",
       "      <td>California</td>\n",
       "      <td>17</td>\n",
       "      <td>58598.0</td>\n",
       "      <td>3 years</td>\n",
       "      <td>31216.05</td>\n",
       "      <td>debt  consolidation</td>\n",
       "      <td>I</td>\n",
       "      <td>0.0</td>\n",
       "      <td>0</td>\n",
       "    </tr>\n",
       "    <tr>\n",
       "      <th>1</th>\n",
       "      <td>3964312</td>\n",
       "      <td>IV</td>\n",
       "      <td>7yrs</td>\n",
       "      <td>Source Verified</td>\n",
       "      <td>85483.20</td>\n",
       "      <td>RENT</td>\n",
       "      <td>0</td>\n",
       "      <td>0</td>\n",
       "      <td>9.0048</td>\n",
       "      <td>27400.0</td>\n",
       "      <td>...</td>\n",
       "      <td>whole</td>\n",
       "      <td>NC</td>\n",
       "      <td>15</td>\n",
       "      <td>18924.0</td>\n",
       "      <td>5 years</td>\n",
       "      <td>11660.49</td>\n",
       "      <td>debt  consolidation</td>\n",
       "      <td>I</td>\n",
       "      <td>0.0</td>\n",
       "      <td>0</td>\n",
       "    </tr>\n",
       "    <tr>\n",
       "      <th>2</th>\n",
       "      <td>4247560</td>\n",
       "      <td>III</td>\n",
       "      <td>&lt;1yr</td>\n",
       "      <td>Source Verified</td>\n",
       "      <td>79200.00</td>\n",
       "      <td>RENT</td>\n",
       "      <td>0</td>\n",
       "      <td>0</td>\n",
       "      <td>24.9144</td>\n",
       "      <td>32800.0</td>\n",
       "      <td>...</td>\n",
       "      <td>whole</td>\n",
       "      <td>Florida</td>\n",
       "      <td>7</td>\n",
       "      <td>15604.0</td>\n",
       "      <td>5 years</td>\n",
       "      <td>5637.87</td>\n",
       "      <td>major  purchase</td>\n",
       "      <td>I</td>\n",
       "      <td>0.0</td>\n",
       "      <td>0</td>\n",
       "    </tr>\n",
       "    <tr>\n",
       "      <th>3</th>\n",
       "      <td>197179</td>\n",
       "      <td>III</td>\n",
       "      <td>&lt;1yr</td>\n",
       "      <td>Vfied</td>\n",
       "      <td>61600.00</td>\n",
       "      <td>RENT</td>\n",
       "      <td>0</td>\n",
       "      <td>0</td>\n",
       "      <td>16.5816</td>\n",
       "      <td>7000.0</td>\n",
       "      <td>...</td>\n",
       "      <td>fully paid</td>\n",
       "      <td>NewJersey</td>\n",
       "      <td>9</td>\n",
       "      <td>22410.0</td>\n",
       "      <td>3 years</td>\n",
       "      <td>15607.17</td>\n",
       "      <td>major  purchase</td>\n",
       "      <td>I</td>\n",
       "      <td>0.0</td>\n",
       "      <td>1</td>\n",
       "    </tr>\n",
       "    <tr>\n",
       "      <th>4</th>\n",
       "      <td>4646684</td>\n",
       "      <td>V</td>\n",
       "      <td>2yrs</td>\n",
       "      <td>Source Verified</td>\n",
       "      <td>68053.92</td>\n",
       "      <td>RENT</td>\n",
       "      <td>0</td>\n",
       "      <td>0</td>\n",
       "      <td>40.0512</td>\n",
       "      <td>70800.0</td>\n",
       "      <td>...</td>\n",
       "      <td>fully paid</td>\n",
       "      <td>LA</td>\n",
       "      <td>10</td>\n",
       "      <td>36022.0</td>\n",
       "      <td>5 years</td>\n",
       "      <td>27472.86</td>\n",
       "      <td>debt  consolidation</td>\n",
       "      <td>I</td>\n",
       "      <td>0.0</td>\n",
       "      <td>0</td>\n",
       "    </tr>\n",
       "  </tbody>\n",
       "</table>\n",
       "<p>5 rows × 26 columns</p>\n",
       "</div>"
      ],
      "text/plain": [
       "   Asst_Reg GGGrade Experience       Validation  Yearly_Income Home_Status  \\\n",
       "0    421802      II     >10yrs            Vfied      633600.00    MORTGAGE   \n",
       "1   3964312      IV       7yrs  Source Verified       85483.20        RENT   \n",
       "2   4247560     III       <1yr  Source Verified       79200.00        RENT   \n",
       "3    197179     III       <1yr            Vfied       61600.00        RENT   \n",
       "4   4646684       V       2yrs  Source Verified       68053.92        RENT   \n",
       "\n",
       "   Unpaid_2_years  Already_Defaulted  Debt_to_Income  Postal_Code  ...  \\\n",
       "0               0                  0         12.5496      91300.0  ...   \n",
       "1               0                  0          9.0048      27400.0  ...   \n",
       "2               0                  0         24.9144      32800.0  ...   \n",
       "3               0                  0         16.5816       7000.0  ...   \n",
       "4               0                  0         40.0512      70800.0  ...   \n",
       "\n",
       "   File_Status       State  Account_Open  Total_Unpaid_CL  Duration  \\\n",
       "0   fully paid  California            17          58598.0   3 years   \n",
       "1        whole          NC            15          18924.0   5 years   \n",
       "2        whole     Florida             7          15604.0   5 years   \n",
       "3   fully paid   NewJersey             9          22410.0   3 years   \n",
       "4   fully paid          LA            10          36022.0   5 years   \n",
       "\n",
       "   Unpaid_Amount               Reason Claim_Type  Due_Fee  Default  \n",
       "0       31216.05  debt  consolidation          I      0.0        0  \n",
       "1       11660.49  debt  consolidation          I      0.0        0  \n",
       "2        5637.87      major  purchase          I      0.0        0  \n",
       "3       15607.17      major  purchase          I      0.0        1  \n",
       "4       27472.86  debt  consolidation          I      0.0        0  \n",
       "\n",
       "[5 rows x 26 columns]"
      ]
     },
     "execution_count": 34,
     "metadata": {},
     "output_type": "execute_result"
    }
   ],
   "source": [
    "new_data.head()"
   ]
  },
  {
   "cell_type": "code",
   "execution_count": 35,
   "metadata": {
    "colab": {
     "base_uri": "https://localhost:8080/",
     "height": 366
    },
    "id": "R3oIE6oOKDmi",
    "outputId": "0827f0f0-01c8-4883-d669-8905dd12ef2a"
   },
   "outputs": [
    {
     "data": {
      "text/plain": [
       "0    49853\n",
       "1    23601\n",
       "2     9040\n",
       "3     3537\n",
       "4     1056\n",
       "5      315\n",
       "6       97\n",
       "8        1\n",
       "Name: Inquiries, dtype: int64"
      ]
     },
     "execution_count": 35,
     "metadata": {},
     "output_type": "execute_result"
    }
   ],
   "source": [
    "new_data['Inquiries'].value_counts()"
   ]
  },
  {
   "cell_type": "code",
   "execution_count": 36,
   "metadata": {
    "colab": {
     "base_uri": "https://localhost:8080/"
    },
    "id": "hA5MdRksvu0_",
    "outputId": "5ad9089d-6ea2-4a4f-d278-3815d378c1c0"
   },
   "outputs": [
    {
     "name": "stdout",
     "output_type": "stream",
     "text": [
      "<class 'pandas.core.frame.DataFrame'>\n",
      "RangeIndex: 87500 entries, 0 to 87499\n",
      "Data columns (total 26 columns):\n",
      " #   Column               Non-Null Count  Dtype  \n",
      "---  ------               --------------  -----  \n",
      " 0   Asst_Reg             87500 non-null  int64  \n",
      " 1   GGGrade              87500 non-null  object \n",
      " 2   Experience           87500 non-null  object \n",
      " 3   Validation           87500 non-null  object \n",
      " 4   Yearly_Income        87500 non-null  float64\n",
      " 5   Home_Status          87500 non-null  object \n",
      " 6   Unpaid_2_years       87500 non-null  int64  \n",
      " 7   Already_Defaulted    87500 non-null  int64  \n",
      " 8   Debt_to_Income       87500 non-null  float64\n",
      " 9   Postal_Code          87500 non-null  float64\n",
      " 10  Lend_Amount          87500 non-null  float64\n",
      " 11  Deprecatory_Records  87500 non-null  int64  \n",
      " 12  Interest_Charged     87500 non-null  float64\n",
      " 13  Usage_Rate           87500 non-null  float64\n",
      " 14  Inquiries            87500 non-null  int64  \n",
      " 15  Present_Balance      87500 non-null  float64\n",
      " 16  File_Status          87500 non-null  object \n",
      " 17  State                87500 non-null  object \n",
      " 18  Account_Open         87500 non-null  int64  \n",
      " 19  Total_Unpaid_CL      87500 non-null  float64\n",
      " 20  Duration             87500 non-null  object \n",
      " 21  Unpaid_Amount        87500 non-null  float64\n",
      " 22  Reason               87500 non-null  object \n",
      " 23  Claim_Type           87500 non-null  object \n",
      " 24  Due_Fee              87500 non-null  float64\n",
      " 25  Default              87500 non-null  int64  \n",
      "dtypes: float64(10), int64(7), object(9)\n",
      "memory usage: 17.4+ MB\n"
     ]
    }
   ],
   "source": [
    "new_data.info()"
   ]
  },
  {
   "cell_type": "markdown",
   "metadata": {
    "id": "42zsRAQoDQqm"
   },
   "source": [
    "# **Encoding categorical variables:**"
   ]
  },
  {
   "cell_type": "code",
   "execution_count": 37,
   "metadata": {
    "colab": {
     "base_uri": "https://localhost:8080/"
    },
    "id": "YJhkcnYaAv9T",
    "outputId": "824f6cdd-0d17-4477-e3cb-0aa974c43819"
   },
   "outputs": [
    {
     "name": "stdout",
     "output_type": "stream",
     "text": [
      "<class 'pandas.core.frame.DataFrame'>\n",
      "RangeIndex: 87500 entries, 0 to 87499\n",
      "Data columns (total 25 columns):\n",
      " #   Column               Non-Null Count  Dtype  \n",
      "---  ------               --------------  -----  \n",
      " 0   Asst_Reg             87500 non-null  int64  \n",
      " 1   GGGrade              87500 non-null  int32  \n",
      " 2   Experience           87500 non-null  int32  \n",
      " 3   Validation           87500 non-null  int32  \n",
      " 4   Yearly_Income        87500 non-null  float64\n",
      " 5   Home_Status          87500 non-null  int32  \n",
      " 6   Unpaid_2_years       87500 non-null  int64  \n",
      " 7   Already_Defaulted    87500 non-null  int64  \n",
      " 8   Debt_to_Income       87500 non-null  float64\n",
      " 9   Postal_Code          87500 non-null  float64\n",
      " 10  Lend_Amount          87500 non-null  float64\n",
      " 11  Deprecatory_Records  87500 non-null  int64  \n",
      " 12  Interest_Charged     87500 non-null  float64\n",
      " 13  Usage_Rate           87500 non-null  float64\n",
      " 14  Inquiries            87500 non-null  int64  \n",
      " 15  Present_Balance      87500 non-null  float64\n",
      " 16  File_Status          87500 non-null  int32  \n",
      " 17  State                87500 non-null  int32  \n",
      " 18  Account_Open         87500 non-null  int64  \n",
      " 19  Total_Unpaid_CL      87500 non-null  float64\n",
      " 20  Duration             87500 non-null  int32  \n",
      " 21  Unpaid_Amount        87500 non-null  float64\n",
      " 22  Reason               87500 non-null  int32  \n",
      " 23  Claim_Type           87500 non-null  int32  \n",
      " 24  Due_Fee              87500 non-null  float64\n",
      "dtypes: float64(10), int32(9), int64(6)\n",
      "memory usage: 13.7 MB\n",
      "None\n"
     ]
    }
   ],
   "source": [
    "\n",
    "\n",
    "from sklearn.preprocessing import LabelEncoder\n",
    "\n",
    "\n",
    "X = new_data.drop('Default', axis=1)\n",
    "y = new_data['Default']\n",
    "\n",
    "# Identify categorical and numeric columns\n",
    "categorical_columns = ['GGGrade', 'Experience', 'Validation', 'Home_Status','File_Status','Duration', 'Reason', 'Claim_Type','State']\n",
    "numeric_columns = X.select_dtypes(include=['int64', 'float64']).columns.difference(categorical_columns)\n",
    "\n",
    "# Label Encoding for categorical features\n",
    "label_encoders = {}\n",
    "for column in categorical_columns:\n",
    "    le = LabelEncoder()\n",
    "    X[column] = le.fit_transform(X[column].astype(str))\n",
    "    label_encoders[column] = le\n",
    "\n",
    "\n",
    "\n",
    "\n",
    "\n",
    "\n",
    "\n",
    "# Checking the result\n",
    "print(X.info())\n"
   ]
  },
  {
   "cell_type": "code",
   "execution_count": 38,
   "metadata": {
    "colab": {
     "base_uri": "https://localhost:8080/",
     "height": 1000
    },
    "id": "rObRqjYSOjeK",
    "outputId": "47e4dfa7-db56-43cb-f4c2-50a65c26744a"
   },
   "outputs": [
    {
     "data": {
      "text/plain": [
       "6     12625\n",
       "32     7210\n",
       "41     7130\n",
       "9      5813\n",
       "12     3502\n",
       "31     3253\n",
       "36     3169\n",
       "35     2969\n",
       "10     2924\n",
       "43     2545\n",
       "25     2520\n",
       "19     2253\n",
       "24     2073\n",
       "3      2058\n",
       "17     2025\n",
       "4      1882\n",
       "45     1860\n",
       "20     1673\n",
       "13     1433\n",
       "21     1410\n",
       "40     1361\n",
       "5      1325\n",
       "30     1172\n",
       "1      1140\n",
       "46     1116\n",
       "34     1050\n",
       "16     1019\n",
       "38     1005\n",
       "15      821\n",
       "14      819\n",
       "33      766\n",
       "2       650\n",
       "42      639\n",
       "29      497\n",
       "11      465\n",
       "28      427\n",
       "22      410\n",
       "47      388\n",
       "37      372\n",
       "23      259\n",
       "8       238\n",
       "7       235\n",
       "0       221\n",
       "48      186\n",
       "39      181\n",
       "44      178\n",
       "27      134\n",
       "26       50\n",
       "18       49\n",
       "Name: State, dtype: int64"
      ]
     },
     "execution_count": 38,
     "metadata": {},
     "output_type": "execute_result"
    }
   ],
   "source": [
    "X['State'].value_counts()"
   ]
  },
  {
   "cell_type": "code",
   "execution_count": 39,
   "metadata": {
    "colab": {
     "base_uri": "https://localhost:8080/",
     "height": 236
    },
    "id": "bmNfc-SkwHjL",
    "outputId": "337ee7dd-5ef7-4178-97ce-64685ed3c2b5"
   },
   "outputs": [
    {
     "data": {
      "text/html": [
       "<div>\n",
       "<style scoped>\n",
       "    .dataframe tbody tr th:only-of-type {\n",
       "        vertical-align: middle;\n",
       "    }\n",
       "\n",
       "    .dataframe tbody tr th {\n",
       "        vertical-align: top;\n",
       "    }\n",
       "\n",
       "    .dataframe thead th {\n",
       "        text-align: right;\n",
       "    }\n",
       "</style>\n",
       "<table border=\"1\" class=\"dataframe\">\n",
       "  <thead>\n",
       "    <tr style=\"text-align: right;\">\n",
       "      <th></th>\n",
       "      <th>Asst_Reg</th>\n",
       "      <th>GGGrade</th>\n",
       "      <th>Experience</th>\n",
       "      <th>Validation</th>\n",
       "      <th>Yearly_Income</th>\n",
       "      <th>Home_Status</th>\n",
       "      <th>Unpaid_2_years</th>\n",
       "      <th>Already_Defaulted</th>\n",
       "      <th>Debt_to_Income</th>\n",
       "      <th>Postal_Code</th>\n",
       "      <th>...</th>\n",
       "      <th>Present_Balance</th>\n",
       "      <th>File_Status</th>\n",
       "      <th>State</th>\n",
       "      <th>Account_Open</th>\n",
       "      <th>Total_Unpaid_CL</th>\n",
       "      <th>Duration</th>\n",
       "      <th>Unpaid_Amount</th>\n",
       "      <th>Reason</th>\n",
       "      <th>Claim_Type</th>\n",
       "      <th>Due_Fee</th>\n",
       "    </tr>\n",
       "  </thead>\n",
       "  <tbody>\n",
       "    <tr>\n",
       "      <th>0</th>\n",
       "      <td>421802</td>\n",
       "      <td>1</td>\n",
       "      <td>10</td>\n",
       "      <td>2</td>\n",
       "      <td>633600.00</td>\n",
       "      <td>0</td>\n",
       "      <td>0</td>\n",
       "      <td>0</td>\n",
       "      <td>12.5496</td>\n",
       "      <td>91300.0</td>\n",
       "      <td>...</td>\n",
       "      <td>607161.90</td>\n",
       "      <td>0</td>\n",
       "      <td>6</td>\n",
       "      <td>17</td>\n",
       "      <td>58598.0</td>\n",
       "      <td>0</td>\n",
       "      <td>31216.05</td>\n",
       "      <td>3</td>\n",
       "      <td>0</td>\n",
       "      <td>0.0</td>\n",
       "    </tr>\n",
       "    <tr>\n",
       "      <th>1</th>\n",
       "      <td>3964312</td>\n",
       "      <td>3</td>\n",
       "      <td>6</td>\n",
       "      <td>1</td>\n",
       "      <td>85483.20</td>\n",
       "      <td>4</td>\n",
       "      <td>0</td>\n",
       "      <td>0</td>\n",
       "      <td>9.0048</td>\n",
       "      <td>27400.0</td>\n",
       "      <td>...</td>\n",
       "      <td>269234.06</td>\n",
       "      <td>1</td>\n",
       "      <td>25</td>\n",
       "      <td>15</td>\n",
       "      <td>18924.0</td>\n",
       "      <td>1</td>\n",
       "      <td>11660.49</td>\n",
       "      <td>3</td>\n",
       "      <td>0</td>\n",
       "      <td>0.0</td>\n",
       "    </tr>\n",
       "    <tr>\n",
       "      <th>2</th>\n",
       "      <td>4247560</td>\n",
       "      <td>2</td>\n",
       "      <td>9</td>\n",
       "      <td>1</td>\n",
       "      <td>79200.00</td>\n",
       "      <td>4</td>\n",
       "      <td>0</td>\n",
       "      <td>0</td>\n",
       "      <td>24.9144</td>\n",
       "      <td>32800.0</td>\n",
       "      <td>...</td>\n",
       "      <td>22476.53</td>\n",
       "      <td>1</td>\n",
       "      <td>9</td>\n",
       "      <td>7</td>\n",
       "      <td>15604.0</td>\n",
       "      <td>1</td>\n",
       "      <td>5637.87</td>\n",
       "      <td>6</td>\n",
       "      <td>0</td>\n",
       "      <td>0.0</td>\n",
       "    </tr>\n",
       "    <tr>\n",
       "      <th>3</th>\n",
       "      <td>197179</td>\n",
       "      <td>2</td>\n",
       "      <td>9</td>\n",
       "      <td>2</td>\n",
       "      <td>61600.00</td>\n",
       "      <td>4</td>\n",
       "      <td>0</td>\n",
       "      <td>0</td>\n",
       "      <td>16.5816</td>\n",
       "      <td>7000.0</td>\n",
       "      <td>...</td>\n",
       "      <td>15242.09</td>\n",
       "      <td>0</td>\n",
       "      <td>31</td>\n",
       "      <td>9</td>\n",
       "      <td>22410.0</td>\n",
       "      <td>0</td>\n",
       "      <td>15607.17</td>\n",
       "      <td>6</td>\n",
       "      <td>0</td>\n",
       "      <td>0.0</td>\n",
       "    </tr>\n",
       "    <tr>\n",
       "      <th>4</th>\n",
       "      <td>4646684</td>\n",
       "      <td>4</td>\n",
       "      <td>1</td>\n",
       "      <td>1</td>\n",
       "      <td>68053.92</td>\n",
       "      <td>4</td>\n",
       "      <td>0</td>\n",
       "      <td>0</td>\n",
       "      <td>40.0512</td>\n",
       "      <td>70800.0</td>\n",
       "      <td>...</td>\n",
       "      <td>65433.94</td>\n",
       "      <td>0</td>\n",
       "      <td>16</td>\n",
       "      <td>10</td>\n",
       "      <td>36022.0</td>\n",
       "      <td>1</td>\n",
       "      <td>27472.86</td>\n",
       "      <td>3</td>\n",
       "      <td>0</td>\n",
       "      <td>0.0</td>\n",
       "    </tr>\n",
       "  </tbody>\n",
       "</table>\n",
       "<p>5 rows × 25 columns</p>\n",
       "</div>"
      ],
      "text/plain": [
       "   Asst_Reg  GGGrade  Experience  Validation  Yearly_Income  Home_Status  \\\n",
       "0    421802        1          10           2      633600.00            0   \n",
       "1   3964312        3           6           1       85483.20            4   \n",
       "2   4247560        2           9           1       79200.00            4   \n",
       "3    197179        2           9           2       61600.00            4   \n",
       "4   4646684        4           1           1       68053.92            4   \n",
       "\n",
       "   Unpaid_2_years  Already_Defaulted  Debt_to_Income  Postal_Code  ...  \\\n",
       "0               0                  0         12.5496      91300.0  ...   \n",
       "1               0                  0          9.0048      27400.0  ...   \n",
       "2               0                  0         24.9144      32800.0  ...   \n",
       "3               0                  0         16.5816       7000.0  ...   \n",
       "4               0                  0         40.0512      70800.0  ...   \n",
       "\n",
       "   Present_Balance  File_Status  State  Account_Open  Total_Unpaid_CL  \\\n",
       "0        607161.90            0      6            17          58598.0   \n",
       "1        269234.06            1     25            15          18924.0   \n",
       "2         22476.53            1      9             7          15604.0   \n",
       "3         15242.09            0     31             9          22410.0   \n",
       "4         65433.94            0     16            10          36022.0   \n",
       "\n",
       "   Duration  Unpaid_Amount  Reason  Claim_Type  Due_Fee  \n",
       "0         0       31216.05       3           0      0.0  \n",
       "1         1       11660.49       3           0      0.0  \n",
       "2         1        5637.87       6           0      0.0  \n",
       "3         0       15607.17       6           0      0.0  \n",
       "4         1       27472.86       3           0      0.0  \n",
       "\n",
       "[5 rows x 25 columns]"
      ]
     },
     "execution_count": 39,
     "metadata": {},
     "output_type": "execute_result"
    }
   ],
   "source": [
    "X.head()"
   ]
  },
  {
   "cell_type": "code",
   "execution_count": 40,
   "metadata": {
    "colab": {
     "base_uri": "https://localhost:8080/",
     "height": 490
    },
    "id": "3JQLrsejTwi9",
    "outputId": "e1892c6a-7a1b-4521-b746-ed62a81cb8da"
   },
   "outputs": [
    {
     "data": {
      "text/plain": [
       "75000.0    2366\n",
       "94500.0     925\n",
       "11200.0     903\n",
       "60600.0     842\n",
       "33100.0     774\n",
       "           ... \n",
       "4300.0        1\n",
       "90100.0       1\n",
       "50000.0       1\n",
       "96500.0       1\n",
       "83800.0       1\n",
       "Name: Postal_Code, Length: 865, dtype: int64"
      ]
     },
     "execution_count": 40,
     "metadata": {},
     "output_type": "execute_result"
    }
   ],
   "source": [
    "X['Postal_Code'].value_counts()"
   ]
  },
  {
   "cell_type": "markdown",
   "metadata": {
    "id": "iQvpHebMFleh"
   },
   "source": [
    "## **CORRELATION MATRIX**"
   ]
  },
  {
   "cell_type": "code",
   "execution_count": 41,
   "metadata": {
    "colab": {
     "base_uri": "https://localhost:8080/",
     "height": 989
    },
    "id": "goi70vGfFS5V",
    "outputId": "b8aaa968-ea0f-401d-c2cd-fc65bb23c637"
   },
   "outputs": [
    {
     "data": {
      "image/png": "[encoded data removed]",
      "text/plain": [
       "<Figure size 1008x720 with 2 Axes>"
      ]
     },
     "metadata": {
      "needs_background": "light"
     },
     "output_type": "display_data"
    }
   ],
   "source": [
    "import matplotlib.pyplot as plt\n",
    "import seaborn as sns\n",
    "# Compute the correlation matrix\n",
    "corr_matrix = X.corr()\n",
    "\n",
    "# Set up the matplotlib figure\n",
    "plt.figure(figsize=(14, 10))\n",
    "\n",
    "# Draw the heatmap with the mask and correct aspect ratio\n",
    "sns.heatmap(corr_matrix, annot=True, cmap='coolwarm', fmt='.2f', vmin=-1, vmax=1, center=0,\n",
    "            square=True, linewidths=0.5, cbar_kws={\"shrink\": .8})\n",
    "\n",
    "# Add a title to the plot\n",
    "plt.title('Correlation Heatmap (Excluding Target Variable)', fontsize=16)\n",
    "\n",
    "# Show the plot\n",
    "plt.show()"
   ]
  },
  {
   "cell_type": "code",
   "execution_count": 42,
   "metadata": {
    "colab": {
     "base_uri": "https://localhost:8080/",
     "height": 350
    },
    "id": "CMYYptswN46o",
    "outputId": "2bb4746b-601f-4ef4-f3f5-e40762b9a49c"
   },
   "outputs": [
    {
     "data": {
      "text/html": [
       "<div>\n",
       "<style scoped>\n",
       "    .dataframe tbody tr th:only-of-type {\n",
       "        vertical-align: middle;\n",
       "    }\n",
       "\n",
       "    .dataframe tbody tr th {\n",
       "        vertical-align: top;\n",
       "    }\n",
       "\n",
       "    .dataframe thead th {\n",
       "        text-align: right;\n",
       "    }\n",
       "</style>\n",
       "<table border=\"1\" class=\"dataframe\">\n",
       "  <thead>\n",
       "    <tr style=\"text-align: right;\">\n",
       "      <th></th>\n",
       "      <th>Asst_Reg</th>\n",
       "      <th>GGGrade</th>\n",
       "      <th>Experience</th>\n",
       "      <th>Validation</th>\n",
       "      <th>Yearly_Income</th>\n",
       "      <th>Home_Status</th>\n",
       "      <th>Unpaid_2_years</th>\n",
       "      <th>Already_Defaulted</th>\n",
       "      <th>Debt_to_Income</th>\n",
       "      <th>Postal_Code</th>\n",
       "      <th>...</th>\n",
       "      <th>Present_Balance</th>\n",
       "      <th>File_Status</th>\n",
       "      <th>State</th>\n",
       "      <th>Account_Open</th>\n",
       "      <th>Total_Unpaid_CL</th>\n",
       "      <th>Duration</th>\n",
       "      <th>Unpaid_Amount</th>\n",
       "      <th>Reason</th>\n",
       "      <th>Claim_Type</th>\n",
       "      <th>Due_Fee</th>\n",
       "    </tr>\n",
       "  </thead>\n",
       "  <tbody>\n",
       "    <tr>\n",
       "      <th>count</th>\n",
       "      <td>8.750000e+04</td>\n",
       "      <td>87500.000000</td>\n",
       "      <td>87500.000000</td>\n",
       "      <td>87500.000000</td>\n",
       "      <td>8.750000e+04</td>\n",
       "      <td>87500.000000</td>\n",
       "      <td>87500.000000</td>\n",
       "      <td>87500.000000</td>\n",
       "      <td>87500.000000</td>\n",
       "      <td>87500.000000</td>\n",
       "      <td>...</td>\n",
       "      <td>8.750000e+04</td>\n",
       "      <td>87500.000000</td>\n",
       "      <td>87500.000000</td>\n",
       "      <td>87500.00000</td>\n",
       "      <td>8.750000e+04</td>\n",
       "      <td>87500.000000</td>\n",
       "      <td>8.750000e+04</td>\n",
       "      <td>87500.000000</td>\n",
       "      <td>87500.000000</td>\n",
       "      <td>87500.000000</td>\n",
       "    </tr>\n",
       "    <tr>\n",
       "      <th>mean</th>\n",
       "      <td>3.798914e+06</td>\n",
       "      <td>1.810686</td>\n",
       "      <td>6.234629</td>\n",
       "      <td>1.003291</td>\n",
       "      <td>1.335561e+05</td>\n",
       "      <td>1.884800</td>\n",
       "      <td>0.332937</td>\n",
       "      <td>0.005726</td>\n",
       "      <td>30.910623</td>\n",
       "      <td>51533.901714</td>\n",
       "      <td>...</td>\n",
       "      <td>2.363895e+05</td>\n",
       "      <td>0.529143</td>\n",
       "      <td>22.256731</td>\n",
       "      <td>12.77944</td>\n",
       "      <td>5.261827e+04</td>\n",
       "      <td>0.313589</td>\n",
       "      <td>2.907608e+04</td>\n",
       "      <td>3.291211</td>\n",
       "      <td>0.000526</td>\n",
       "      <td>0.316407</td>\n",
       "    </tr>\n",
       "    <tr>\n",
       "      <th>std</th>\n",
       "      <td>2.289038e+06</td>\n",
       "      <td>1.303598</td>\n",
       "      <td>3.668031</td>\n",
       "      <td>0.778245</td>\n",
       "      <td>9.575509e+04</td>\n",
       "      <td>1.922969</td>\n",
       "      <td>0.876080</td>\n",
       "      <td>0.083505</td>\n",
       "      <td>13.797139</td>\n",
       "      <td>31105.615360</td>\n",
       "      <td>...</td>\n",
       "      <td>2.550568e+05</td>\n",
       "      <td>0.499153</td>\n",
       "      <td>14.115867</td>\n",
       "      <td>5.37116</td>\n",
       "      <td>5.204695e+04</td>\n",
       "      <td>0.463954</td>\n",
       "      <td>3.645688e+04</td>\n",
       "      <td>1.759687</td>\n",
       "      <td>0.022923</td>\n",
       "      <td>3.546087</td>\n",
       "    </tr>\n",
       "    <tr>\n",
       "      <th>min</th>\n",
       "      <td>2.484700e+04</td>\n",
       "      <td>0.000000</td>\n",
       "      <td>0.000000</td>\n",
       "      <td>0.000000</td>\n",
       "      <td>8.800000e+03</td>\n",
       "      <td>0.000000</td>\n",
       "      <td>0.000000</td>\n",
       "      <td>0.000000</td>\n",
       "      <td>0.000000</td>\n",
       "      <td>1000.000000</td>\n",
       "      <td>...</td>\n",
       "      <td>0.000000e+00</td>\n",
       "      <td>0.000000</td>\n",
       "      <td>0.000000</td>\n",
       "      <td>2.00000</td>\n",
       "      <td>3.320000e+02</td>\n",
       "      <td>0.000000</td>\n",
       "      <td>0.000000e+00</td>\n",
       "      <td>0.000000</td>\n",
       "      <td>0.000000</td>\n",
       "      <td>0.000000</td>\n",
       "    </tr>\n",
       "    <tr>\n",
       "      <th>25%</th>\n",
       "      <td>1.483874e+06</td>\n",
       "      <td>1.000000</td>\n",
       "      <td>3.000000</td>\n",
       "      <td>0.000000</td>\n",
       "      <td>8.624000e+04</td>\n",
       "      <td>0.000000</td>\n",
       "      <td>0.000000</td>\n",
       "      <td>0.000000</td>\n",
       "      <td>20.848800</td>\n",
       "      <td>23200.000000</td>\n",
       "      <td>...</td>\n",
       "      <td>5.173493e+04</td>\n",
       "      <td>0.000000</td>\n",
       "      <td>9.000000</td>\n",
       "      <td>9.00000</td>\n",
       "      <td>2.407000e+04</td>\n",
       "      <td>0.000000</td>\n",
       "      <td>1.194948e+04</td>\n",
       "      <td>3.000000</td>\n",
       "      <td>0.000000</td>\n",
       "      <td>0.000000</td>\n",
       "    </tr>\n",
       "    <tr>\n",
       "      <th>50%</th>\n",
       "      <td>4.132010e+06</td>\n",
       "      <td>2.000000</td>\n",
       "      <td>7.000000</td>\n",
       "      <td>1.000000</td>\n",
       "      <td>1.144000e+05</td>\n",
       "      <td>0.000000</td>\n",
       "      <td>0.000000</td>\n",
       "      <td>0.000000</td>\n",
       "      <td>30.139200</td>\n",
       "      <td>48100.000000</td>\n",
       "      <td>...</td>\n",
       "      <td>1.388062e+05</td>\n",
       "      <td>1.000000</td>\n",
       "      <td>21.000000</td>\n",
       "      <td>12.00000</td>\n",
       "      <td>3.967400e+04</td>\n",
       "      <td>0.000000</td>\n",
       "      <td>2.089278e+04</td>\n",
       "      <td>3.000000</td>\n",
       "      <td>0.000000</td>\n",
       "      <td>0.000000</td>\n",
       "    </tr>\n",
       "    <tr>\n",
       "      <th>75%</th>\n",
       "      <td>5.952909e+06</td>\n",
       "      <td>3.000000</td>\n",
       "      <td>10.000000</td>\n",
       "      <td>2.000000</td>\n",
       "      <td>1.584000e+05</td>\n",
       "      <td>4.000000</td>\n",
       "      <td>0.000000</td>\n",
       "      <td>0.000000</td>\n",
       "      <td>40.404000</td>\n",
       "      <td>80100.000000</td>\n",
       "      <td>...</td>\n",
       "      <td>3.534755e+05</td>\n",
       "      <td>1.000000</td>\n",
       "      <td>35.000000</td>\n",
       "      <td>16.00000</td>\n",
       "      <td>6.440800e+04</td>\n",
       "      <td>1.000000</td>\n",
       "      <td>3.509604e+04</td>\n",
       "      <td>3.000000</td>\n",
       "      <td>0.000000</td>\n",
       "      <td>0.000000</td>\n",
       "    </tr>\n",
       "    <tr>\n",
       "      <th>max</th>\n",
       "      <td>7.351847e+06</td>\n",
       "      <td>6.000000</td>\n",
       "      <td>10.000000</td>\n",
       "      <td>2.000000</td>\n",
       "      <td>8.264031e+06</td>\n",
       "      <td>4.000000</td>\n",
       "      <td>18.000000</td>\n",
       "      <td>6.000000</td>\n",
       "      <td>639.290400</td>\n",
       "      <td>99900.000000</td>\n",
       "      <td>...</td>\n",
       "      <td>5.629234e+06</td>\n",
       "      <td>1.000000</td>\n",
       "      <td>48.000000</td>\n",
       "      <td>83.00000</td>\n",
       "      <td>1.710630e+06</td>\n",
       "      <td>1.000000</td>\n",
       "      <td>1.338778e+06</td>\n",
       "      <td>12.000000</td>\n",
       "      <td>1.000000</td>\n",
       "      <td>169.050000</td>\n",
       "    </tr>\n",
       "  </tbody>\n",
       "</table>\n",
       "<p>8 rows × 25 columns</p>\n",
       "</div>"
      ],
      "text/plain": [
       "           Asst_Reg       GGGrade    Experience    Validation  Yearly_Income  \\\n",
       "count  8.750000e+04  87500.000000  87500.000000  87500.000000   8.750000e+04   \n",
       "mean   3.798914e+06      1.810686      6.234629      1.003291   1.335561e+05   \n",
       "std    2.289038e+06      1.303598      3.668031      0.778245   9.575509e+04   \n",
       "min    2.484700e+04      0.000000      0.000000      0.000000   8.800000e+03   \n",
       "25%    1.483874e+06      1.000000      3.000000      0.000000   8.624000e+04   \n",
       "50%    4.132010e+06      2.000000      7.000000      1.000000   1.144000e+05   \n",
       "75%    5.952909e+06      3.000000     10.000000      2.000000   1.584000e+05   \n",
       "max    7.351847e+06      6.000000     10.000000      2.000000   8.264031e+06   \n",
       "\n",
       "        Home_Status  Unpaid_2_years  Already_Defaulted  Debt_to_Income  \\\n",
       "count  87500.000000    87500.000000       87500.000000    87500.000000   \n",
       "mean       1.884800        0.332937           0.005726       30.910623   \n",
       "std        1.922969        0.876080           0.083505       13.797139   \n",
       "min        0.000000        0.000000           0.000000        0.000000   \n",
       "25%        0.000000        0.000000           0.000000       20.848800   \n",
       "50%        0.000000        0.000000           0.000000       30.139200   \n",
       "75%        4.000000        0.000000           0.000000       40.404000   \n",
       "max        4.000000       18.000000           6.000000      639.290400   \n",
       "\n",
       "        Postal_Code  ...  Present_Balance   File_Status         State  \\\n",
       "count  87500.000000  ...     8.750000e+04  87500.000000  87500.000000   \n",
       "mean   51533.901714  ...     2.363895e+05      0.529143     22.256731   \n",
       "std    31105.615360  ...     2.550568e+05      0.499153     14.115867   \n",
       "min     1000.000000  ...     0.000000e+00      0.000000      0.000000   \n",
       "25%    23200.000000  ...     5.173493e+04      0.000000      9.000000   \n",
       "50%    48100.000000  ...     1.388062e+05      1.000000     21.000000   \n",
       "75%    80100.000000  ...     3.534755e+05      1.000000     35.000000   \n",
       "max    99900.000000  ...     5.629234e+06      1.000000     48.000000   \n",
       "\n",
       "       Account_Open  Total_Unpaid_CL      Duration  Unpaid_Amount  \\\n",
       "count   87500.00000     8.750000e+04  87500.000000   8.750000e+04   \n",
       "mean       12.77944     5.261827e+04      0.313589   2.907608e+04   \n",
       "std         5.37116     5.204695e+04      0.463954   3.645688e+04   \n",
       "min         2.00000     3.320000e+02      0.000000   0.000000e+00   \n",
       "25%         9.00000     2.407000e+04      0.000000   1.194948e+04   \n",
       "50%        12.00000     3.967400e+04      0.000000   2.089278e+04   \n",
       "75%        16.00000     6.440800e+04      1.000000   3.509604e+04   \n",
       "max        83.00000     1.710630e+06      1.000000   1.338778e+06   \n",
       "\n",
       "             Reason    Claim_Type       Due_Fee  \n",
       "count  87500.000000  87500.000000  87500.000000  \n",
       "mean       3.291211      0.000526      0.316407  \n",
       "std        1.759687      0.022923      3.546087  \n",
       "min        0.000000      0.000000      0.000000  \n",
       "25%        3.000000      0.000000      0.000000  \n",
       "50%        3.000000      0.000000      0.000000  \n",
       "75%        3.000000      0.000000      0.000000  \n",
       "max       12.000000      1.000000    169.050000  \n",
       "\n",
       "[8 rows x 25 columns]"
      ]
     },
     "execution_count": 42,
     "metadata": {},
     "output_type": "execute_result"
    }
   ],
   "source": [
    "X.describe()"
   ]
  },
  {
   "cell_type": "code",
   "execution_count": 43,
   "metadata": {
    "colab": {
     "base_uri": "https://localhost:8080/"
    },
    "id": "kfSzlm7JEor6",
    "outputId": "3063c516-7bc3-45f2-b189-69954c2a0075"
   },
   "outputs": [
    {
     "name": "stdout",
     "output_type": "stream",
     "text": [
      "<class 'pandas.core.frame.DataFrame'>\n",
      "RangeIndex: 87500 entries, 0 to 87499\n",
      "Data columns (total 25 columns):\n",
      " #   Column               Non-Null Count  Dtype  \n",
      "---  ------               --------------  -----  \n",
      " 0   Asst_Reg             87500 non-null  int64  \n",
      " 1   GGGrade              87500 non-null  int32  \n",
      " 2   Experience           87500 non-null  int32  \n",
      " 3   Validation           87500 non-null  int32  \n",
      " 4   Yearly_Income        87500 non-null  float64\n",
      " 5   Home_Status          87500 non-null  int32  \n",
      " 6   Unpaid_2_years       87500 non-null  int64  \n",
      " 7   Already_Defaulted    87500 non-null  int64  \n",
      " 8   Debt_to_Income       87500 non-null  float64\n",
      " 9   Postal_Code          87500 non-null  float64\n",
      " 10  Lend_Amount          87500 non-null  float64\n",
      " 11  Deprecatory_Records  87500 non-null  int64  \n",
      " 12  Interest_Charged     87500 non-null  float64\n",
      " 13  Usage_Rate           87500 non-null  float64\n",
      " 14  Inquiries            87500 non-null  int64  \n",
      " 15  Present_Balance      87500 non-null  float64\n",
      " 16  File_Status          87500 non-null  int32  \n",
      " 17  State                87500 non-null  int32  \n",
      " 18  Account_Open         87500 non-null  int64  \n",
      " 19  Total_Unpaid_CL      87500 non-null  float64\n",
      " 20  Duration             87500 non-null  int32  \n",
      " 21  Unpaid_Amount        87500 non-null  float64\n",
      " 22  Reason               87500 non-null  int32  \n",
      " 23  Claim_Type           87500 non-null  int32  \n",
      " 24  Due_Fee              87500 non-null  float64\n",
      "dtypes: float64(10), int32(9), int64(6)\n",
      "memory usage: 13.7 MB\n",
      "None\n"
     ]
    }
   ],
   "source": [
    "print(X.info())"
   ]
  },
  {
   "cell_type": "markdown",
   "metadata": {
    "id": "3lhAg80vF7M7"
   },
   "source": [
    "# **Standardization and normalization:**"
   ]
  },
  {
   "cell_type": "code",
   "execution_count": 44,
   "metadata": {
    "id": "BOLmunfaXhDf"
   },
   "outputs": [],
   "source": [
    "from sklearn.preprocessing import StandardScaler\n",
    "\n",
    "X_scaled = X.copy()\n",
    "\n",
    "#nun_columns=['Asst_Reg','Lend_Amount','Debt_to_Income','Unpaid_Amount','Inquiries']\n",
    "\n",
    "# Robust Scaling for numeric features\n",
    "scaler = StandardScaler()\n",
    "X_scaled[numeric_columns] = scaler.fit_transform(X_scaled[numeric_columns])"
   ]
  },
  {
   "cell_type": "code",
   "execution_count": 45,
   "metadata": {
    "colab": {
     "base_uri": "https://localhost:8080/",
     "height": 437
    },
    "id": "Fl9dO4ReWSgF",
    "outputId": "9e1fb3d8-0418-4cf5-fef8-bb593e33e866"
   },
   "outputs": [
    {
     "data": {
      "text/html": [
       "<div>\n",
       "<style scoped>\n",
       "    .dataframe tbody tr th:only-of-type {\n",
       "        vertical-align: middle;\n",
       "    }\n",
       "\n",
       "    .dataframe tbody tr th {\n",
       "        vertical-align: top;\n",
       "    }\n",
       "\n",
       "    .dataframe thead th {\n",
       "        text-align: right;\n",
       "    }\n",
       "</style>\n",
       "<table border=\"1\" class=\"dataframe\">\n",
       "  <thead>\n",
       "    <tr style=\"text-align: right;\">\n",
       "      <th></th>\n",
       "      <th>Asst_Reg</th>\n",
       "      <th>GGGrade</th>\n",
       "      <th>Experience</th>\n",
       "      <th>Validation</th>\n",
       "      <th>Yearly_Income</th>\n",
       "      <th>Home_Status</th>\n",
       "      <th>Unpaid_2_years</th>\n",
       "      <th>Already_Defaulted</th>\n",
       "      <th>Debt_to_Income</th>\n",
       "      <th>Postal_Code</th>\n",
       "      <th>...</th>\n",
       "      <th>Present_Balance</th>\n",
       "      <th>File_Status</th>\n",
       "      <th>State</th>\n",
       "      <th>Account_Open</th>\n",
       "      <th>Total_Unpaid_CL</th>\n",
       "      <th>Duration</th>\n",
       "      <th>Unpaid_Amount</th>\n",
       "      <th>Reason</th>\n",
       "      <th>Claim_Type</th>\n",
       "      <th>Due_Fee</th>\n",
       "    </tr>\n",
       "  </thead>\n",
       "  <tbody>\n",
       "    <tr>\n",
       "      <th>count</th>\n",
       "      <td>8.750000e+04</td>\n",
       "      <td>87500.000000</td>\n",
       "      <td>87500.000000</td>\n",
       "      <td>87500.000000</td>\n",
       "      <td>8.750000e+04</td>\n",
       "      <td>87500.000000</td>\n",
       "      <td>8.750000e+04</td>\n",
       "      <td>8.750000e+04</td>\n",
       "      <td>8.750000e+04</td>\n",
       "      <td>8.750000e+04</td>\n",
       "      <td>...</td>\n",
       "      <td>8.750000e+04</td>\n",
       "      <td>87500.000000</td>\n",
       "      <td>87500.000000</td>\n",
       "      <td>8.750000e+04</td>\n",
       "      <td>8.750000e+04</td>\n",
       "      <td>87500.000000</td>\n",
       "      <td>8.750000e+04</td>\n",
       "      <td>87500.000000</td>\n",
       "      <td>87500.000000</td>\n",
       "      <td>8.750000e+04</td>\n",
       "    </tr>\n",
       "    <tr>\n",
       "      <th>mean</th>\n",
       "      <td>7.336354e-18</td>\n",
       "      <td>1.810686</td>\n",
       "      <td>6.234629</td>\n",
       "      <td>1.003291</td>\n",
       "      <td>-1.920746e-16</td>\n",
       "      <td>1.884800</td>\n",
       "      <td>-2.101617e-15</td>\n",
       "      <td>2.076561e-15</td>\n",
       "      <td>4.724957e-16</td>\n",
       "      <td>-1.352011e-16</td>\n",
       "      <td>...</td>\n",
       "      <td>4.615863e-17</td>\n",
       "      <td>0.529143</td>\n",
       "      <td>22.256731</td>\n",
       "      <td>-3.562940e-16</td>\n",
       "      <td>-7.419843e-17</td>\n",
       "      <td>0.313589</td>\n",
       "      <td>1.199028e-16</td>\n",
       "      <td>3.291211</td>\n",
       "      <td>0.000526</td>\n",
       "      <td>-1.618228e-15</td>\n",
       "    </tr>\n",
       "    <tr>\n",
       "      <th>std</th>\n",
       "      <td>1.000006e+00</td>\n",
       "      <td>1.303598</td>\n",
       "      <td>3.668031</td>\n",
       "      <td>0.778245</td>\n",
       "      <td>1.000006e+00</td>\n",
       "      <td>1.922969</td>\n",
       "      <td>1.000006e+00</td>\n",
       "      <td>1.000006e+00</td>\n",
       "      <td>1.000006e+00</td>\n",
       "      <td>1.000006e+00</td>\n",
       "      <td>...</td>\n",
       "      <td>1.000006e+00</td>\n",
       "      <td>0.499153</td>\n",
       "      <td>14.115867</td>\n",
       "      <td>1.000006e+00</td>\n",
       "      <td>1.000006e+00</td>\n",
       "      <td>0.463954</td>\n",
       "      <td>1.000006e+00</td>\n",
       "      <td>1.759687</td>\n",
       "      <td>0.022923</td>\n",
       "      <td>1.000006e+00</td>\n",
       "    </tr>\n",
       "    <tr>\n",
       "      <th>min</th>\n",
       "      <td>-1.648766e+00</td>\n",
       "      <td>0.000000</td>\n",
       "      <td>0.000000</td>\n",
       "      <td>0.000000</td>\n",
       "      <td>-1.302874e+00</td>\n",
       "      <td>0.000000</td>\n",
       "      <td>-3.800328e-01</td>\n",
       "      <td>-6.856808e-02</td>\n",
       "      <td>-2.240378e+00</td>\n",
       "      <td>-1.624600e+00</td>\n",
       "      <td>...</td>\n",
       "      <td>-9.268164e-01</td>\n",
       "      <td>0.000000</td>\n",
       "      <td>0.000000</td>\n",
       "      <td>-2.006922e+00</td>\n",
       "      <td>-1.004604e+00</td>\n",
       "      <td>0.000000</td>\n",
       "      <td>-7.975517e-01</td>\n",
       "      <td>0.000000</td>\n",
       "      <td>0.000000</td>\n",
       "      <td>-8.922763e-02</td>\n",
       "    </tr>\n",
       "    <tr>\n",
       "      <th>25%</th>\n",
       "      <td>-1.011365e+00</td>\n",
       "      <td>1.000000</td>\n",
       "      <td>3.000000</td>\n",
       "      <td>0.000000</td>\n",
       "      <td>-4.941391e-01</td>\n",
       "      <td>0.000000</td>\n",
       "      <td>-3.800328e-01</td>\n",
       "      <td>-6.856808e-02</td>\n",
       "      <td>-7.292730e-01</td>\n",
       "      <td>-9.108987e-01</td>\n",
       "      <td>...</td>\n",
       "      <td>-7.239784e-01</td>\n",
       "      <td>0.000000</td>\n",
       "      <td>9.000000</td>\n",
       "      <td>-7.036583e-01</td>\n",
       "      <td>-5.485131e-01</td>\n",
       "      <td>0.000000</td>\n",
       "      <td>-4.697796e-01</td>\n",
       "      <td>3.000000</td>\n",
       "      <td>0.000000</td>\n",
       "      <td>-8.922763e-02</td>\n",
       "    </tr>\n",
       "    <tr>\n",
       "      <th>50%</th>\n",
       "      <td>1.455189e-01</td>\n",
       "      <td>2.000000</td>\n",
       "      <td>7.000000</td>\n",
       "      <td>1.000000</td>\n",
       "      <td>-2.000538e-01</td>\n",
       "      <td>0.000000</td>\n",
       "      <td>-3.800328e-01</td>\n",
       "      <td>-6.856808e-02</td>\n",
       "      <td>-5.591213e-02</td>\n",
       "      <td>-1.103955e-01</td>\n",
       "      <td>...</td>\n",
       "      <td>-3.825964e-01</td>\n",
       "      <td>1.000000</td>\n",
       "      <td>21.000000</td>\n",
       "      <td>-1.451166e-01</td>\n",
       "      <td>-2.487052e-01</td>\n",
       "      <td>0.000000</td>\n",
       "      <td>-2.244664e-01</td>\n",
       "      <td>3.000000</td>\n",
       "      <td>0.000000</td>\n",
       "      <td>-8.922763e-02</td>\n",
       "    </tr>\n",
       "    <tr>\n",
       "      <th>75%</th>\n",
       "      <td>9.410097e-01</td>\n",
       "      <td>3.000000</td>\n",
       "      <td>10.000000</td>\n",
       "      <td>2.000000</td>\n",
       "      <td>2.594544e-01</td>\n",
       "      <td>4.000000</td>\n",
       "      <td>-3.800328e-01</td>\n",
       "      <td>-6.856808e-02</td>\n",
       "      <td>6.880725e-01</td>\n",
       "      <td>9.183635e-01</td>\n",
       "      <td>...</td>\n",
       "      <td>4.590615e-01</td>\n",
       "      <td>1.000000</td>\n",
       "      <td>35.000000</td>\n",
       "      <td>5.996057e-01</td>\n",
       "      <td>2.265223e-01</td>\n",
       "      <td>1.000000</td>\n",
       "      <td>1.651264e-01</td>\n",
       "      <td>3.000000</td>\n",
       "      <td>0.000000</td>\n",
       "      <td>-8.922763e-02</td>\n",
       "    </tr>\n",
       "    <tr>\n",
       "      <th>max</th>\n",
       "      <td>1.552160e+00</td>\n",
       "      <td>6.000000</td>\n",
       "      <td>10.000000</td>\n",
       "      <td>2.000000</td>\n",
       "      <td>8.490955e+01</td>\n",
       "      <td>4.000000</td>\n",
       "      <td>2.016616e+01</td>\n",
       "      <td>7.178421e+01</td>\n",
       "      <td>4.409489e+01</td>\n",
       "      <td>1.554908e+00</td>\n",
       "      <td>...</td>\n",
       "      <td>2.114382e+01</td>\n",
       "      <td>1.000000</td>\n",
       "      <td>48.000000</td>\n",
       "      <td>1.307370e+01</td>\n",
       "      <td>3.185626e+01</td>\n",
       "      <td>1.000000</td>\n",
       "      <td>3.592488e+01</td>\n",
       "      <td>12.000000</td>\n",
       "      <td>1.000000</td>\n",
       "      <td>4.758331e+01</td>\n",
       "    </tr>\n",
       "  </tbody>\n",
       "</table>\n",
       "<p>8 rows × 25 columns</p>\n",
       "</div>"
      ],
      "text/plain": [
       "           Asst_Reg       GGGrade    Experience    Validation  Yearly_Income  \\\n",
       "count  8.750000e+04  87500.000000  87500.000000  87500.000000   8.750000e+04   \n",
       "mean   7.336354e-18      1.810686      6.234629      1.003291  -1.920746e-16   \n",
       "std    1.000006e+00      1.303598      3.668031      0.778245   1.000006e+00   \n",
       "min   -1.648766e+00      0.000000      0.000000      0.000000  -1.302874e+00   \n",
       "25%   -1.011365e+00      1.000000      3.000000      0.000000  -4.941391e-01   \n",
       "50%    1.455189e-01      2.000000      7.000000      1.000000  -2.000538e-01   \n",
       "75%    9.410097e-01      3.000000     10.000000      2.000000   2.594544e-01   \n",
       "max    1.552160e+00      6.000000     10.000000      2.000000   8.490955e+01   \n",
       "\n",
       "        Home_Status  Unpaid_2_years  Already_Defaulted  Debt_to_Income  \\\n",
       "count  87500.000000    8.750000e+04       8.750000e+04    8.750000e+04   \n",
       "mean       1.884800   -2.101617e-15       2.076561e-15    4.724957e-16   \n",
       "std        1.922969    1.000006e+00       1.000006e+00    1.000006e+00   \n",
       "min        0.000000   -3.800328e-01      -6.856808e-02   -2.240378e+00   \n",
       "25%        0.000000   -3.800328e-01      -6.856808e-02   -7.292730e-01   \n",
       "50%        0.000000   -3.800328e-01      -6.856808e-02   -5.591213e-02   \n",
       "75%        4.000000   -3.800328e-01      -6.856808e-02    6.880725e-01   \n",
       "max        4.000000    2.016616e+01       7.178421e+01    4.409489e+01   \n",
       "\n",
       "        Postal_Code  ...  Present_Balance   File_Status         State  \\\n",
       "count  8.750000e+04  ...     8.750000e+04  87500.000000  87500.000000   \n",
       "mean  -1.352011e-16  ...     4.615863e-17      0.529143     22.256731   \n",
       "std    1.000006e+00  ...     1.000006e+00      0.499153     14.115867   \n",
       "min   -1.624600e+00  ...    -9.268164e-01      0.000000      0.000000   \n",
       "25%   -9.108987e-01  ...    -7.239784e-01      0.000000      9.000000   \n",
       "50%   -1.103955e-01  ...    -3.825964e-01      1.000000     21.000000   \n",
       "75%    9.183635e-01  ...     4.590615e-01      1.000000     35.000000   \n",
       "max    1.554908e+00  ...     2.114382e+01      1.000000     48.000000   \n",
       "\n",
       "       Account_Open  Total_Unpaid_CL      Duration  Unpaid_Amount  \\\n",
       "count  8.750000e+04     8.750000e+04  87500.000000   8.750000e+04   \n",
       "mean  -3.562940e-16    -7.419843e-17      0.313589   1.199028e-16   \n",
       "std    1.000006e+00     1.000006e+00      0.463954   1.000006e+00   \n",
       "min   -2.006922e+00    -1.004604e+00      0.000000  -7.975517e-01   \n",
       "25%   -7.036583e-01    -5.485131e-01      0.000000  -4.697796e-01   \n",
       "50%   -1.451166e-01    -2.487052e-01      0.000000  -2.244664e-01   \n",
       "75%    5.996057e-01     2.265223e-01      1.000000   1.651264e-01   \n",
       "max    1.307370e+01     3.185626e+01      1.000000   3.592488e+01   \n",
       "\n",
       "             Reason    Claim_Type       Due_Fee  \n",
       "count  87500.000000  87500.000000  8.750000e+04  \n",
       "mean       3.291211      0.000526 -1.618228e-15  \n",
       "std        1.759687      0.022923  1.000006e+00  \n",
       "min        0.000000      0.000000 -8.922763e-02  \n",
       "25%        3.000000      0.000000 -8.922763e-02  \n",
       "50%        3.000000      0.000000 -8.922763e-02  \n",
       "75%        3.000000      0.000000 -8.922763e-02  \n",
       "max       12.000000      1.000000  4.758331e+01  \n",
       "\n",
       "[8 rows x 25 columns]"
      ]
     },
     "execution_count": 45,
     "metadata": {},
     "output_type": "execute_result"
    }
   ],
   "source": [
    "X_scaled.describe()"
   ]
  },
  {
   "cell_type": "code",
   "execution_count": 46,
   "metadata": {
    "colab": {
     "base_uri": "https://localhost:8080/"
    },
    "id": "8cNDV2GRK5dv",
    "outputId": "d8060cc9-5c72-4cc9-bdc3-076d0f636e5c"
   },
   "outputs": [
    {
     "name": "stdout",
     "output_type": "stream",
     "text": [
      "<class 'pandas.core.frame.DataFrame'>\n",
      "RangeIndex: 87500 entries, 0 to 87499\n",
      "Data columns (total 25 columns):\n",
      " #   Column               Non-Null Count  Dtype  \n",
      "---  ------               --------------  -----  \n",
      " 0   Asst_Reg             87500 non-null  float64\n",
      " 1   GGGrade              87500 non-null  int32  \n",
      " 2   Experience           87500 non-null  int32  \n",
      " 3   Validation           87500 non-null  int32  \n",
      " 4   Yearly_Income        87500 non-null  float64\n",
      " 5   Home_Status          87500 non-null  int32  \n",
      " 6   Unpaid_2_years       87500 non-null  float64\n",
      " 7   Already_Defaulted    87500 non-null  float64\n",
      " 8   Debt_to_Income       87500 non-null  float64\n",
      " 9   Postal_Code          87500 non-null  float64\n",
      " 10  Lend_Amount          87500 non-null  float64\n",
      " 11  Deprecatory_Records  87500 non-null  float64\n",
      " 12  Interest_Charged     87500 non-null  float64\n",
      " 13  Usage_Rate           87500 non-null  float64\n",
      " 14  Inquiries            87500 non-null  float64\n",
      " 15  Present_Balance      87500 non-null  float64\n",
      " 16  File_Status          87500 non-null  int32  \n",
      " 17  State                87500 non-null  int32  \n",
      " 18  Account_Open         87500 non-null  float64\n",
      " 19  Total_Unpaid_CL      87500 non-null  float64\n",
      " 20  Duration             87500 non-null  int32  \n",
      " 21  Unpaid_Amount        87500 non-null  float64\n",
      " 22  Reason               87500 non-null  int32  \n",
      " 23  Claim_Type           87500 non-null  int32  \n",
      " 24  Due_Fee              87500 non-null  float64\n",
      "dtypes: float64(16), int32(9)\n",
      "memory usage: 13.7 MB\n"
     ]
    }
   ],
   "source": [
    "X_scaled.info()"
   ]
  },
  {
   "cell_type": "markdown",
   "metadata": {
    "id": "Lr6oYbntlp4C"
   },
   "source": [
    "# **Multicoliniarity** **checking**"
   ]
  },
  {
   "cell_type": "code",
   "execution_count": null,
   "metadata": {
    "id": "uQPYh0HRW_4X"
   },
   "outputs": [],
   "source": [
    "# Calculate VIF for each feature\n",
    "from statsmodels.stats.outliers_influence import variance_inflation_factor\n",
    "\n",
    "\n",
    "vif_data1 = pd.DataFrame()\n",
    "vif_data1['Feature'] = X.columns\n",
    "vif_data1['VIF'] = [variance_inflation_factor(X.values, i) for i in range(X.shape[1])]"
   ]
  },
  {
   "cell_type": "code",
   "execution_count": null,
   "metadata": {
    "colab": {
     "base_uri": "https://localhost:8080/"
    },
    "id": "9vmNnuHoXnG4",
    "outputId": "5f33e5db-5032-4306-e4d3-4023de4f5af0"
   },
   "outputs": [],
   "source": [
    "print(vif_data1)"
   ]
  },
  {
   "cell_type": "code",
   "execution_count": 47,
   "metadata": {
    "colab": {
     "base_uri": "https://localhost:8080/",
     "height": 437
    },
    "id": "-gLAzmKrGg1x",
    "outputId": "7443d62b-4ddf-48c9-88d3-0af2c1ec8005"
   },
   "outputs": [
    {
     "data": {
      "text/html": [
       "<div>\n",
       "<style scoped>\n",
       "    .dataframe tbody tr th:only-of-type {\n",
       "        vertical-align: middle;\n",
       "    }\n",
       "\n",
       "    .dataframe tbody tr th {\n",
       "        vertical-align: top;\n",
       "    }\n",
       "\n",
       "    .dataframe thead th {\n",
       "        text-align: right;\n",
       "    }\n",
       "</style>\n",
       "<table border=\"1\" class=\"dataframe\">\n",
       "  <thead>\n",
       "    <tr style=\"text-align: right;\">\n",
       "      <th></th>\n",
       "      <th>Asst_Reg</th>\n",
       "      <th>GGGrade</th>\n",
       "      <th>Experience</th>\n",
       "      <th>Validation</th>\n",
       "      <th>Yearly_Income</th>\n",
       "      <th>Home_Status</th>\n",
       "      <th>Unpaid_2_years</th>\n",
       "      <th>Already_Defaulted</th>\n",
       "      <th>Debt_to_Income</th>\n",
       "      <th>Postal_Code</th>\n",
       "      <th>...</th>\n",
       "      <th>Present_Balance</th>\n",
       "      <th>File_Status</th>\n",
       "      <th>State</th>\n",
       "      <th>Account_Open</th>\n",
       "      <th>Total_Unpaid_CL</th>\n",
       "      <th>Duration</th>\n",
       "      <th>Unpaid_Amount</th>\n",
       "      <th>Reason</th>\n",
       "      <th>Claim_Type</th>\n",
       "      <th>Due_Fee</th>\n",
       "    </tr>\n",
       "  </thead>\n",
       "  <tbody>\n",
       "    <tr>\n",
       "      <th>count</th>\n",
       "      <td>8.750000e+04</td>\n",
       "      <td>87500.000000</td>\n",
       "      <td>87500.000000</td>\n",
       "      <td>87500.000000</td>\n",
       "      <td>8.750000e+04</td>\n",
       "      <td>87500.000000</td>\n",
       "      <td>8.750000e+04</td>\n",
       "      <td>8.750000e+04</td>\n",
       "      <td>8.750000e+04</td>\n",
       "      <td>8.750000e+04</td>\n",
       "      <td>...</td>\n",
       "      <td>8.750000e+04</td>\n",
       "      <td>87500.000000</td>\n",
       "      <td>87500.000000</td>\n",
       "      <td>8.750000e+04</td>\n",
       "      <td>8.750000e+04</td>\n",
       "      <td>87500.000000</td>\n",
       "      <td>8.750000e+04</td>\n",
       "      <td>87500.000000</td>\n",
       "      <td>87500.000000</td>\n",
       "      <td>8.750000e+04</td>\n",
       "    </tr>\n",
       "    <tr>\n",
       "      <th>mean</th>\n",
       "      <td>7.336354e-18</td>\n",
       "      <td>1.810686</td>\n",
       "      <td>6.234629</td>\n",
       "      <td>1.003291</td>\n",
       "      <td>-1.920746e-16</td>\n",
       "      <td>1.884800</td>\n",
       "      <td>-2.101617e-15</td>\n",
       "      <td>2.076561e-15</td>\n",
       "      <td>4.724957e-16</td>\n",
       "      <td>-1.352011e-16</td>\n",
       "      <td>...</td>\n",
       "      <td>4.615863e-17</td>\n",
       "      <td>0.529143</td>\n",
       "      <td>22.256731</td>\n",
       "      <td>-3.562940e-16</td>\n",
       "      <td>-7.419843e-17</td>\n",
       "      <td>0.313589</td>\n",
       "      <td>1.199028e-16</td>\n",
       "      <td>3.291211</td>\n",
       "      <td>0.000526</td>\n",
       "      <td>-1.618228e-15</td>\n",
       "    </tr>\n",
       "    <tr>\n",
       "      <th>std</th>\n",
       "      <td>1.000006e+00</td>\n",
       "      <td>1.303598</td>\n",
       "      <td>3.668031</td>\n",
       "      <td>0.778245</td>\n",
       "      <td>1.000006e+00</td>\n",
       "      <td>1.922969</td>\n",
       "      <td>1.000006e+00</td>\n",
       "      <td>1.000006e+00</td>\n",
       "      <td>1.000006e+00</td>\n",
       "      <td>1.000006e+00</td>\n",
       "      <td>...</td>\n",
       "      <td>1.000006e+00</td>\n",
       "      <td>0.499153</td>\n",
       "      <td>14.115867</td>\n",
       "      <td>1.000006e+00</td>\n",
       "      <td>1.000006e+00</td>\n",
       "      <td>0.463954</td>\n",
       "      <td>1.000006e+00</td>\n",
       "      <td>1.759687</td>\n",
       "      <td>0.022923</td>\n",
       "      <td>1.000006e+00</td>\n",
       "    </tr>\n",
       "    <tr>\n",
       "      <th>min</th>\n",
       "      <td>-1.648766e+00</td>\n",
       "      <td>0.000000</td>\n",
       "      <td>0.000000</td>\n",
       "      <td>0.000000</td>\n",
       "      <td>-1.302874e+00</td>\n",
       "      <td>0.000000</td>\n",
       "      <td>-3.800328e-01</td>\n",
       "      <td>-6.856808e-02</td>\n",
       "      <td>-2.240378e+00</td>\n",
       "      <td>-1.624600e+00</td>\n",
       "      <td>...</td>\n",
       "      <td>-9.268164e-01</td>\n",
       "      <td>0.000000</td>\n",
       "      <td>0.000000</td>\n",
       "      <td>-2.006922e+00</td>\n",
       "      <td>-1.004604e+00</td>\n",
       "      <td>0.000000</td>\n",
       "      <td>-7.975517e-01</td>\n",
       "      <td>0.000000</td>\n",
       "      <td>0.000000</td>\n",
       "      <td>-8.922763e-02</td>\n",
       "    </tr>\n",
       "    <tr>\n",
       "      <th>25%</th>\n",
       "      <td>-1.011365e+00</td>\n",
       "      <td>1.000000</td>\n",
       "      <td>3.000000</td>\n",
       "      <td>0.000000</td>\n",
       "      <td>-4.941391e-01</td>\n",
       "      <td>0.000000</td>\n",
       "      <td>-3.800328e-01</td>\n",
       "      <td>-6.856808e-02</td>\n",
       "      <td>-7.292730e-01</td>\n",
       "      <td>-9.108987e-01</td>\n",
       "      <td>...</td>\n",
       "      <td>-7.239784e-01</td>\n",
       "      <td>0.000000</td>\n",
       "      <td>9.000000</td>\n",
       "      <td>-7.036583e-01</td>\n",
       "      <td>-5.485131e-01</td>\n",
       "      <td>0.000000</td>\n",
       "      <td>-4.697796e-01</td>\n",
       "      <td>3.000000</td>\n",
       "      <td>0.000000</td>\n",
       "      <td>-8.922763e-02</td>\n",
       "    </tr>\n",
       "    <tr>\n",
       "      <th>50%</th>\n",
       "      <td>1.455189e-01</td>\n",
       "      <td>2.000000</td>\n",
       "      <td>7.000000</td>\n",
       "      <td>1.000000</td>\n",
       "      <td>-2.000538e-01</td>\n",
       "      <td>0.000000</td>\n",
       "      <td>-3.800328e-01</td>\n",
       "      <td>-6.856808e-02</td>\n",
       "      <td>-5.591213e-02</td>\n",
       "      <td>-1.103955e-01</td>\n",
       "      <td>...</td>\n",
       "      <td>-3.825964e-01</td>\n",
       "      <td>1.000000</td>\n",
       "      <td>21.000000</td>\n",
       "      <td>-1.451166e-01</td>\n",
       "      <td>-2.487052e-01</td>\n",
       "      <td>0.000000</td>\n",
       "      <td>-2.244664e-01</td>\n",
       "      <td>3.000000</td>\n",
       "      <td>0.000000</td>\n",
       "      <td>-8.922763e-02</td>\n",
       "    </tr>\n",
       "    <tr>\n",
       "      <th>75%</th>\n",
       "      <td>9.410097e-01</td>\n",
       "      <td>3.000000</td>\n",
       "      <td>10.000000</td>\n",
       "      <td>2.000000</td>\n",
       "      <td>2.594544e-01</td>\n",
       "      <td>4.000000</td>\n",
       "      <td>-3.800328e-01</td>\n",
       "      <td>-6.856808e-02</td>\n",
       "      <td>6.880725e-01</td>\n",
       "      <td>9.183635e-01</td>\n",
       "      <td>...</td>\n",
       "      <td>4.590615e-01</td>\n",
       "      <td>1.000000</td>\n",
       "      <td>35.000000</td>\n",
       "      <td>5.996057e-01</td>\n",
       "      <td>2.265223e-01</td>\n",
       "      <td>1.000000</td>\n",
       "      <td>1.651264e-01</td>\n",
       "      <td>3.000000</td>\n",
       "      <td>0.000000</td>\n",
       "      <td>-8.922763e-02</td>\n",
       "    </tr>\n",
       "    <tr>\n",
       "      <th>max</th>\n",
       "      <td>1.552160e+00</td>\n",
       "      <td>6.000000</td>\n",
       "      <td>10.000000</td>\n",
       "      <td>2.000000</td>\n",
       "      <td>8.490955e+01</td>\n",
       "      <td>4.000000</td>\n",
       "      <td>2.016616e+01</td>\n",
       "      <td>7.178421e+01</td>\n",
       "      <td>4.409489e+01</td>\n",
       "      <td>1.554908e+00</td>\n",
       "      <td>...</td>\n",
       "      <td>2.114382e+01</td>\n",
       "      <td>1.000000</td>\n",
       "      <td>48.000000</td>\n",
       "      <td>1.307370e+01</td>\n",
       "      <td>3.185626e+01</td>\n",
       "      <td>1.000000</td>\n",
       "      <td>3.592488e+01</td>\n",
       "      <td>12.000000</td>\n",
       "      <td>1.000000</td>\n",
       "      <td>4.758331e+01</td>\n",
       "    </tr>\n",
       "  </tbody>\n",
       "</table>\n",
       "<p>8 rows × 25 columns</p>\n",
       "</div>"
      ],
      "text/plain": [
       "           Asst_Reg       GGGrade    Experience    Validation  Yearly_Income  \\\n",
       "count  8.750000e+04  87500.000000  87500.000000  87500.000000   8.750000e+04   \n",
       "mean   7.336354e-18      1.810686      6.234629      1.003291  -1.920746e-16   \n",
       "std    1.000006e+00      1.303598      3.668031      0.778245   1.000006e+00   \n",
       "min   -1.648766e+00      0.000000      0.000000      0.000000  -1.302874e+00   \n",
       "25%   -1.011365e+00      1.000000      3.000000      0.000000  -4.941391e-01   \n",
       "50%    1.455189e-01      2.000000      7.000000      1.000000  -2.000538e-01   \n",
       "75%    9.410097e-01      3.000000     10.000000      2.000000   2.594544e-01   \n",
       "max    1.552160e+00      6.000000     10.000000      2.000000   8.490955e+01   \n",
       "\n",
       "        Home_Status  Unpaid_2_years  Already_Defaulted  Debt_to_Income  \\\n",
       "count  87500.000000    8.750000e+04       8.750000e+04    8.750000e+04   \n",
       "mean       1.884800   -2.101617e-15       2.076561e-15    4.724957e-16   \n",
       "std        1.922969    1.000006e+00       1.000006e+00    1.000006e+00   \n",
       "min        0.000000   -3.800328e-01      -6.856808e-02   -2.240378e+00   \n",
       "25%        0.000000   -3.800328e-01      -6.856808e-02   -7.292730e-01   \n",
       "50%        0.000000   -3.800328e-01      -6.856808e-02   -5.591213e-02   \n",
       "75%        4.000000   -3.800328e-01      -6.856808e-02    6.880725e-01   \n",
       "max        4.000000    2.016616e+01       7.178421e+01    4.409489e+01   \n",
       "\n",
       "        Postal_Code  ...  Present_Balance   File_Status         State  \\\n",
       "count  8.750000e+04  ...     8.750000e+04  87500.000000  87500.000000   \n",
       "mean  -1.352011e-16  ...     4.615863e-17      0.529143     22.256731   \n",
       "std    1.000006e+00  ...     1.000006e+00      0.499153     14.115867   \n",
       "min   -1.624600e+00  ...    -9.268164e-01      0.000000      0.000000   \n",
       "25%   -9.108987e-01  ...    -7.239784e-01      0.000000      9.000000   \n",
       "50%   -1.103955e-01  ...    -3.825964e-01      1.000000     21.000000   \n",
       "75%    9.183635e-01  ...     4.590615e-01      1.000000     35.000000   \n",
       "max    1.554908e+00  ...     2.114382e+01      1.000000     48.000000   \n",
       "\n",
       "       Account_Open  Total_Unpaid_CL      Duration  Unpaid_Amount  \\\n",
       "count  8.750000e+04     8.750000e+04  87500.000000   8.750000e+04   \n",
       "mean  -3.562940e-16    -7.419843e-17      0.313589   1.199028e-16   \n",
       "std    1.000006e+00     1.000006e+00      0.463954   1.000006e+00   \n",
       "min   -2.006922e+00    -1.004604e+00      0.000000  -7.975517e-01   \n",
       "25%   -7.036583e-01    -5.485131e-01      0.000000  -4.697796e-01   \n",
       "50%   -1.451166e-01    -2.487052e-01      0.000000  -2.244664e-01   \n",
       "75%    5.996057e-01     2.265223e-01      1.000000   1.651264e-01   \n",
       "max    1.307370e+01     3.185626e+01      1.000000   3.592488e+01   \n",
       "\n",
       "             Reason    Claim_Type       Due_Fee  \n",
       "count  87500.000000  87500.000000  8.750000e+04  \n",
       "mean       3.291211      0.000526 -1.618228e-15  \n",
       "std        1.759687      0.022923  1.000006e+00  \n",
       "min        0.000000      0.000000 -8.922763e-02  \n",
       "25%        3.000000      0.000000 -8.922763e-02  \n",
       "50%        3.000000      0.000000 -8.922763e-02  \n",
       "75%        3.000000      0.000000 -8.922763e-02  \n",
       "max       12.000000      1.000000  4.758331e+01  \n",
       "\n",
       "[8 rows x 25 columns]"
      ]
     },
     "execution_count": 47,
     "metadata": {},
     "output_type": "execute_result"
    }
   ],
   "source": [
    "X_scaled.describe()"
   ]
  },
  {
   "cell_type": "markdown",
   "metadata": {
    "id": "Uv9HZYiK1Q8J"
   },
   "source": [
    "# **Feature ectraction method**"
   ]
  },
  {
   "cell_type": "markdown",
   "metadata": {},
   "source": [
    "# USING XGBOOST"
   ]
  },
  {
   "cell_type": "code",
   "execution_count": 1,
   "metadata": {},
   "outputs": [
    {
     "name": "stdout",
     "output_type": "stream",
     "text": [
      "Defaulting to user installation because normal site-packages is not writeable\n",
      "Collecting xgboost\n",
      "  Downloading xgboost-2.1.1-py3-none-win_amd64.whl (124.9 MB)\n",
      "Requirement already satisfied: scipy in c:\\programdata\\anaconda3\\lib\\site-packages (from xgboost) (1.7.3)\n",
      "Requirement already satisfied: numpy in c:\\programdata\\anaconda3\\lib\\site-packages (from xgboost) (1.21.5)\n",
      "Installing collected packages: xgboost\n",
      "Successfully installed xgboost-2.1.1\n",
      "Note: you may need to restart the kernel to use updated packages.\n"
     ]
    }
   ],
   "source": [
    "pip install xgboost\n"
   ]
  },
  {
   "cell_type": "code",
   "execution_count": 48,
   "metadata": {},
   "outputs": [
    {
     "name": "stdout",
     "output_type": "stream",
     "text": [
      "Feature: Asst_Reg, Importance: 0.32082900404930115\n",
      "Feature: Duration, Importance: 0.15486480295658112\n",
      "Feature: Due_Fee, Importance: 0.057187557220458984\n",
      "Feature: Usage_Rate, Importance: 0.029283840209245682\n",
      "Feature: Inquiries, Importance: 0.02540311962366104\n",
      "Feature: GGGrade, Importance: 0.025094835087656975\n",
      "Feature: Debt_to_Income, Importance: 0.02487093210220337\n",
      "Feature: Yearly_Income, Importance: 0.02422410622239113\n",
      "Feature: Present_Balance, Importance: 0.024135516956448555\n",
      "Feature: Unpaid_2_years, Importance: 0.023785825818777084\n",
      "Feature: Deprecatory_Records, Importance: 0.023686647415161133\n",
      "Feature: Reason, Importance: 0.02336267940700054\n"
     ]
    }
   ],
   "source": [
    "import xgboost as xgb\n",
    "import pandas as pd\n",
    "import numpy as np\n",
    "import matplotlib.pyplot as plt\n",
    "\n",
    "# Initialize and fit the XGBoost model\n",
    "model_xgb = xgb.XGBClassifier(eval_metric='logloss', random_state=42)\n",
    "model_xgb.fit(X_scaled, y)\n",
    "\n",
    "# Get feature importances\n",
    "importances_xgb = model_xgb.feature_importances_\n",
    "indices_xgb = np.argsort(importances_xgb)[::-1]\n",
    "\n",
    "# Print the most important features\n",
    "top_features_xgb = []\n",
    "for i in range(12):  # Choose how many top features to show\n",
    "    feature_name = X_scaled.columns[indices_xgb[i]]\n",
    "    top_features_xgb.append(feature_name)\n",
    "    print(f'Feature: {feature_name}, Importance: {importances_xgb[indices_xgb[i]]}')\n",
    "\n",
    "# Select the top features\n",
    "X_top_features_xgb = X_scaled[top_features_xgb]\n"
   ]
  },
  {
   "cell_type": "code",
   "execution_count": null,
   "metadata": {},
   "outputs": [],
   "source": []
  },
  {
   "cell_type": "code",
   "execution_count": null,
   "metadata": {},
   "outputs": [],
   "source": []
  },
  {
   "cell_type": "code",
   "execution_count": null,
   "metadata": {},
   "outputs": [],
   "source": []
  },
  {
   "cell_type": "code",
   "execution_count": 49,
   "metadata": {
    "colab": {
     "base_uri": "https://localhost:8080/"
    },
    "id": "O0QEcdJJ5Ony",
    "outputId": "d4065b67-b9ad-42ca-e570-b5a2bd108a7e"
   },
   "outputs": [
    {
     "name": "stdout",
     "output_type": "stream",
     "text": [
      "<class 'pandas.core.frame.DataFrame'>\n",
      "RangeIndex: 87500 entries, 0 to 87499\n",
      "Data columns (total 12 columns):\n",
      " #   Column               Non-Null Count  Dtype  \n",
      "---  ------               --------------  -----  \n",
      " 0   Asst_Reg             87500 non-null  float64\n",
      " 1   Duration             87500 non-null  int32  \n",
      " 2   Due_Fee              87500 non-null  float64\n",
      " 3   Usage_Rate           87500 non-null  float64\n",
      " 4   Inquiries            87500 non-null  float64\n",
      " 5   GGGrade              87500 non-null  int32  \n",
      " 6   Debt_to_Income       87500 non-null  float64\n",
      " 7   Yearly_Income        87500 non-null  float64\n",
      " 8   Present_Balance      87500 non-null  float64\n",
      " 9   Unpaid_2_years       87500 non-null  float64\n",
      " 10  Deprecatory_Records  87500 non-null  float64\n",
      " 11  Reason               87500 non-null  int32  \n",
      "dtypes: float64(9), int32(3)\n",
      "memory usage: 7.0 MB\n"
     ]
    }
   ],
   "source": [
    "X_top_features_xgb.info()"
   ]
  },
  {
   "cell_type": "code",
   "execution_count": null,
   "metadata": {
    "colab": {
     "base_uri": "https://localhost:8080/"
    },
    "id": "BadqZCRN06fL",
    "outputId": "6511e69d-bbe7-4f39-c9e4-cddc7bea42d6"
   },
   "outputs": [],
   "source": [
    "#from sklearn.feature_selection import SelectKBest, chi2\n",
    "\n",
    "\n",
    "\n",
    "# Apply SelectKBest with chi-squared test\n",
    "#selector = SelectKBest(score_func=chi2, k=10)  # Select top 2 features\n",
    "#selector.fit(X, y)\n",
    "\n",
    "# Get the selected feature names\n",
    "#selected_features = X.columns[selector.get_support(indices=True)]\n",
    "#print(\"Selected features:\", selected_features)"
   ]
  },
  {
   "cell_type": "markdown",
   "metadata": {
    "id": "DSxZ7QzH1K3w"
   },
   "source": [
    "# **The data is linear or non Linear**"
   ]
  },
  {
   "cell_type": "markdown",
   "metadata": {
    "id": "7C2GWb2LJ-0T"
   },
   "source": [
    "## **Sampling techniques:**"
   ]
  },
  {
   "cell_type": "markdown",
   "metadata": {
    "id": "zJEzI-kLn14L"
   },
   "source": [
    "# **Model building**"
   ]
  },
  {
   "cell_type": "markdown",
   "metadata": {
    "id": "eh4nb2MJn6ts"
   },
   "source": [
    "train test **split**"
   ]
  },
  {
   "cell_type": "code",
   "execution_count": 50,
   "metadata": {
    "id": "gtgnowOcVje4"
   },
   "outputs": [],
   "source": [
    "\n",
    "\n",
    "from sklearn.model_selection import train_test_split\n",
    "#from imblearn.combine import SMOTETomek\n",
    "#from imblearn.combine import SMOTEENN\n",
    "#from imblearn.under_sampling import TomekLinks\n",
    "#from imblearn.over_sampling import SMOTE\n",
    "#from imblearn.under_sampling import EditedNearestNeighbours\n",
    "from sklearn.metrics import accuracy_score, confusion_matrix, classification_report\n",
    "from collections import Counter\n",
    "\n",
    "X_train, X_test, y_train, y_test = train_test_split(X_top_features_xgb, y, test_size=0.2, random_state=42)\n",
    "\n",
    "\n",
    "\n",
    "\n",
    "\n"
   ]
  },
  {
   "cell_type": "markdown",
   "metadata": {
    "id": "-o1_fGn2n_R4"
   },
   "source": [
    "# **Logistic regression**"
   ]
  },
  {
   "cell_type": "code",
   "execution_count": 50,
   "metadata": {
    "colab": {
     "base_uri": "https://localhost:8080/"
    },
    "id": "ZcQykVTcp1Tj",
    "outputId": "e408255e-b04d-4a56-9058-4f98d21504a6"
   },
   "outputs": [
    {
     "name": "stdout",
     "output_type": "stream",
     "text": [
      "Accuracy: 0.83\n",
      "Precision: 0.63\n",
      "Recall: 0.25\n",
      "F1 Score: 0.36\n",
      "ROC AUC Score: 0.82\n",
      "Confusion Matrix:\n",
      "[[13737   489]\n",
      " [ 2451   823]]\n"
     ]
    }
   ],
   "source": [
    "from sklearn.linear_model import LogisticRegression\n",
    "\n",
    "logistic=LogisticRegression()\n",
    "\n",
    "\n",
    "logistic.fit(X_train, y_train)\n",
    "\n",
    "y_pred=logistic.predict(X_test)\n",
    "\n",
    "from sklearn.metrics import accuracy_score, precision_score, recall_score, f1_score, roc_auc_score, confusion_matrix\n",
    "\n",
    "\n",
    "# Evaluate the model\n",
    "accuracy = accuracy_score(y_test, y_pred)\n",
    "precision = precision_score(y_test, y_pred)\n",
    "recall = recall_score(y_test, y_pred)\n",
    "f1 = f1_score(y_test, y_pred)\n",
    "roc_auc = roc_auc_score(y_test, logistic.predict_proba(X_test)[:, 1])  # Probabilities for ROC AUC\n",
    "\n",
    "# Print evaluation metrics\n",
    "print(f'Accuracy: {accuracy:.2f}')\n",
    "print(f'Precision: {precision:.2f}')\n",
    "print(f'Recall: {recall:.2f}')\n",
    "print(f'F1 Score: {f1:.2f}')\n",
    "print(f'ROC AUC Score: {roc_auc:.2f}')\n",
    "\n",
    "# Confusion Matrix\n",
    "conf_matrix = confusion_matrix(y_test, y_pred)\n",
    "print('Confusion Matrix:')\n",
    "print(conf_matrix)"
   ]
  },
  {
   "cell_type": "code",
   "execution_count": null,
   "metadata": {},
   "outputs": [],
   "source": []
  },
  {
   "cell_type": "code",
   "execution_count": null,
   "metadata": {},
   "outputs": [],
   "source": []
  },
  {
   "cell_type": "markdown",
   "metadata": {},
   "source": [
    "# HANDLING CALSS IMBALANCE"
   ]
  },
  {
   "cell_type": "code",
   "execution_count": 2,
   "metadata": {},
   "outputs": [
    {
     "name": "stdout",
     "output_type": "stream",
     "text": [
      "Defaulting to user installation because normal site-packages is not writeableNote: you may need to restart the kernel to use updated packages.\n",
      "\n",
      "Collecting imbalanced-learn\n",
      "  Downloading imbalanced_learn-0.12.3-py3-none-any.whl (258 kB)\n",
      "Requirement already satisfied: threadpoolctl>=2.0.0 in c:\\programdata\\anaconda3\\lib\\site-packages (from imbalanced-learn) (2.2.0)\n",
      "Collecting joblib>=1.1.1\n",
      "  Downloading joblib-1.4.2-py3-none-any.whl (301 kB)\n",
      "Requirement already satisfied: scikit-learn>=1.0.2 in c:\\programdata\\anaconda3\\lib\\site-packages (from imbalanced-learn) (1.0.2)\n",
      "Requirement already satisfied: numpy>=1.17.3 in c:\\programdata\\anaconda3\\lib\\site-packages (from imbalanced-learn) (1.21.5)\n",
      "Requirement already satisfied: scipy>=1.5.0 in c:\\programdata\\anaconda3\\lib\\site-packages (from imbalanced-learn) (1.7.3)\n",
      "Installing collected packages: joblib, imbalanced-learn\n",
      "Successfully installed imbalanced-learn-0.12.3 joblib-1.4.2\n"
     ]
    }
   ],
   "source": [
    "pip install imbalanced-learn\n"
   ]
  },
  {
   "cell_type": "code",
   "execution_count": null,
   "metadata": {},
   "outputs": [],
   "source": []
  },
  {
   "cell_type": "code",
   "execution_count": null,
   "metadata": {},
   "outputs": [],
   "source": []
  },
  {
   "cell_type": "code",
   "execution_count": null,
   "metadata": {},
   "outputs": [],
   "source": []
  },
  {
   "cell_type": "markdown",
   "metadata": {
    "id": "5kGbZwjfNtR2"
   },
   "source": [
    "# **SMOTETomek**"
   ]
  },
  {
   "cell_type": "code",
   "execution_count": 51,
   "metadata": {
    "colab": {
     "base_uri": "https://localhost:8080/"
    },
    "id": "opQimY3tifie",
    "outputId": "3cacac56-3c0f-41e8-8bd7-fa28d9ebe6ec"
   },
   "outputs": [
    {
     "name": "stdout",
     "output_type": "stream",
     "text": [
      "Class distribution after SMOTE: Counter({0: 56020, 1: 56020})\n"
     ]
    }
   ],
   "source": [
    "\n",
    "from imblearn.combine import SMOTETomek\n",
    "# Initialize the RandomOverSampler\n",
    "ros = SMOTETomek(random_state=42)\n",
    "\n",
    "# Fit and transform the training data\n",
    "X_resampled, y_resampled = ros.fit_resample(X_train, y_train)\n",
    "\n",
    "# Check the class distribution after SMOTE\n",
    "counter_smote = Counter(y_resampled)\n",
    "print(\"Class distribution after SMOTE:\", counter_smote)"
   ]
  },
  {
   "cell_type": "code",
   "execution_count": 52,
   "metadata": {
    "colab": {
     "base_uri": "https://localhost:8080/",
     "height": 646
    },
    "id": "AVz1BWBnAC5B",
    "outputId": "82ff14af-31b6-49b8-afea-302b19ca3d94"
   },
   "outputs": [
    {
     "name": "stdout",
     "output_type": "stream",
     "text": [
      "0    70988\n",
      "1    16512\n",
      "Name: Default, dtype: int64\n"
     ]
    },
    {
     "data": {
      "text/plain": [
       "Text(0, 0.5, 'Frequency')"
      ]
     },
     "execution_count": 52,
     "metadata": {},
     "output_type": "execute_result"
    },
    {
     "data": {
      "image/png": "[encoded data removed]",
      "text/plain": [
       "<Figure size 864x432 with 1 Axes>"
      ]
     },
     "metadata": {
      "needs_background": "light"
     },
     "output_type": "display_data"
    }
   ],
   "source": [
    "import pandas as pd\n",
    "import matplotlib.pyplot as plt\n",
    "\n",
    "\n",
    "\n",
    "print(y.value_counts())\n",
    "# Visualize the target variable distribution before sampling\n",
    "plt.figure(figsize=(12, 6))\n",
    "plt.subplot(1, 2, 1)\n",
    "y.value_counts().plot(kind='bar')\n",
    "plt.title('Before Sampling')\n",
    "plt.xlabel('Class')\n",
    "plt.ylabel('Frequency')"
   ]
  },
  {
   "cell_type": "code",
   "execution_count": 53,
   "metadata": {
    "colab": {
     "base_uri": "https://localhost:8080/",
     "height": 556
    },
    "id": "0EUF8j8EQB5f",
    "outputId": "2c606997-8683-4c33-b1b7-37fd7c1cff8b"
   },
   "outputs": [
    {
     "name": "stdout",
     "output_type": "stream",
     "text": [
      "0    56020\n",
      "1    56020\n",
      "Name: Default, dtype: int64\n"
     ]
    },
    {
     "data": {
      "image/png": "[encoded data removed]",
      "text/plain": [
       "<Figure size 432x288 with 1 Axes>"
      ]
     },
     "metadata": {
      "needs_background": "light"
     },
     "output_type": "display_data"
    }
   ],
   "source": [
    "\n",
    "\n",
    "print(y_resampled.value_counts())\n",
    "# Visualize the target variable distribution after sampling\n",
    "plt.subplot(1, 2, 2)\n",
    "y_resampled.value_counts().plot(kind='bar')\n",
    "plt.title('After Sampling')\n",
    "plt.xlabel('Class')\n",
    "plt.ylabel('Frequency')\n",
    "\n",
    "plt.tight_layout()\n",
    "plt.show()"
   ]
  },
  {
   "cell_type": "markdown",
   "metadata": {
    "id": "L0syTeHlQZ_j"
   },
   "source": [
    "# **logistic**"
   ]
  },
  {
   "cell_type": "code",
   "execution_count": 54,
   "metadata": {
    "colab": {
     "base_uri": "https://localhost:8080/"
    },
    "id": "jsUDeSh8QdCa",
    "outputId": "d2a7bbbb-33e4-4632-9654-3831731469e3"
   },
   "outputs": [
    {
     "name": "stdout",
     "output_type": "stream",
     "text": [
      "              precision    recall  f1-score   support\n",
      "\n",
      "           0       0.93      0.71      0.81     14226\n",
      "           1       0.38      0.77      0.51      3274\n",
      "\n",
      "    accuracy                           0.72     17500\n",
      "   macro avg       0.66      0.74      0.66     17500\n",
      "weighted avg       0.83      0.72      0.75     17500\n",
      "\n",
      "Confusion Matrix:\n",
      "[[10115  4111]\n",
      " [  744  2530]]\n"
     ]
    }
   ],
   "source": [
    "from sklearn.linear_model import LogisticRegression\n",
    "\n",
    "# Train the model on the resampled data\n",
    "logistic = LogisticRegression()\n",
    "logistic.fit(X_resampled,y_resampled)\n",
    "\n",
    "# Evaluate the model\n",
    "y_pred = logistic.predict(X_test)\n",
    "\n",
    "from sklearn.metrics import accuracy_score, precision_score, recall_score, f1_score, roc_auc_score, confusion_matrix\n",
    "\n",
    "\n",
    "# Evaluate the model\n",
    "accuracy = accuracy_score(y_test, y_pred)\n",
    "precision = precision_score(y_test, y_pred)\n",
    "recall = recall_score(y_test, y_pred)\n",
    "f1 = f1_score(y_test, y_pred)\n",
    "roc_auc = roc_auc_score(y_test, logistic.predict_proba(X_test)[:, 1])  # Probabilities for ROC AUC\n",
    "\n",
    "report = classification_report(y_test,y_pred)\n",
    "print(report)\n",
    "\n",
    "# Confusion Matrix\n",
    "conf_matrix = confusion_matrix(y_test, y_pred)\n",
    "print('Confusion Matrix:')\n",
    "print(conf_matrix)"
   ]
  },
  {
   "cell_type": "markdown",
   "metadata": {
    "id": "bfa5T2rHOLHm"
   },
   "source": [
    "# **DT**"
   ]
  },
  {
   "cell_type": "code",
   "execution_count": 55,
   "metadata": {
    "colab": {
     "base_uri": "https://localhost:8080/"
    },
    "id": "2nmRlm4bONjT",
    "outputId": "fdd0d6df-f349-410d-f262-87e53d724e61"
   },
   "outputs": [
    {
     "name": "stdout",
     "output_type": "stream",
     "text": [
      "              precision    recall  f1-score   support\n",
      "\n",
      "           0       0.87      0.75      0.81     14226\n",
      "           1       0.33      0.53      0.41      3274\n",
      "\n",
      "    accuracy                           0.71     17500\n",
      "   macro avg       0.60      0.64      0.61     17500\n",
      "weighted avg       0.77      0.71      0.73     17500\n",
      "\n",
      "Confusion Matrix:\n",
      "[[10726  3500]\n",
      " [ 1539  1735]]\n"
     ]
    }
   ],
   "source": [
    "from sklearn.tree import DecisionTreeClassifier\n",
    "\n",
    "\n",
    "# Initialize the Decision Tree model\n",
    "dt_model = DecisionTreeClassifier(random_state=42)\n",
    "\n",
    "# Train the model\n",
    "dt_model.fit(X_resampled,y_resampled)\n",
    "\n",
    "# Predict on the test set\n",
    "y_pred = dt_model.predict(X_test)\n",
    "\n",
    "\n",
    "# Evaluate the model\n",
    "accuracy = accuracy_score(y_test, y_pred)\n",
    "precision = precision_score(y_test, y_pred)\n",
    "recall = recall_score(y_test, y_pred)\n",
    "f1 = f1_score(y_test, y_pred)\n",
    "roc_auc = roc_auc_score(y_test, logistic.predict_proba(X_test)[:, 1])  # Probabilities for ROC AUC\n",
    "\n",
    "report = classification_report(y_test,y_pred)\n",
    "print(report)\n",
    "\n",
    "# Confusion Matrix\n",
    "conf_matrix = confusion_matrix(y_test, y_pred)\n",
    "print('Confusion Matrix:')\n",
    "print(conf_matrix)"
   ]
  },
  {
   "cell_type": "markdown",
   "metadata": {
    "id": "nupqJixbOkvR"
   },
   "source": [
    "# **Naive Bayes**"
   ]
  },
  {
   "cell_type": "code",
   "execution_count": 56,
   "metadata": {
    "colab": {
     "base_uri": "https://localhost:8080/"
    },
    "id": "urT3rx_BOrfU",
    "outputId": "62065e69-00fe-459a-c002-6d0541ffa186"
   },
   "outputs": [
    {
     "name": "stdout",
     "output_type": "stream",
     "text": [
      "              precision    recall  f1-score   support\n",
      "\n",
      "           0       0.94      0.60      0.73     14226\n",
      "           1       0.32      0.83      0.46      3274\n",
      "\n",
      "    accuracy                           0.64     17500\n",
      "   macro avg       0.63      0.71      0.60     17500\n",
      "weighted avg       0.82      0.64      0.68     17500\n",
      "\n",
      "Confusion Matrix:\n",
      "[[8491 5735]\n",
      " [ 567 2707]]\n"
     ]
    }
   ],
   "source": [
    "from sklearn.naive_bayes import GaussianNB\n",
    "\n",
    "\n",
    "# Initialize the Naive Bayes model\n",
    "nb_model = GaussianNB()\n",
    "\n",
    "# Train the model\n",
    "nb_model.fit(X_resampled, y_resampled )\n",
    "\n",
    "# Predict on the test set\n",
    "y_pred = nb_model.predict(X_test)\n",
    "\n",
    "\n",
    "# Evaluate the model\n",
    "accuracy = accuracy_score(y_test, y_pred)\n",
    "precision = precision_score(y_test, y_pred)\n",
    "recall = recall_score(y_test, y_pred)\n",
    "f1 = f1_score(y_test, y_pred)\n",
    "roc_auc = roc_auc_score(y_test, logistic.predict_proba(X_test)[:, 1])  # Probabilities for ROC AUC\n",
    "\n",
    "report = classification_report(y_test,y_pred)\n",
    "print(report)\n",
    "\n",
    "# Confusion Matrix\n",
    "conf_matrix = confusion_matrix(y_test, y_pred)\n",
    "print('Confusion Matrix:')\n",
    "print(conf_matrix)"
   ]
  },
  {
   "cell_type": "markdown",
   "metadata": {
    "id": "7nxRTPSegn5l"
   },
   "source": [
    "# **RANDOM FOREST**"
   ]
  },
  {
   "cell_type": "code",
   "execution_count": 57,
   "metadata": {
    "id": "CoXuQCOCBrET"
   },
   "outputs": [],
   "source": [
    "from sklearn.ensemble import RandomForestClassifier\n",
    "\n",
    "Randomforest_model = RandomForestClassifier()\n",
    "Randomforest_model.fit(X_resampled, y_resampled )\n",
    "y_pred = Randomforest_model.predict(X_test)"
   ]
  },
  {
   "cell_type": "code",
   "execution_count": 58,
   "metadata": {
    "colab": {
     "base_uri": "https://localhost:8080/"
    },
    "id": "25FxFeSBCj0Z",
    "outputId": "cd11158b-99b2-42c5-89b2-a41e35b78d1f"
   },
   "outputs": [
    {
     "name": "stdout",
     "output_type": "stream",
     "text": [
      "              precision    recall  f1-score   support\n",
      "\n",
      "           0       0.90      0.82      0.86     14226\n",
      "           1       0.44      0.59      0.50      3274\n",
      "\n",
      "    accuracy                           0.78     17500\n",
      "   macro avg       0.67      0.71      0.68     17500\n",
      "weighted avg       0.81      0.78      0.79     17500\n",
      "\n",
      "Confusion Matrix:\n",
      "[[11731  2495]\n",
      " [ 1329  1945]]\n"
     ]
    }
   ],
   "source": [
    "# Evaluate the model\n",
    "accuracy = accuracy_score(y_test, y_pred)\n",
    "precision = precision_score(y_test, y_pred)\n",
    "recall = recall_score(y_test, y_pred)\n",
    "f1 = f1_score(y_test, y_pred)\n",
    "roc_auc = roc_auc_score(y_test, logistic.predict_proba(X_test)[:, 1])  # Probabilities for ROC AUC\n",
    "\n",
    "report = classification_report(y_test,y_pred)\n",
    "print(report)\n",
    "\n",
    "# Confusion Matrix\n",
    "conf_matrix = confusion_matrix(y_test, y_pred)\n",
    "print('Confusion Matrix:')\n",
    "print(conf_matrix)"
   ]
  },
  {
   "cell_type": "markdown",
   "metadata": {
    "id": "M2X6jFX9gtWC"
   },
   "source": [
    "# **KNN**"
   ]
  },
  {
   "cell_type": "code",
   "execution_count": 59,
   "metadata": {
    "id": "9gsnhqQ3hXdF"
   },
   "outputs": [],
   "source": [
    "from sklearn.neighbors import KNeighborsClassifier\n",
    "\n",
    "# Initialize and train the KNN model\n",
    "knn_model = KNeighborsClassifier()  # You can tune the n_neighbors parameter\n",
    "knn_model.fit(X_resampled, y_resampled)\n",
    "\n",
    "# Make predictions\n",
    "y_pred = knn_model.predict(X_test)"
   ]
  },
  {
   "cell_type": "code",
   "execution_count": 60,
   "metadata": {
    "colab": {
     "base_uri": "https://localhost:8080/"
    },
    "id": "fQz0DXlMhXu2",
    "outputId": "68048970-00a5-444d-ce15-fa6556464bca"
   },
   "outputs": [
    {
     "name": "stdout",
     "output_type": "stream",
     "text": [
      "              precision    recall  f1-score   support\n",
      "\n",
      "           0       0.90      0.71      0.79     14226\n",
      "           1       0.34      0.64      0.44      3274\n",
      "\n",
      "    accuracy                           0.70     17500\n",
      "   macro avg       0.62      0.68      0.62     17500\n",
      "weighted avg       0.79      0.70      0.73     17500\n",
      "\n",
      "Confusion Matrix:\n",
      "[[10129  4097]\n",
      " [ 1180  2094]]\n"
     ]
    }
   ],
   "source": [
    "# Evaluate the model\n",
    "accuracy = accuracy_score(y_test, y_pred)\n",
    "precision = precision_score(y_test, y_pred)\n",
    "recall = recall_score(y_test, y_pred)\n",
    "f1 = f1_score(y_test, y_pred)\n",
    "roc_auc = roc_auc_score(y_test, logistic.predict_proba(X_test)[:, 1])  # Probabilities for ROC AUC\n",
    "\n",
    "report = classification_report(y_test,y_pred)\n",
    "print(report)\n",
    "\n",
    "# Confusion Matrix\n",
    "conf_matrix = confusion_matrix(y_test, y_pred)\n",
    "print('Confusion Matrix:')\n",
    "print(conf_matrix)"
   ]
  },
  {
   "cell_type": "markdown",
   "metadata": {
    "id": "Lfd8nX-cg34Y"
   },
   "source": [
    "# **GradientBoosting**"
   ]
  },
  {
   "cell_type": "code",
   "execution_count": 61,
   "metadata": {
    "id": "HvvAWJVHhX03"
   },
   "outputs": [],
   "source": [
    "from sklearn.ensemble import GradientBoostingClassifier\n",
    "\n",
    "# Initialize and train the Gradient Boosting model\n",
    "gb_model = GradientBoostingClassifier()\n",
    "gb_model.fit(X_resampled, y_resampled)\n",
    "# Make predictions\n",
    "y_pred = gb_model.predict(X_test)\n"
   ]
  },
  {
   "cell_type": "code",
   "execution_count": 62,
   "metadata": {
    "colab": {
     "base_uri": "https://localhost:8080/"
    },
    "id": "wd7wktSDlKxR",
    "outputId": "97eb461f-177e-4e70-81d6-9b26e9593c27"
   },
   "outputs": [
    {
     "name": "stdout",
     "output_type": "stream",
     "text": [
      "              precision    recall  f1-score   support\n",
      "\n",
      "           0       0.92      0.74      0.82     14226\n",
      "           1       0.40      0.74      0.52      3274\n",
      "\n",
      "    accuracy                           0.74     17500\n",
      "   macro avg       0.66      0.74      0.67     17500\n",
      "weighted avg       0.83      0.74      0.77     17500\n",
      "\n",
      "Confusion Matrix:\n",
      "[[10558  3668]\n",
      " [  863  2411]]\n"
     ]
    }
   ],
   "source": [
    "# Evaluate the model\n",
    "accuracy = accuracy_score(y_test, y_pred)\n",
    "precision = precision_score(y_test, y_pred)\n",
    "recall = recall_score(y_test, y_pred)\n",
    "f1 = f1_score(y_test, y_pred)\n",
    "roc_auc = roc_auc_score(y_test, logistic.predict_proba(X_test)[:, 1])  # Probabilities for ROC AUC\n",
    "\n",
    "report = classification_report(y_test,y_pred)\n",
    "print(report)\n",
    "\n",
    "# Confusion Matrix\n",
    "conf_matrix = confusion_matrix(y_test, y_pred)\n",
    "print('Confusion Matrix:')\n",
    "print(conf_matrix)"
   ]
  },
  {
   "cell_type": "markdown",
   "metadata": {
    "id": "ivJJ-2pRhKkc"
   },
   "source": [
    "# **AdaBoostClassifier**"
   ]
  },
  {
   "cell_type": "code",
   "execution_count": 63,
   "metadata": {
    "id": "uCFyVd7zlK0O"
   },
   "outputs": [],
   "source": [
    "from sklearn.ensemble import AdaBoostClassifier\n",
    "\n",
    "# Initialize AdaBoostClassifier\n",
    "ada_model = AdaBoostClassifier()\n",
    "\n",
    "# Fit the model on the training data\n",
    "ada_model.fit(X_resampled, y_resampled)\n",
    "\n",
    "# Predict on the test data\n",
    "y_pred = ada_model.predict(X_test)"
   ]
  },
  {
   "cell_type": "code",
   "execution_count": 64,
   "metadata": {
    "colab": {
     "base_uri": "https://localhost:8080/"
    },
    "id": "nRtGjmKDlK3n",
    "outputId": "b67bbce7-d4e2-41f5-f8bb-2dd49d6d7a5f"
   },
   "outputs": [
    {
     "name": "stdout",
     "output_type": "stream",
     "text": [
      "Confusion Matrix:\n",
      "[[10102  4124]\n",
      " [  781  2493]]\n",
      "              precision    recall  f1-score   support\n",
      "\n",
      "           0       0.93      0.71      0.80     14226\n",
      "           1       0.38      0.76      0.50      3274\n",
      "\n",
      "    accuracy                           0.72     17500\n",
      "   macro avg       0.65      0.74      0.65     17500\n",
      "weighted avg       0.83      0.72      0.75     17500\n",
      "\n"
     ]
    }
   ],
   "source": [
    "# Evaluate the model\n",
    "accuracy = accuracy_score(y_test, y_pred)\n",
    "precision = precision_score(y_test, y_pred)\n",
    "recall = recall_score(y_test, y_pred)\n",
    "f1 = f1_score(y_test, y_pred)\n",
    "roc_auc = roc_auc_score(y_test, logistic.predict_proba(X_test)[:, 1])  # Probabilities for ROC AUC\n",
    "\n",
    "# Confusion Matrix\n",
    "conf_matrix = confusion_matrix(y_test, y_pred)\n",
    "print('Confusion Matrix:')\n",
    "print(conf_matrix)\n",
    "\n",
    "report = classification_report(y_test,y_pred)\n",
    "print(report)"
   ]
  },
  {
   "cell_type": "markdown",
   "metadata": {
    "id": "BbxaDl8ChZeP"
   },
   "source": [
    "# **XGBclassifier**"
   ]
  },
  {
   "cell_type": "code",
   "execution_count": 65,
   "metadata": {
    "id": "-btc8dArlK6b"
   },
   "outputs": [],
   "source": [
    "from xgboost import XGBClassifier\n",
    "\n",
    "\n",
    "# Initialize XGBClassifier\n",
    "xgb_model = XGBClassifier()\n",
    "\n",
    "# Fit the model on the training data\n",
    "xgb_model.fit(X_resampled, y_resampled)\n",
    "\n",
    "# Predict on the test data\n",
    "y_pred = xgb_model.predict(X_test)"
   ]
  },
  {
   "cell_type": "code",
   "execution_count": 66,
   "metadata": {
    "colab": {
     "base_uri": "https://localhost:8080/"
    },
    "id": "wzig0Z5amxhT",
    "outputId": "118b6399-0093-46ff-ca1b-cb14e746f805"
   },
   "outputs": [
    {
     "name": "stdout",
     "output_type": "stream",
     "text": [
      "              precision    recall  f1-score   support\n",
      "\n",
      "           0       0.90      0.80      0.85     14226\n",
      "           1       0.42      0.61      0.50      3274\n",
      "\n",
      "    accuracy                           0.77     17500\n",
      "   macro avg       0.66      0.71      0.67     17500\n",
      "weighted avg       0.81      0.77      0.78     17500\n",
      "\n",
      "Confusion Matrix:\n",
      "[[11441  2785]\n",
      " [ 1278  1996]]\n"
     ]
    }
   ],
   "source": [
    "# Evaluate the model\n",
    "accuracy = accuracy_score(y_test, y_pred)\n",
    "precision = precision_score(y_test, y_pred)\n",
    "recall = recall_score(y_test, y_pred)\n",
    "f1 = f1_score(y_test, y_pred)\n",
    "roc_auc = roc_auc_score(y_test,  xgb_model.predict_proba(X_test)[:, 1])  # Probabilities for ROC AUC\n",
    "\n",
    "report = classification_report(y_test,y_pred)\n",
    "print(report)\n",
    "\n",
    "# Confusion Matrix\n",
    "conf_matrix = confusion_matrix(y_test, y_pred)\n",
    "print('Confusion Matrix:')\n",
    "print(conf_matrix)"
   ]
  },
  {
   "cell_type": "markdown",
   "metadata": {},
   "source": [
    "# COMBINED MODEL- VOTING"
   ]
  },
  {
   "cell_type": "code",
   "execution_count": 68,
   "metadata": {},
   "outputs": [
    {
     "name": "stdout",
     "output_type": "stream",
     "text": [
      "Confusion Matrix:\n",
      " [[11639  2587]\n",
      " [ 1292  1982]]\n",
      "Classification Report:\n",
      "               precision    recall  f1-score   support\n",
      "\n",
      "           0       0.90      0.82      0.86     14226\n",
      "           1       0.43      0.61      0.51      3274\n",
      "\n",
      "    accuracy                           0.78     17500\n",
      "   macro avg       0.67      0.71      0.68     17500\n",
      "weighted avg       0.81      0.78      0.79     17500\n",
      "\n"
     ]
    }
   ],
   "source": [
    "from sklearn.ensemble import VotingClassifier\n",
    "from xgboost import XGBClassifier\n",
    "from sklearn.ensemble import RandomForestClassifier\n",
    "from sklearn.metrics import accuracy_score, confusion_matrix, classification_report\n",
    "\n",
    "\n",
    "# Initialize the base models\n",
    "rf_model = RandomForestClassifier(random_state=42)\n",
    "xgb_model = XGBClassifier(eval_metric='logloss', random_state=42)\n",
    "\n",
    "# Initialize the Voting Classifier\n",
    "voting_clf = VotingClassifier(estimators=[\n",
    "    ('rf', rf_model),\n",
    "    ('xgb', xgb_model)\n",
    "], voting='soft')  # 'soft' voting uses predicted probabilities\n",
    "\n",
    "\n",
    "\n",
    "# Fit the Voting Classifier\n",
    "voting_clf.fit(X_resampled, y_resampled)\n",
    "\n",
    "# Predict on the test data\n",
    "y_pred = voting_clf.predict(X_test)\n",
    "\n",
    "# Evaluate the model\n",
    "print(\"Confusion Matrix:\\n\", confusion_matrix(y_test, y_pred))\n",
    "print(\"Classification Report:\\n\", classification_report(y_test, y_pred))\n"
   ]
  },
  {
   "cell_type": "code",
   "execution_count": null,
   "metadata": {},
   "outputs": [],
   "source": []
  },
  {
   "cell_type": "markdown",
   "metadata": {
    "id": "ApGjovQuZ85X"
   },
   "source": [
    "# **ANN-CLASSIFIER**"
   ]
  },
  {
   "cell_type": "code",
   "execution_count": 70,
   "metadata": {},
   "outputs": [
    {
     "name": "stdout",
     "output_type": "stream",
     "text": [
      "Defaulting to user installation because normal site-packages is not writeable\n",
      "Collecting tensorflow\n",
      "  Downloading tensorflow-2.17.0-cp39-cp39-win_amd64.whl (2.0 kB)\n",
      "Collecting tensorflow-intel==2.17.0\n",
      "  Downloading tensorflow_intel-2.17.0-cp39-cp39-win_amd64.whl (385.0 MB)\n",
      "Requirement already satisfied: setuptools in c:\\programdata\\anaconda3\\lib\\site-packages (from tensorflow-intel==2.17.0->tensorflow) (61.2.0)\n",
      "Collecting numpy<2.0.0,>=1.23.5\n",
      "  Downloading numpy-1.26.4-cp39-cp39-win_amd64.whl (15.8 MB)\n",
      "Requirement already satisfied: typing-extensions>=3.6.6 in c:\\programdata\\anaconda3\\lib\\site-packages (from tensorflow-intel==2.17.0->tensorflow) (4.1.1)\n",
      "Collecting keras>=3.2.0\n",
      "  Downloading keras-3.5.0-py3-none-any.whl (1.1 MB)\n",
      "Requirement already satisfied: requests<3,>=2.21.0 in c:\\programdata\\anaconda3\\lib\\site-packages (from tensorflow-intel==2.17.0->tensorflow) (2.27.1)\n",
      "Collecting libclang>=13.0.0\n",
      "  Downloading libclang-18.1.1-py2.py3-none-win_amd64.whl (26.4 MB)\n",
      "Collecting gast!=0.5.0,!=0.5.1,!=0.5.2,>=0.2.1\n",
      "  Downloading gast-0.6.0-py3-none-any.whl (21 kB)\n",
      "Requirement already satisfied: six>=1.12.0 in c:\\programdata\\anaconda3\\lib\\site-packages (from tensorflow-intel==2.17.0->tensorflow) (1.16.0)\n",
      "Requirement already satisfied: packaging in c:\\programdata\\anaconda3\\lib\\site-packages (from tensorflow-intel==2.17.0->tensorflow) (21.3)\n",
      "Collecting tensorboard<2.18,>=2.17\n",
      "  Downloading tensorboard-2.17.1-py3-none-any.whl (5.5 MB)\n",
      "Collecting absl-py>=1.0.0\n",
      "  Downloading absl_py-2.1.0-py3-none-any.whl (133 kB)\n",
      "Collecting flatbuffers>=24.3.25\n",
      "  Downloading flatbuffers-24.3.25-py2.py3-none-any.whl (26 kB)\n",
      "Requirement already satisfied: grpcio<2.0,>=1.24.3 in c:\\programdata\\anaconda3\\lib\\site-packages (from tensorflow-intel==2.17.0->tensorflow) (1.42.0)\n",
      "Collecting opt-einsum>=2.3.2\n",
      "  Downloading opt_einsum-3.3.0-py3-none-any.whl (65 kB)\n",
      "Collecting protobuf!=4.21.0,!=4.21.1,!=4.21.2,!=4.21.3,!=4.21.4,!=4.21.5,<5.0.0dev,>=3.20.3\n",
      "  Downloading protobuf-4.25.4-cp39-cp39-win_amd64.whl (413 kB)\n",
      "Collecting google-pasta>=0.1.1\n",
      "  Downloading google_pasta-0.2.0-py3-none-any.whl (57 kB)\n",
      "Collecting h5py>=3.10.0\n",
      "  Downloading h5py-3.11.0-cp39-cp39-win_amd64.whl (3.0 MB)\n",
      "Requirement already satisfied: wrapt>=1.11.0 in c:\\programdata\\anaconda3\\lib\\site-packages (from tensorflow-intel==2.17.0->tensorflow) (1.12.1)\n",
      "Collecting ml-dtypes<0.5.0,>=0.3.1\n",
      "  Downloading ml_dtypes-0.4.0-cp39-cp39-win_amd64.whl (126 kB)\n",
      "Collecting astunparse>=1.6.0\n",
      "  Downloading astunparse-1.6.3-py2.py3-none-any.whl (12 kB)\n",
      "Collecting tensorflow-io-gcs-filesystem>=0.23.1\n",
      "  Downloading tensorflow_io_gcs_filesystem-0.31.0-cp39-cp39-win_amd64.whl (1.5 MB)\n",
      "Collecting termcolor>=1.1.0\n",
      "  Downloading termcolor-2.4.0-py3-none-any.whl (7.7 kB)\n",
      "Requirement already satisfied: wheel<1.0,>=0.23.0 in c:\\programdata\\anaconda3\\lib\\site-packages (from astunparse>=1.6.0->tensorflow-intel==2.17.0->tensorflow) (0.37.1)\n",
      "Collecting namex\n",
      "  Downloading namex-0.0.8-py3-none-any.whl (5.8 kB)\n",
      "Collecting rich\n",
      "  Downloading rich-13.8.0-py3-none-any.whl (241 kB)\n",
      "Collecting optree\n",
      "  Downloading optree-0.12.1-cp39-cp39-win_amd64.whl (263 kB)\n",
      "Requirement already satisfied: charset-normalizer~=2.0.0 in c:\\programdata\\anaconda3\\lib\\site-packages (from requests<3,>=2.21.0->tensorflow-intel==2.17.0->tensorflow) (2.0.4)\n",
      "Requirement already satisfied: idna<4,>=2.5 in c:\\programdata\\anaconda3\\lib\\site-packages (from requests<3,>=2.21.0->tensorflow-intel==2.17.0->tensorflow) (3.3)\n",
      "Requirement already satisfied: urllib3<1.27,>=1.21.1 in c:\\programdata\\anaconda3\\lib\\site-packages (from requests<3,>=2.21.0->tensorflow-intel==2.17.0->tensorflow) (1.26.9)\n",
      "Requirement already satisfied: certifi>=2017.4.17 in c:\\programdata\\anaconda3\\lib\\site-packages (from requests<3,>=2.21.0->tensorflow-intel==2.17.0->tensorflow) (2021.10.8)\n",
      "Collecting tensorboard-data-server<0.8.0,>=0.7.0\n",
      "  Downloading tensorboard_data_server-0.7.2-py3-none-any.whl (2.4 kB)\n",
      "Requirement already satisfied: markdown>=2.6.8 in c:\\programdata\\anaconda3\\lib\\site-packages (from tensorboard<2.18,>=2.17->tensorflow-intel==2.17.0->tensorflow) (3.3.4)\n",
      "Collecting grpcio<2.0,>=1.24.3\n",
      "  Downloading grpcio-1.66.1-cp39-cp39-win_amd64.whl (4.3 MB)\n",
      "Requirement already satisfied: werkzeug>=1.0.1 in c:\\programdata\\anaconda3\\lib\\site-packages (from tensorboard<2.18,>=2.17->tensorflow-intel==2.17.0->tensorflow) (2.0.3)\n",
      "Collecting typing-extensions>=3.6.6\n",
      "  Downloading typing_extensions-4.12.2-py3-none-any.whl (37 kB)\n",
      "Requirement already satisfied: pyparsing!=3.0.5,>=2.0.2 in c:\\programdata\\anaconda3\\lib\\site-packages (from packaging->tensorflow-intel==2.17.0->tensorflow) (3.0.4)\n",
      "Collecting pygments<3.0.0,>=2.13.0\n",
      "  Downloading pygments-2.18.0-py3-none-any.whl (1.2 MB)\n",
      "Collecting markdown-it-py>=2.2.0\n",
      "  Downloading markdown_it_py-3.0.0-py3-none-any.whl (87 kB)\n",
      "Collecting mdurl~=0.1\n",
      "  Downloading mdurl-0.1.2-py3-none-any.whl (10.0 kB)\n",
      "Installing collected packages: mdurl, typing-extensions, pygments, numpy, markdown-it-py, tensorboard-data-server, rich, protobuf, optree, namex, ml-dtypes, h5py, grpcio, absl-py, termcolor, tensorflow-io-gcs-filesystem, tensorboard, opt-einsum, libclang, keras, google-pasta, gast, flatbuffers, astunparse, tensorflow-intel, tensorflow\n",
      "Successfully installed absl-py-2.1.0 astunparse-1.6.3 flatbuffers-24.3.25 gast-0.6.0 google-pasta-0.2.0 grpcio-1.66.1 h5py-3.11.0 keras-3.5.0 libclang-18.1.1 markdown-it-py-3.0.0 mdurl-0.1.2 ml-dtypes-0.4.0 namex-0.0.8 numpy-1.26.4 opt-einsum-3.3.0 optree-0.12.1 protobuf-4.25.4 pygments-2.18.0 rich-13.8.0 tensorboard-2.17.1 tensorboard-data-server-0.7.2 tensorflow-2.17.0 tensorflow-intel-2.17.0 tensorflow-io-gcs-filesystem-0.31.0 termcolor-2.4.0 typing-extensions-4.12.2\n",
      "Note: you may need to restart the kernel to use updated packages.\n"
     ]
    },
    {
     "name": "stderr",
     "output_type": "stream",
     "text": [
      "  WARNING: The script pygmentize.exe is installed in 'C:\\Users\\dv23319\\AppData\\Roaming\\Python\\Python39\\Scripts' which is not on PATH.\n",
      "  Consider adding this directory to PATH or, if you prefer to suppress this warning, use --no-warn-script-location.\n",
      "  WARNING: The script f2py.exe is installed in 'C:\\Users\\dv23319\\AppData\\Roaming\\Python\\Python39\\Scripts' which is not on PATH.\n",
      "  Consider adding this directory to PATH or, if you prefer to suppress this warning, use --no-warn-script-location.\n",
      "  WARNING: The script markdown-it.exe is installed in 'C:\\Users\\dv23319\\AppData\\Roaming\\Python\\Python39\\Scripts' which is not on PATH.\n",
      "  Consider adding this directory to PATH or, if you prefer to suppress this warning, use --no-warn-script-location.\n",
      "  WARNING: The script tensorboard.exe is installed in 'C:\\Users\\dv23319\\AppData\\Roaming\\Python\\Python39\\Scripts' which is not on PATH.\n",
      "  Consider adding this directory to PATH or, if you prefer to suppress this warning, use --no-warn-script-location.\n",
      "  WARNING: The scripts import_pb_to_tensorboard.exe, saved_model_cli.exe, tensorboard.exe, tf_upgrade_v2.exe, tflite_convert.exe, toco.exe and toco_from_protos.exe are installed in 'C:\\Users\\dv23319\\AppData\\Roaming\\Python\\Python39\\Scripts' which is not on PATH.\n",
      "  Consider adding this directory to PATH or, if you prefer to suppress this warning, use --no-warn-script-location.\n",
      "ERROR: pip's dependency resolver does not currently take into account all the packages that are installed. This behaviour is the source of the following dependency conflicts.\n",
      "spyder 5.1.5 requires pyqt5<5.13, which is not installed.\n",
      "spyder 5.1.5 requires pyqtwebengine<5.13, which is not installed.\n",
      "daal4py 2021.5.0 requires daal==2021.4.0, which is not installed.\n",
      "scipy 1.7.3 requires numpy<1.23.0,>=1.16.5, but you have numpy 1.26.4 which is incompatible.\n",
      "numba 0.55.1 requires numpy<1.22,>=1.18, but you have numpy 1.26.4 which is incompatible.\n",
      "jupyter-server 1.13.5 requires pywinpty<2; os_name == \"nt\", but you have pywinpty 2.0.2 which is incompatible.\n"
     ]
    }
   ],
   "source": [
    "pip install tensorflow\n"
   ]
  },
  {
   "cell_type": "code",
   "execution_count": 54,
   "metadata": {
    "id": "C-tP6mbXZ7Px"
   },
   "outputs": [],
   "source": [
    "from tensorflow.keras.models import Sequential\n",
    "from tensorflow.keras.layers import Dense, Dropout\n",
    "from tensorflow.keras.optimizers import Adam\n",
    "from sklearn.metrics import accuracy_score, confusion_matrix, classification_report\n"
   ]
  },
  {
   "cell_type": "code",
   "execution_count": 56,
   "metadata": {
    "colab": {
     "base_uri": "https://localhost:8080/"
    },
    "id": "pspiv1xzh0-t",
    "outputId": "c336dbf3-8e79-4821-a31c-8b9514043545"
   },
   "outputs": [
    {
     "name": "stdout",
     "output_type": "stream",
     "text": [
      "Epoch 1/100\n"
     ]
    },
    {
     "name": "stderr",
     "output_type": "stream",
     "text": [
      "C:\\Users\\dv23319\\AppData\\Roaming\\Python\\Python39\\site-packages\\keras\\src\\layers\\core\\dense.py:87: UserWarning: Do not pass an `input_shape`/`input_dim` argument to a layer. When using Sequential models, prefer using an `Input(shape)` object as the first layer in the model instead.\n",
      "  super().__init__(activity_regularizer=activity_regularizer, **kwargs)\n"
     ]
    },
    {
     "name": "stdout",
     "output_type": "stream",
     "text": [
      "\u001b[1m2801/2801\u001b[0m \u001b[32m━━━━━━━━━━━━━━━━━━━━\u001b[0m\u001b[37m\u001b[0m \u001b[1m3s\u001b[0m 918us/step - accuracy: 0.6964 - loss: 0.5770 - val_accuracy: 0.6832 - val_loss: 0.6812\n",
      "Epoch 2/100\n",
      "\u001b[1m2801/2801\u001b[0m \u001b[32m━━━━━━━━━━━━━━━━━━━━\u001b[0m\u001b[37m\u001b[0m \u001b[1m2s\u001b[0m 880us/step - accuracy: 0.7458 - loss: 0.5103 - val_accuracy: 0.6728 - val_loss: 0.6775\n",
      "Epoch 3/100\n",
      "\u001b[1m2801/2801\u001b[0m \u001b[32m━━━━━━━━━━━━━━━━━━━━\u001b[0m\u001b[37m\u001b[0m \u001b[1m2s\u001b[0m 883us/step - accuracy: 0.7515 - loss: 0.5024 - val_accuracy: 0.6446 - val_loss: 0.6969\n",
      "Epoch 4/100\n",
      "\u001b[1m2801/2801\u001b[0m \u001b[32m━━━━━━━━━━━━━━━━━━━━\u001b[0m\u001b[37m\u001b[0m \u001b[1m2s\u001b[0m 882us/step - accuracy: 0.7529 - loss: 0.5011 - val_accuracy: 0.6651 - val_loss: 0.6623\n",
      "Epoch 5/100\n",
      "\u001b[1m2801/2801\u001b[0m \u001b[32m━━━━━━━━━━━━━━━━━━━━\u001b[0m\u001b[37m\u001b[0m \u001b[1m3s\u001b[0m 886us/step - accuracy: 0.7541 - loss: 0.4990 - val_accuracy: 0.6466 - val_loss: 0.6827\n",
      "Epoch 6/100\n",
      "\u001b[1m2801/2801\u001b[0m \u001b[32m━━━━━━━━━━━━━━━━━━━━\u001b[0m\u001b[37m\u001b[0m \u001b[1m2s\u001b[0m 881us/step - accuracy: 0.7515 - loss: 0.4986 - val_accuracy: 0.6683 - val_loss: 0.6671\n",
      "Epoch 7/100\n",
      "\u001b[1m2801/2801\u001b[0m \u001b[32m━━━━━━━━━━━━━━━━━━━━\u001b[0m\u001b[37m\u001b[0m \u001b[1m2s\u001b[0m 881us/step - accuracy: 0.7536 - loss: 0.4983 - val_accuracy: 0.6372 - val_loss: 0.7320\n",
      "Epoch 8/100\n",
      "\u001b[1m2801/2801\u001b[0m \u001b[32m━━━━━━━━━━━━━━━━━━━━\u001b[0m\u001b[37m\u001b[0m \u001b[1m3s\u001b[0m 886us/step - accuracy: 0.7547 - loss: 0.4953 - val_accuracy: 0.6391 - val_loss: 0.6866\n",
      "Epoch 9/100\n",
      "\u001b[1m2801/2801\u001b[0m \u001b[32m━━━━━━━━━━━━━━━━━━━━\u001b[0m\u001b[37m\u001b[0m \u001b[1m3s\u001b[0m 888us/step - accuracy: 0.7572 - loss: 0.4939 - val_accuracy: 0.6294 - val_loss: 0.7157\n",
      "Epoch 10/100\n",
      "\u001b[1m2801/2801\u001b[0m \u001b[32m━━━━━━━━━━━━━━━━━━━━\u001b[0m\u001b[37m\u001b[0m \u001b[1m2s\u001b[0m 875us/step - accuracy: 0.7541 - loss: 0.4941 - val_accuracy: 0.6410 - val_loss: 0.6950\n",
      "Epoch 11/100\n",
      "\u001b[1m2801/2801\u001b[0m \u001b[32m━━━━━━━━━━━━━━━━━━━━\u001b[0m\u001b[37m\u001b[0m \u001b[1m2s\u001b[0m 875us/step - accuracy: 0.7550 - loss: 0.4920 - val_accuracy: 0.6424 - val_loss: 0.6956\n",
      "Epoch 12/100\n",
      "\u001b[1m2801/2801\u001b[0m \u001b[32m━━━━━━━━━━━━━━━━━━━━\u001b[0m\u001b[37m\u001b[0m \u001b[1m2s\u001b[0m 869us/step - accuracy: 0.7576 - loss: 0.4914 - val_accuracy: 0.6479 - val_loss: 0.6892\n",
      "Epoch 13/100\n",
      "\u001b[1m2801/2801\u001b[0m \u001b[32m━━━━━━━━━━━━━━━━━━━━\u001b[0m\u001b[37m\u001b[0m \u001b[1m2s\u001b[0m 871us/step - accuracy: 0.7551 - loss: 0.4954 - val_accuracy: 0.6551 - val_loss: 0.6734\n",
      "Epoch 14/100\n",
      "\u001b[1m2801/2801\u001b[0m \u001b[32m━━━━━━━━━━━━━━━━━━━━\u001b[0m\u001b[37m\u001b[0m \u001b[1m2s\u001b[0m 881us/step - accuracy: 0.7581 - loss: 0.4906 - val_accuracy: 0.6420 - val_loss: 0.7108\n",
      "Epoch 15/100\n",
      "\u001b[1m2801/2801\u001b[0m \u001b[32m━━━━━━━━━━━━━━━━━━━━\u001b[0m\u001b[37m\u001b[0m \u001b[1m2s\u001b[0m 875us/step - accuracy: 0.7542 - loss: 0.4922 - val_accuracy: 0.6715 - val_loss: 0.6612\n",
      "Epoch 16/100\n",
      "\u001b[1m2801/2801\u001b[0m \u001b[32m━━━━━━━━━━━━━━━━━━━━\u001b[0m\u001b[37m\u001b[0m \u001b[1m2s\u001b[0m 870us/step - accuracy: 0.7576 - loss: 0.4909 - val_accuracy: 0.6788 - val_loss: 0.7048\n",
      "Epoch 17/100\n",
      "\u001b[1m2801/2801\u001b[0m \u001b[32m━━━━━━━━━━━━━━━━━━━━\u001b[0m\u001b[37m\u001b[0m \u001b[1m3s\u001b[0m 888us/step - accuracy: 0.7565 - loss: 0.4934 - val_accuracy: 0.6848 - val_loss: 0.6534\n",
      "Epoch 18/100\n",
      "\u001b[1m2801/2801\u001b[0m \u001b[32m━━━━━━━━━━━━━━━━━━━━\u001b[0m\u001b[37m\u001b[0m \u001b[1m2s\u001b[0m 880us/step - accuracy: 0.7546 - loss: 0.4924 - val_accuracy: 0.6691 - val_loss: 0.6582\n",
      "Epoch 19/100\n",
      "\u001b[1m2801/2801\u001b[0m \u001b[32m━━━━━━━━━━━━━━━━━━━━\u001b[0m\u001b[37m\u001b[0m \u001b[1m3s\u001b[0m 887us/step - accuracy: 0.7543 - loss: 0.4950 - val_accuracy: 0.6341 - val_loss: 0.6921\n",
      "Epoch 20/100\n",
      "\u001b[1m2801/2801\u001b[0m \u001b[32m━━━━━━━━━━━━━━━━━━━━\u001b[0m\u001b[37m\u001b[0m \u001b[1m2s\u001b[0m 882us/step - accuracy: 0.7570 - loss: 0.4914 - val_accuracy: 0.6492 - val_loss: 0.6719\n",
      "Epoch 21/100\n",
      "\u001b[1m2801/2801\u001b[0m \u001b[32m━━━━━━━━━━━━━━━━━━━━\u001b[0m\u001b[37m\u001b[0m \u001b[1m2s\u001b[0m 870us/step - accuracy: 0.7590 - loss: 0.4898 - val_accuracy: 0.6684 - val_loss: 0.6813\n",
      "Epoch 22/100\n",
      "\u001b[1m2801/2801\u001b[0m \u001b[32m━━━━━━━━━━━━━━━━━━━━\u001b[0m\u001b[37m\u001b[0m \u001b[1m2s\u001b[0m 882us/step - accuracy: 0.7570 - loss: 0.4923 - val_accuracy: 0.6634 - val_loss: 0.6673\n",
      "Epoch 23/100\n",
      "\u001b[1m2801/2801\u001b[0m \u001b[32m━━━━━━━━━━━━━━━━━━━━\u001b[0m\u001b[37m\u001b[0m \u001b[1m2s\u001b[0m 881us/step - accuracy: 0.7558 - loss: 0.4920 - val_accuracy: 0.6785 - val_loss: 0.6534\n",
      "Epoch 24/100\n",
      "\u001b[1m2801/2801\u001b[0m \u001b[32m━━━━━━━━━━━━━━━━━━━━\u001b[0m\u001b[37m\u001b[0m \u001b[1m3s\u001b[0m 896us/step - accuracy: 0.7580 - loss: 0.4907 - val_accuracy: 0.6551 - val_loss: 0.6622\n",
      "Epoch 25/100\n",
      "\u001b[1m2801/2801\u001b[0m \u001b[32m━━━━━━━━━━━━━━━━━━━━\u001b[0m\u001b[37m\u001b[0m \u001b[1m3s\u001b[0m 882us/step - accuracy: 0.7542 - loss: 0.4943 - val_accuracy: 0.6775 - val_loss: 0.6588\n",
      "Epoch 26/100\n",
      "\u001b[1m2801/2801\u001b[0m \u001b[32m━━━━━━━━━━━━━━━━━━━━\u001b[0m\u001b[37m\u001b[0m \u001b[1m2s\u001b[0m 883us/step - accuracy: 0.7568 - loss: 0.4920 - val_accuracy: 0.6787 - val_loss: 0.6433\n",
      "Epoch 27/100\n",
      "\u001b[1m2801/2801\u001b[0m \u001b[32m━━━━━━━━━━━━━━━━━━━━\u001b[0m\u001b[37m\u001b[0m \u001b[1m2s\u001b[0m 882us/step - accuracy: 0.7568 - loss: 0.4920 - val_accuracy: 0.6559 - val_loss: 0.6510\n",
      "Epoch 28/100\n",
      "\u001b[1m2801/2801\u001b[0m \u001b[32m━━━━━━━━━━━━━━━━━━━━\u001b[0m\u001b[37m\u001b[0m \u001b[1m2s\u001b[0m 882us/step - accuracy: 0.7567 - loss: 0.4896 - val_accuracy: 0.6785 - val_loss: 0.6611\n",
      "Epoch 29/100\n",
      "\u001b[1m2801/2801\u001b[0m \u001b[32m━━━━━━━━━━━━━━━━━━━━\u001b[0m\u001b[37m\u001b[0m \u001b[1m2s\u001b[0m 875us/step - accuracy: 0.7553 - loss: 0.4912 - val_accuracy: 0.6982 - val_loss: 0.6458\n",
      "Epoch 30/100\n",
      "\u001b[1m2801/2801\u001b[0m \u001b[32m━━━━━━━━━━━━━━━━━━━━\u001b[0m\u001b[37m\u001b[0m \u001b[1m2s\u001b[0m 875us/step - accuracy: 0.7571 - loss: 0.4909 - val_accuracy: 0.7026 - val_loss: 0.6473\n",
      "Epoch 31/100\n",
      "\u001b[1m2801/2801\u001b[0m \u001b[32m━━━━━━━━━━━━━━━━━━━━\u001b[0m\u001b[37m\u001b[0m \u001b[1m2s\u001b[0m 881us/step - accuracy: 0.7520 - loss: 0.4935 - val_accuracy: 0.6641 - val_loss: 0.6704\n",
      "Epoch 32/100\n",
      "\u001b[1m2801/2801\u001b[0m \u001b[32m━━━━━━━━━━━━━━━━━━━━\u001b[0m\u001b[37m\u001b[0m \u001b[1m3s\u001b[0m 889us/step - accuracy: 0.7564 - loss: 0.4915 - val_accuracy: 0.6671 - val_loss: 0.6482\n",
      "Epoch 33/100\n",
      "\u001b[1m2801/2801\u001b[0m \u001b[32m━━━━━━━━━━━━━━━━━━━━\u001b[0m\u001b[37m\u001b[0m \u001b[1m2s\u001b[0m 880us/step - accuracy: 0.7572 - loss: 0.4900 - val_accuracy: 0.6935 - val_loss: 0.6256\n",
      "Epoch 34/100\n",
      "\u001b[1m2801/2801\u001b[0m \u001b[32m━━━━━━━━━━━━━━━━━━━━\u001b[0m\u001b[37m\u001b[0m \u001b[1m2s\u001b[0m 881us/step - accuracy: 0.7566 - loss: 0.4916 - val_accuracy: 0.6662 - val_loss: 0.6824\n",
      "Epoch 35/100\n",
      "\u001b[1m2801/2801\u001b[0m \u001b[32m━━━━━━━━━━━━━━━━━━━━\u001b[0m\u001b[37m\u001b[0m \u001b[1m3s\u001b[0m 893us/step - accuracy: 0.7595 - loss: 0.4908 - val_accuracy: 0.6513 - val_loss: 0.6893\n",
      "Epoch 36/100\n",
      "\u001b[1m2801/2801\u001b[0m \u001b[32m━━━━━━━━━━━━━━━━━━━━\u001b[0m\u001b[37m\u001b[0m \u001b[1m2s\u001b[0m 880us/step - accuracy: 0.7555 - loss: 0.4940 - val_accuracy: 0.6422 - val_loss: 0.6993\n",
      "Epoch 37/100\n",
      "\u001b[1m2801/2801\u001b[0m \u001b[32m━━━━━━━━━━━━━━━━━━━━\u001b[0m\u001b[37m\u001b[0m \u001b[1m2s\u001b[0m 875us/step - accuracy: 0.7573 - loss: 0.4906 - val_accuracy: 0.6538 - val_loss: 0.6955\n",
      "Epoch 38/100\n",
      "\u001b[1m2801/2801\u001b[0m \u001b[32m━━━━━━━━━━━━━━━━━━━━\u001b[0m\u001b[37m\u001b[0m \u001b[1m2s\u001b[0m 875us/step - accuracy: 0.7592 - loss: 0.4891 - val_accuracy: 0.6585 - val_loss: 0.6967\n",
      "Epoch 39/100\n",
      "\u001b[1m2801/2801\u001b[0m \u001b[32m━━━━━━━━━━━━━━━━━━━━\u001b[0m\u001b[37m\u001b[0m \u001b[1m2s\u001b[0m 869us/step - accuracy: 0.7572 - loss: 0.4891 - val_accuracy: 0.6881 - val_loss: 0.6344\n",
      "Epoch 40/100\n",
      "\u001b[1m2801/2801\u001b[0m \u001b[32m━━━━━━━━━━━━━━━━━━━━\u001b[0m\u001b[37m\u001b[0m \u001b[1m2s\u001b[0m 865us/step - accuracy: 0.7577 - loss: 0.4888 - val_accuracy: 0.7047 - val_loss: 0.6132\n",
      "Epoch 41/100\n",
      "\u001b[1m2801/2801\u001b[0m \u001b[32m━━━━━━━━━━━━━━━━━━━━\u001b[0m\u001b[37m\u001b[0m \u001b[1m2s\u001b[0m 862us/step - accuracy: 0.7553 - loss: 0.4924 - val_accuracy: 0.6525 - val_loss: 0.6968\n",
      "Epoch 42/100\n",
      "\u001b[1m2801/2801\u001b[0m \u001b[32m━━━━━━━━━━━━━━━━━━━━\u001b[0m\u001b[37m\u001b[0m \u001b[1m2s\u001b[0m 881us/step - accuracy: 0.7615 - loss: 0.4873 - val_accuracy: 0.6793 - val_loss: 0.6334\n",
      "Epoch 43/100\n",
      "\u001b[1m2801/2801\u001b[0m \u001b[32m━━━━━━━━━━━━━━━━━━━━\u001b[0m\u001b[37m\u001b[0m \u001b[1m2s\u001b[0m 876us/step - accuracy: 0.7575 - loss: 0.4915 - val_accuracy: 0.6674 - val_loss: 0.6685\n",
      "Epoch 44/100\n",
      "\u001b[1m2801/2801\u001b[0m \u001b[32m━━━━━━━━━━━━━━━━━━━━\u001b[0m\u001b[37m\u001b[0m \u001b[1m3s\u001b[0m 886us/step - accuracy: 0.7558 - loss: 0.4909 - val_accuracy: 0.6696 - val_loss: 0.6871\n",
      "Epoch 45/100\n",
      "\u001b[1m2801/2801\u001b[0m \u001b[32m━━━━━━━━━━━━━━━━━━━━\u001b[0m\u001b[37m\u001b[0m \u001b[1m2s\u001b[0m 882us/step - accuracy: 0.7591 - loss: 0.4897 - val_accuracy: 0.6689 - val_loss: 0.6716\n",
      "Epoch 46/100\n",
      "\u001b[1m2801/2801\u001b[0m \u001b[32m━━━━━━━━━━━━━━━━━━━━\u001b[0m\u001b[37m\u001b[0m \u001b[1m2s\u001b[0m 882us/step - accuracy: 0.7563 - loss: 0.4884 - val_accuracy: 0.6533 - val_loss: 0.6939\n",
      "Epoch 47/100\n",
      "\u001b[1m2801/2801\u001b[0m \u001b[32m━━━━━━━━━━━━━━━━━━━━\u001b[0m\u001b[37m\u001b[0m \u001b[1m2s\u001b[0m 881us/step - accuracy: 0.7575 - loss: 0.4903 - val_accuracy: 0.6909 - val_loss: 0.6456\n",
      "Epoch 48/100\n",
      "\u001b[1m2801/2801\u001b[0m \u001b[32m━━━━━━━━━━━━━━━━━━━━\u001b[0m\u001b[37m\u001b[0m \u001b[1m2s\u001b[0m 878us/step - accuracy: 0.7588 - loss: 0.4874 - val_accuracy: 0.6544 - val_loss: 0.6822\n",
      "Epoch 49/100\n",
      "\u001b[1m2801/2801\u001b[0m \u001b[32m━━━━━━━━━━━━━━━━━━━━\u001b[0m\u001b[37m\u001b[0m \u001b[1m3s\u001b[0m 887us/step - accuracy: 0.7548 - loss: 0.4929 - val_accuracy: 0.6573 - val_loss: 0.6697\n",
      "Epoch 50/100\n",
      "\u001b[1m2801/2801\u001b[0m \u001b[32m━━━━━━━━━━━━━━━━━━━━\u001b[0m\u001b[37m\u001b[0m \u001b[1m2s\u001b[0m 875us/step - accuracy: 0.7603 - loss: 0.4858 - val_accuracy: 0.6831 - val_loss: 0.6703\n",
      "Epoch 51/100\n",
      "\u001b[1m2801/2801\u001b[0m \u001b[32m━━━━━━━━━━━━━━━━━━━━\u001b[0m\u001b[37m\u001b[0m \u001b[1m2s\u001b[0m 880us/step - accuracy: 0.7579 - loss: 0.4885 - val_accuracy: 0.6579 - val_loss: 0.6703\n",
      "Epoch 52/100\n",
      "\u001b[1m2801/2801\u001b[0m \u001b[32m━━━━━━━━━━━━━━━━━━━━\u001b[0m\u001b[37m\u001b[0m \u001b[1m2s\u001b[0m 887us/step - accuracy: 0.7583 - loss: 0.4890 - val_accuracy: 0.6778 - val_loss: 0.6556\n",
      "Epoch 53/100\n",
      "\u001b[1m2801/2801\u001b[0m \u001b[32m━━━━━━━━━━━━━━━━━━━━\u001b[0m\u001b[37m\u001b[0m \u001b[1m2s\u001b[0m 881us/step - accuracy: 0.7572 - loss: 0.4885 - val_accuracy: 0.6892 - val_loss: 0.6279\n",
      "Epoch 54/100\n",
      "\u001b[1m2801/2801\u001b[0m \u001b[32m━━━━━━━━━━━━━━━━━━━━\u001b[0m\u001b[37m\u001b[0m \u001b[1m2s\u001b[0m 881us/step - accuracy: 0.7572 - loss: 0.4912 - val_accuracy: 0.6754 - val_loss: 0.6858\n",
      "Epoch 55/100\n",
      "\u001b[1m2801/2801\u001b[0m \u001b[32m━━━━━━━━━━━━━━━━━━━━\u001b[0m\u001b[37m\u001b[0m \u001b[1m2s\u001b[0m 881us/step - accuracy: 0.7598 - loss: 0.4906 - val_accuracy: 0.6821 - val_loss: 0.6562\n",
      "Epoch 56/100\n",
      "\u001b[1m2801/2801\u001b[0m \u001b[32m━━━━━━━━━━━━━━━━━━━━\u001b[0m\u001b[37m\u001b[0m \u001b[1m2s\u001b[0m 876us/step - accuracy: 0.7587 - loss: 0.4880 - val_accuracy: 0.6504 - val_loss: 0.7072\n",
      "Epoch 57/100\n",
      "\u001b[1m2801/2801\u001b[0m \u001b[32m━━━━━━━━━━━━━━━━━━━━\u001b[0m\u001b[37m\u001b[0m \u001b[1m3s\u001b[0m 886us/step - accuracy: 0.7572 - loss: 0.4897 - val_accuracy: 0.6645 - val_loss: 0.6608\n",
      "Epoch 58/100\n",
      "\u001b[1m2801/2801\u001b[0m \u001b[32m━━━━━━━━━━━━━━━━━━━━\u001b[0m\u001b[37m\u001b[0m \u001b[1m2s\u001b[0m 881us/step - accuracy: 0.7551 - loss: 0.4924 - val_accuracy: 0.6806 - val_loss: 0.6532\n",
      "Epoch 59/100\n",
      "\u001b[1m2801/2801\u001b[0m \u001b[32m━━━━━━━━━━━━━━━━━━━━\u001b[0m\u001b[37m\u001b[0m \u001b[1m3s\u001b[0m 893us/step - accuracy: 0.7575 - loss: 0.4900 - val_accuracy: 0.6860 - val_loss: 0.6534\n",
      "Epoch 60/100\n",
      "\u001b[1m2801/2801\u001b[0m \u001b[32m━━━━━━━━━━━━━━━━━━━━\u001b[0m\u001b[37m\u001b[0m \u001b[1m2s\u001b[0m 881us/step - accuracy: 0.7587 - loss: 0.4884 - val_accuracy: 0.6773 - val_loss: 0.6536\n",
      "Epoch 61/100\n",
      "\u001b[1m2801/2801\u001b[0m \u001b[32m━━━━━━━━━━━━━━━━━━━━\u001b[0m\u001b[37m\u001b[0m \u001b[1m3s\u001b[0m 888us/step - accuracy: 0.7564 - loss: 0.4917 - val_accuracy: 0.6594 - val_loss: 0.7013\n",
      "Epoch 62/100\n",
      "\u001b[1m2801/2801\u001b[0m \u001b[32m━━━━━━━━━━━━━━━━━━━━\u001b[0m\u001b[37m\u001b[0m \u001b[1m3s\u001b[0m 887us/step - accuracy: 0.7595 - loss: 0.4827 - val_accuracy: 0.6636 - val_loss: 0.6720\n",
      "Epoch 63/100\n",
      "\u001b[1m2801/2801\u001b[0m \u001b[32m━━━━━━━━━━━━━━━━━━━━\u001b[0m\u001b[37m\u001b[0m \u001b[1m2s\u001b[0m 883us/step - accuracy: 0.7573 - loss: 0.4877 - val_accuracy: 0.6610 - val_loss: 0.6723\n",
      "Epoch 64/100\n",
      "\u001b[1m2801/2801\u001b[0m \u001b[32m━━━━━━━━━━━━━━━━━━━━\u001b[0m\u001b[37m\u001b[0m \u001b[1m2s\u001b[0m 880us/step - accuracy: 0.7578 - loss: 0.4880 - val_accuracy: 0.6921 - val_loss: 0.6181\n",
      "Epoch 65/100\n",
      "\u001b[1m2801/2801\u001b[0m \u001b[32m━━━━━━━━━━━━━━━━━━━━\u001b[0m\u001b[37m\u001b[0m \u001b[1m2s\u001b[0m 877us/step - accuracy: 0.7585 - loss: 0.4901 - val_accuracy: 0.6852 - val_loss: 0.6539\n",
      "Epoch 66/100\n",
      "\u001b[1m2801/2801\u001b[0m \u001b[32m━━━━━━━━━━━━━━━━━━━━\u001b[0m\u001b[37m\u001b[0m \u001b[1m2s\u001b[0m 870us/step - accuracy: 0.7551 - loss: 0.4916 - val_accuracy: 0.6732 - val_loss: 0.6666\n",
      "Epoch 67/100\n",
      "\u001b[1m2801/2801\u001b[0m \u001b[32m━━━━━━━━━━━━━━━━━━━━\u001b[0m\u001b[37m\u001b[0m \u001b[1m2s\u001b[0m 871us/step - accuracy: 0.7603 - loss: 0.4864 - val_accuracy: 0.6914 - val_loss: 0.6471\n",
      "Epoch 68/100\n",
      "\u001b[1m2801/2801\u001b[0m \u001b[32m━━━━━━━━━━━━━━━━━━━━\u001b[0m\u001b[37m\u001b[0m \u001b[1m2s\u001b[0m 876us/step - accuracy: 0.7562 - loss: 0.4918 - val_accuracy: 0.6810 - val_loss: 0.6451\n",
      "Epoch 69/100\n",
      "\u001b[1m2801/2801\u001b[0m \u001b[32m━━━━━━━━━━━━━━━━━━━━\u001b[0m\u001b[37m\u001b[0m \u001b[1m2s\u001b[0m 881us/step - accuracy: 0.7588 - loss: 0.4880 - val_accuracy: 0.6685 - val_loss: 0.6766\n",
      "Epoch 70/100\n",
      "\u001b[1m2801/2801\u001b[0m \u001b[32m━━━━━━━━━━━━━━━━━━━━\u001b[0m\u001b[37m\u001b[0m \u001b[1m2s\u001b[0m 870us/step - accuracy: 0.7561 - loss: 0.4921 - val_accuracy: 0.6820 - val_loss: 0.6565\n",
      "Epoch 71/100\n",
      "\u001b[1m2801/2801\u001b[0m \u001b[32m━━━━━━━━━━━━━━━━━━━━\u001b[0m\u001b[37m\u001b[0m \u001b[1m2s\u001b[0m 870us/step - accuracy: 0.7597 - loss: 0.4869 - val_accuracy: 0.7139 - val_loss: 0.6201\n",
      "Epoch 72/100\n",
      "\u001b[1m2801/2801\u001b[0m \u001b[32m━━━━━━━━━━━━━━━━━━━━\u001b[0m\u001b[37m\u001b[0m \u001b[1m2s\u001b[0m 870us/step - accuracy: 0.7554 - loss: 0.4915 - val_accuracy: 0.6534 - val_loss: 0.7075\n",
      "Epoch 73/100\n",
      "\u001b[1m2801/2801\u001b[0m \u001b[32m━━━━━━━━━━━━━━━━━━━━\u001b[0m\u001b[37m\u001b[0m \u001b[1m3s\u001b[0m 886us/step - accuracy: 0.7568 - loss: 0.4902 - val_accuracy: 0.6757 - val_loss: 0.6685\n",
      "Epoch 74/100\n",
      "\u001b[1m2801/2801\u001b[0m \u001b[32m━━━━━━━━━━━━━━━━━━━━\u001b[0m\u001b[37m\u001b[0m \u001b[1m3s\u001b[0m 892us/step - accuracy: 0.7560 - loss: 0.4907 - val_accuracy: 0.6744 - val_loss: 0.6740\n",
      "Epoch 75/100\n",
      "\u001b[1m2801/2801\u001b[0m \u001b[32m━━━━━━━━━━━━━━━━━━━━\u001b[0m\u001b[37m\u001b[0m \u001b[1m3s\u001b[0m 886us/step - accuracy: 0.7576 - loss: 0.4899 - val_accuracy: 0.6649 - val_loss: 0.6761\n",
      "Epoch 76/100\n",
      "\u001b[1m2801/2801\u001b[0m \u001b[32m━━━━━━━━━━━━━━━━━━━━\u001b[0m\u001b[37m\u001b[0m \u001b[1m3s\u001b[0m 892us/step - accuracy: 0.7576 - loss: 0.4882 - val_accuracy: 0.6803 - val_loss: 0.6564\n",
      "Epoch 77/100\n",
      "\u001b[1m2801/2801\u001b[0m \u001b[32m━━━━━━━━━━━━━━━━━━━━\u001b[0m\u001b[37m\u001b[0m \u001b[1m2s\u001b[0m 876us/step - accuracy: 0.7589 - loss: 0.4899 - val_accuracy: 0.7099 - val_loss: 0.6230\n",
      "Epoch 78/100\n",
      "\u001b[1m2801/2801\u001b[0m \u001b[32m━━━━━━━━━━━━━━━━━━━━\u001b[0m\u001b[37m\u001b[0m \u001b[1m2s\u001b[0m 881us/step - accuracy: 0.7594 - loss: 0.4857 - val_accuracy: 0.6688 - val_loss: 0.6884\n",
      "Epoch 79/100\n",
      "\u001b[1m2801/2801\u001b[0m \u001b[32m━━━━━━━━━━━━━━━━━━━━\u001b[0m\u001b[37m\u001b[0m \u001b[1m2s\u001b[0m 881us/step - accuracy: 0.7576 - loss: 0.4879 - val_accuracy: 0.6871 - val_loss: 0.6555\n",
      "Epoch 80/100\n",
      "\u001b[1m2801/2801\u001b[0m \u001b[32m━━━━━━━━━━━━━━━━━━━━\u001b[0m\u001b[37m\u001b[0m \u001b[1m2s\u001b[0m 877us/step - accuracy: 0.7587 - loss: 0.4880 - val_accuracy: 0.6548 - val_loss: 0.7060\n",
      "Epoch 81/100\n",
      "\u001b[1m2801/2801\u001b[0m \u001b[32m━━━━━━━━━━━━━━━━━━━━\u001b[0m\u001b[37m\u001b[0m \u001b[1m3s\u001b[0m 888us/step - accuracy: 0.7610 - loss: 0.4849 - val_accuracy: 0.6739 - val_loss: 0.6842\n",
      "Epoch 82/100\n",
      "\u001b[1m2801/2801\u001b[0m \u001b[32m━━━━━━━━━━━━━━━━━━━━\u001b[0m\u001b[37m\u001b[0m \u001b[1m3s\u001b[0m 887us/step - accuracy: 0.7574 - loss: 0.4903 - val_accuracy: 0.6677 - val_loss: 0.6596\n",
      "Epoch 83/100\n",
      "\u001b[1m2801/2801\u001b[0m \u001b[32m━━━━━━━━━━━━━━━━━━━━\u001b[0m\u001b[37m\u001b[0m \u001b[1m2s\u001b[0m 887us/step - accuracy: 0.7592 - loss: 0.4917 - val_accuracy: 0.6797 - val_loss: 0.6406\n",
      "Epoch 84/100\n",
      "\u001b[1m2801/2801\u001b[0m \u001b[32m━━━━━━━━━━━━━━━━━━━━\u001b[0m\u001b[37m\u001b[0m \u001b[1m3s\u001b[0m 894us/step - accuracy: 0.7618 - loss: 0.4849 - val_accuracy: 0.6779 - val_loss: 0.6600\n",
      "Epoch 85/100\n",
      "\u001b[1m2801/2801\u001b[0m \u001b[32m━━━━━━━━━━━━━━━━━━━━\u001b[0m\u001b[37m\u001b[0m \u001b[1m3s\u001b[0m 893us/step - accuracy: 0.7593 - loss: 0.4876 - val_accuracy: 0.6645 - val_loss: 0.6870\n",
      "Epoch 86/100\n",
      "\u001b[1m2801/2801\u001b[0m \u001b[32m━━━━━━━━━━━━━━━━━━━━\u001b[0m\u001b[37m\u001b[0m \u001b[1m3s\u001b[0m 897us/step - accuracy: 0.7613 - loss: 0.4854 - val_accuracy: 0.6827 - val_loss: 0.6480\n",
      "Epoch 87/100\n",
      "\u001b[1m2801/2801\u001b[0m \u001b[32m━━━━━━━━━━━━━━━━━━━━\u001b[0m\u001b[37m\u001b[0m \u001b[1m3s\u001b[0m 892us/step - accuracy: 0.7585 - loss: 0.4877 - val_accuracy: 0.6719 - val_loss: 0.6922\n",
      "Epoch 88/100\n",
      "\u001b[1m2801/2801\u001b[0m \u001b[32m━━━━━━━━━━━━━━━━━━━━\u001b[0m\u001b[37m\u001b[0m \u001b[1m3s\u001b[0m 888us/step - accuracy: 0.7575 - loss: 0.4908 - val_accuracy: 0.6930 - val_loss: 0.6522\n",
      "Epoch 89/100\n",
      "\u001b[1m2801/2801\u001b[0m \u001b[32m━━━━━━━━━━━━━━━━━━━━\u001b[0m\u001b[37m\u001b[0m \u001b[1m2s\u001b[0m 880us/step - accuracy: 0.7575 - loss: 0.4875 - val_accuracy: 0.6925 - val_loss: 0.6165\n",
      "Epoch 90/100\n",
      "\u001b[1m2801/2801\u001b[0m \u001b[32m━━━━━━━━━━━━━━━━━━━━\u001b[0m\u001b[37m\u001b[0m \u001b[1m2s\u001b[0m 887us/step - accuracy: 0.7568 - loss: 0.4890 - val_accuracy: 0.6923 - val_loss: 0.6271\n",
      "Epoch 91/100\n",
      "\u001b[1m2801/2801\u001b[0m \u001b[32m━━━━━━━━━━━━━━━━━━━━\u001b[0m\u001b[37m\u001b[0m \u001b[1m2s\u001b[0m 869us/step - accuracy: 0.7586 - loss: 0.4888 - val_accuracy: 0.6690 - val_loss: 0.6549\n",
      "Epoch 92/100\n",
      "\u001b[1m2801/2801\u001b[0m \u001b[32m━━━━━━━━━━━━━━━━━━━━\u001b[0m\u001b[37m\u001b[0m \u001b[1m2s\u001b[0m 881us/step - accuracy: 0.7604 - loss: 0.4856 - val_accuracy: 0.6786 - val_loss: 0.6387\n",
      "Epoch 93/100\n",
      "\u001b[1m2801/2801\u001b[0m \u001b[32m━━━━━━━━━━━━━━━━━━━━\u001b[0m\u001b[37m\u001b[0m \u001b[1m3s\u001b[0m 891us/step - accuracy: 0.7574 - loss: 0.4880 - val_accuracy: 0.6466 - val_loss: 0.6873\n",
      "Epoch 94/100\n",
      "\u001b[1m2801/2801\u001b[0m \u001b[32m━━━━━━━━━━━━━━━━━━━━\u001b[0m\u001b[37m\u001b[0m \u001b[1m3s\u001b[0m 893us/step - accuracy: 0.7582 - loss: 0.4886 - val_accuracy: 0.6615 - val_loss: 0.6622\n",
      "Epoch 95/100\n",
      "\u001b[1m2801/2801\u001b[0m \u001b[32m━━━━━━━━━━━━━━━━━━━━\u001b[0m\u001b[37m\u001b[0m \u001b[1m2s\u001b[0m 880us/step - accuracy: 0.7593 - loss: 0.4878 - val_accuracy: 0.6635 - val_loss: 0.6575\n",
      "Epoch 96/100\n",
      "\u001b[1m2801/2801\u001b[0m \u001b[32m━━━━━━━━━━━━━━━━━━━━\u001b[0m\u001b[37m\u001b[0m \u001b[1m3s\u001b[0m 893us/step - accuracy: 0.7568 - loss: 0.4890 - val_accuracy: 0.6923 - val_loss: 0.6367\n",
      "Epoch 97/100\n",
      "\u001b[1m2801/2801\u001b[0m \u001b[32m━━━━━━━━━━━━━━━━━━━━\u001b[0m\u001b[37m\u001b[0m \u001b[1m3s\u001b[0m 892us/step - accuracy: 0.7609 - loss: 0.4871 - val_accuracy: 0.6434 - val_loss: 0.7036\n",
      "Epoch 98/100\n",
      "\u001b[1m2801/2801\u001b[0m \u001b[32m━━━━━━━━━━━━━━━━━━━━\u001b[0m\u001b[37m\u001b[0m \u001b[1m3s\u001b[0m 892us/step - accuracy: 0.7591 - loss: 0.4891 - val_accuracy: 0.6848 - val_loss: 0.6383\n",
      "Epoch 99/100\n",
      "\u001b[1m2801/2801\u001b[0m \u001b[32m━━━━━━━━━━━━━━━━━━━━\u001b[0m\u001b[37m\u001b[0m \u001b[1m2s\u001b[0m 881us/step - accuracy: 0.7588 - loss: 0.4893 - val_accuracy: 0.6724 - val_loss: 0.6712\n",
      "Epoch 100/100\n",
      "\u001b[1m2801/2801\u001b[0m \u001b[32m━━━━━━━━━━━━━━━━━━━━\u001b[0m\u001b[37m\u001b[0m \u001b[1m3s\u001b[0m 888us/step - accuracy: 0.7567 - loss: 0.4888 - val_accuracy: 0.6669 - val_loss: 0.6845\n",
      "\u001b[1m547/547\u001b[0m \u001b[32m━━━━━━━━━━━━━━━━━━━━\u001b[0m\u001b[37m\u001b[0m \u001b[1m0s\u001b[0m 670us/step\n",
      "Accuracy Score: 0.7854285714285715\n",
      "Confusion Matrix:\n",
      " [[11701  2525]\n",
      " [ 1230  2044]]\n",
      "Classification Report:\n",
      "               precision    recall  f1-score   support\n",
      "\n",
      "           0       0.90      0.82      0.86     14226\n",
      "           1       0.45      0.62      0.52      3274\n",
      "\n",
      "    accuracy                           0.79     17500\n",
      "   macro avg       0.68      0.72      0.69     17500\n",
      "weighted avg       0.82      0.79      0.80     17500\n",
      "\n"
     ]
    }
   ],
   "source": [
    "\n",
    "\n",
    "# Build the ANN model\n",
    "model = Sequential()\n",
    "model.add(Dense(64, input_dim=X_resampled.shape[1], activation='relu'))\n",
    "model.add(Dropout(0.5))  # Dropout layer with 50% dropout rate\n",
    "model.add(Dense(32, activation='relu'))\n",
    "model.add(Dropout(0.5))  # Dropout layer\n",
    "model.add(Dense(1, activation='sigmoid'))\n",
    "\n",
    "# Compile the model\n",
    "model.compile(optimizer='adam', loss='binary_crossentropy', metrics=['accuracy'])\n",
    "\n",
    "\n",
    "\n",
    "# Train the model\n",
    "history = model.fit(X_resampled, y_resampled, epochs=100, batch_size=32, validation_split=0.2, verbose=1)\n",
    "\n",
    "# Evaluate the model\n",
    "y_pred = (model.predict(X_test) > 0.5).astype(\"int32\")  # For binary classification\n",
    "\n",
    "# Print performance metrics\n",
    "print(\"Accuracy Score:\", accuracy_score(y_test, y_pred))\n",
    "print(\"Confusion Matrix:\\n\", confusion_matrix(y_test, y_pred))\n",
    "print(\"Classification Report:\\n\", classification_report(y_test, y_pred))\n"
   ]
  },
  {
   "cell_type": "markdown",
   "metadata": {
    "id": "pcjt4J12yV5E"
   },
   "source": [
    "# Hperparameter tunning for random forest"
   ]
  },
  {
   "cell_type": "code",
   "execution_count": 59,
   "metadata": {
    "colab": {
     "base_uri": "https://localhost:8080/",
     "height": 443
    },
    "id": "Sxcbomi-yaIP",
    "outputId": "9bb73341-f000-4139-9a82-f100db21a0d2"
   },
   "outputs": [],
   "source": [
    "from sklearn.ensemble import RandomForestClassifier\n",
    "from sklearn.model_selection import RandomizedSearchCV\n",
    "from sklearn.metrics import accuracy_score, precision_score, recall_score, f1_score, roc_auc_score, classification_report, confusion_matrix\n",
    "import numpy as np\n",
    "\n",
    "# Define the model\n",
    "Randomforest_model = RandomForestClassifier()\n",
    "\n",
    "# Define the parameter distributions to sample from\n",
    "param_distributions = {\n",
    "    'n_estimators': [50, 100, 200, 300, 400],\n",
    "    'max_depth': [None, 10, 20, 30, 40],\n",
    "    'min_samples_split': [2, 5, 10, 15],\n",
    "    'min_samples_leaf': [1, 2, 4, 6],\n",
    "    'max_features': ['auto', 'sqrt', 'log2'],\n",
    "    'bootstrap': [True, False]\n",
    "}\n",
    "\n"
   ]
  },
  {
   "cell_type": "code",
   "execution_count": null,
   "metadata": {},
   "outputs": [
    {
     "name": "stdout",
     "output_type": "stream",
     "text": [
      "Fitting 3 folds for each of 100 candidates, totalling 300 fits\n"
     ]
    }
   ],
   "source": [
    "# Set up RandomizedSearchCV\n",
    "random_search = RandomizedSearchCV(\n",
    "    estimator=Randomforest_model,\n",
    "    param_distributions=param_distributions,\n",
    "    n_iter=100,  # Number of different combinations to try\n",
    "    cv=3,        # Number of folds in cross-validation\n",
    "    verbose=2,   # Verbosity level\n",
    "    random_state=42,  # For reproducibility\n",
    "    n_jobs=-1    # Use all available cores\n",
    ")\n",
    "\n",
    "# Fit RandomizedSearchCV\n",
    "random_search.fit(X_resampled, y_resampled)\n",
    "\n",
    "# Print the best parameters and best score\n",
    "print(\"Best Parameters:\", random_search.best_params_)\n",
    "print(\"Best Score:\", random_search.best_score_)\n",
    "\n"
   ]
  },
  {
   "cell_type": "code",
   "execution_count": null,
   "metadata": {},
   "outputs": [],
   "source": [
    "# Get the best model\n",
    "best_rf_model = random_search.best_estimator_\n",
    "\n",
    "# Make predictions with the best model\n",
    "y_pred = best_rf_model.predict(X_test)\n",
    "\n",
    "# Evaluate the best model\n",
    "accuracy = accuracy_score(y_test, y_pred)\n",
    "precision = precision_score(y_test, y_pred)\n",
    "recall = recall_score(y_test, y_pred)\n",
    "f1 = f1_score(y_test, y_pred)\n",
    "roc_auc = roc_auc_score(y_test, best_rf_model.predict_proba(X_test)[:, 1])  # Probabilities for ROC AUC\n",
    "\n",
    "# Print performance metrics\n",
    "report = classification_report(y_test, y_pred)\n",
    "print(\"\\nClassification Report on Test Set:\")\n",
    "print(report)\n",
    "\n",
    "# Confusion Matrix\n",
    "conf_matrix = confusion_matrix(y_test, y_pred)\n",
    "print('Confusion Matrix:')\n",
    "print(conf_matrix)\n"
   ]
  }
 ],
 "metadata": {
  "accelerator": "GPU",
  "colab": {
   "gpuType": "T4",
   "provenance": []
  },
  "kernelspec": {
   "display_name": "Python 3 (ipykernel)",
   "language": "python",
   "name": "python3"
  },
  "language_info": {
   "codemirror_mode": {
    "name": "ipython",
    "version": 3
   },
   "file_extension": ".py",
   "mimetype": "text/x-python",
   "name": "python",
   "nbconvert_exporter": "python",
   "pygments_lexer": "ipython3",
   "version": "3.9.12"
  }
 },
 "nbformat": 4,
 "nbformat_minor": 1
}
